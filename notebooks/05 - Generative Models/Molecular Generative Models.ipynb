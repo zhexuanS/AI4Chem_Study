{
  "cells": [
    {
      "cell_type": "markdown",
      "metadata": {
        "id": "Xyty-1bA8JU0"
      },
      "source": [
        "<a href=\"https://colab.research.google.com/github/schwallergroup/ai4chem_course/blob/main/notebooks/05%20-%20Generative%20Models/Molecular%20Generative%20Models.ipynb\" target=\"_parent\"><img src=\"https://colab.research.google.com/assets/colab-badge.svg\" alt=\"Open In Colab\"/></a>"
      ]
    },
    {
      "cell_type": "code",
      "execution_count": 3,
      "metadata": {
        "id": "MPa7U-PM8JU1",
        "outputId": "30893359-e2b3-44ca-8c10-952e774d8410",
        "colab": {
          "base_uri": "https://localhost:8080/"
        }
      },
      "outputs": [
        {
          "output_type": "stream",
          "name": "stdout",
          "text": [
            "--2025-08-06 15:22:02--  https://raw.githubusercontent.com/schwallergroup/ai4chem_course/generative_models/notebooks/05%20-%20Generative%20Models/utils.py\n",
            "Resolving raw.githubusercontent.com (raw.githubusercontent.com)... 185.199.108.133, 185.199.109.133, 185.199.110.133, ...\n",
            "Connecting to raw.githubusercontent.com (raw.githubusercontent.com)|185.199.108.133|:443... connected.\n",
            "HTTP request sent, awaiting response... 200 OK\n",
            "Length: 2031 (2.0K) [text/plain]\n",
            "Saving to: ‘utils.py’\n",
            "\n",
            "\rutils.py              0%[                    ]       0  --.-KB/s               \rutils.py            100%[===================>]   1.98K  --.-KB/s    in 0s      \n",
            "\n",
            "2025-08-06 15:22:03 (26.3 MB/s) - ‘utils.py’ saved [2031/2031]\n",
            "\n",
            "--2025-08-06 15:22:03--  https://raw.githubusercontent.com/schwallergroup/ai4chem_course/generative_models/notebooks/05%20-%20Generative%20Models/data/pretrained.zinc.rnn.pth\n",
            "Resolving raw.githubusercontent.com (raw.githubusercontent.com)... 185.199.108.133, 185.199.109.133, 185.199.110.133, ...\n",
            "Connecting to raw.githubusercontent.com (raw.githubusercontent.com)|185.199.108.133|:443... connected.\n",
            "HTTP request sent, awaiting response... 200 OK\n",
            "Length: 25454495 (24M) [application/octet-stream]\n",
            "Saving to: ‘pretrained.rnn.pth’\n",
            "\n",
            "pretrained.rnn.pth  100%[===================>]  24.27M  60.4MB/s    in 0.4s    \n",
            "\n",
            "2025-08-06 15:22:04 (60.4 MB/s) - ‘pretrained.rnn.pth’ saved [25454495/25454495]\n",
            "\n",
            "--2025-08-06 15:22:04--  https://raw.githubusercontent.com/schwallergroup/ai4chem_course/generative_models/notebooks/05%20-%20Generative%20Models/data/pretrained.vae.pt\n",
            "Resolving raw.githubusercontent.com (raw.githubusercontent.com)... 185.199.109.133, 185.199.110.133, 185.199.108.133, ...\n",
            "Connecting to raw.githubusercontent.com (raw.githubusercontent.com)|185.199.109.133|:443... connected.\n",
            "HTTP request sent, awaiting response... 200 OK\n",
            "Length: 18455963 (18M) [application/octet-stream]\n",
            "Saving to: ‘pretrained.vae.pt’\n",
            "\n",
            "pretrained.vae.pt   100%[===================>]  17.60M  60.8MB/s    in 0.3s    \n",
            "\n",
            "2025-08-06 15:22:04 (60.8 MB/s) - ‘pretrained.vae.pt’ saved [18455963/18455963]\n",
            "\n",
            "Cloning into 'dl-chem-101'...\n",
            "remote: Enumerating objects: 342, done.\u001b[K\n",
            "remote: Counting objects: 100% (123/123), done.\u001b[K\n",
            "remote: Compressing objects: 100% (104/104), done.\u001b[K\n",
            "remote: Total 342 (delta 61), reused 42 (delta 16), pack-reused 219 (from 1)\u001b[K\n",
            "Receiving objects: 100% (342/342), 95.87 MiB | 11.58 MiB/s, done.\n",
            "Resolving deltas: 100% (127/127), done.\n",
            "Updating files: 100% (150/150), done.\n",
            "--2025-08-06 15:22:15--  https://raw.githubusercontent.com/schwallergroup/ai4chem_course/generative_models/notebooks/05%20-%20Generative%20Models/data/zinc.smi\n",
            "Resolving raw.githubusercontent.com (raw.githubusercontent.com)... 185.199.108.133, 185.199.109.133, 185.199.110.133, ...\n",
            "Connecting to raw.githubusercontent.com (raw.githubusercontent.com)|185.199.108.133|:443... connected.\n",
            "HTTP request sent, awaiting response... 200 OK\n",
            "Length: 2555340 (2.4M) [text/plain]\n",
            "Saving to: ‘zinc.smi’\n",
            "\n",
            "zinc.smi            100%[===================>]   2.44M  --.-KB/s    in 0.07s   \n",
            "\n",
            "2025-08-06 15:22:16 (33.0 MB/s) - ‘zinc.smi’ saved [2555340/2555340]\n",
            "\n",
            "Cloning into 'molecular-vae'...\n",
            "remote: Enumerating objects: 188, done.\u001b[K\n",
            "remote: Counting objects: 100% (3/3), done.\u001b[K\n",
            "remote: Compressing objects: 100% (3/3), done.\u001b[K\n",
            "remote: Total 188 (delta 0), reused 1 (delta 0), pack-reused 185 (from 1)\u001b[K\n",
            "Receiving objects: 100% (188/188), 2.99 MiB | 16.71 MiB/s, done.\n",
            "Resolving deltas: 100% (95/95), done.\n"
          ]
        }
      ],
      "source": [
        "# download a utils.py file containing some utility functions we will need\n",
        "!wget https://raw.githubusercontent.com/schwallergroup/ai4chem_course/generative_models/notebooks/05%20-%20Generative%20Models/utils.py -O utils.py\n",
        "# download the pre-trained RNN model\n",
        "!wget https://raw.githubusercontent.com/schwallergroup/ai4chem_course/generative_models/notebooks/05%20-%20Generative%20Models/data/pretrained.zinc.rnn.pth -O pretrained.rnn.pth\n",
        "# download the pre-trained VAE model\n",
        "!wget https://raw.githubusercontent.com/schwallergroup/ai4chem_course/generative_models/notebooks/05%20-%20Generative%20Models/data/pretrained.vae.pt -O pretrained.vae.pt\n",
        "# clone RNN generative model repository\n",
        "!git clone https://github.com/rociomer/dl-chem-101.git\n",
        "# download the RNN training data\n",
        "!wget https://raw.githubusercontent.com/schwallergroup/ai4chem_course/generative_models/notebooks/05%20-%20Generative%20Models/data/zinc.smi -O zinc.smi\n",
        "# clone repository to extract the compressed molecular data\n",
        "!git clone https://github.com/aksub99/molecular-vae.git\n",
        "import zipfile\n",
        "zip_ref = zipfile.ZipFile('molecular-vae/data/processed.zip', 'r')\n",
        "zip_ref.extractall('molecular-vae/data/')\n",
        "zip_ref.close()"
      ]
    },
    {
      "cell_type": "code",
      "execution_count": 2,
      "metadata": {
        "id": "kB_4L3y48JU2"
      },
      "outputs": [],
      "source": [
        "# -------------------------------------------------------------------------------------\n",
        "# -------------------------------------------------------------------------------------\n",
        "# -------------------------------------------------------------------------------------\n",
        "# WARNING: stop here for a moment - let us know when the above cell is finished running\n",
        "# -------------------------------------------------------------------------------------\n",
        "# -------------------------------------------------------------------------------------\n",
        "# -------------------------------------------------------------------------------------"
      ]
    },
    {
      "cell_type": "code",
      "execution_count": 4,
      "metadata": {
        "id": "zjunQ26U8JU2",
        "outputId": "1b2a4eb2-0aa4-4ee2-9326-d05354d7af10",
        "colab": {
          "base_uri": "https://localhost:8080/"
        }
      },
      "outputs": [
        {
          "output_type": "stream",
          "name": "stdout",
          "text": [
            "/content/dl-chem-101\n",
            "/content/dl-chem-101/03_gen_SMILES_LSTM\n",
            "Obtaining file:///content/dl-chem-101/03_gen_SMILES_LSTM\n",
            "  Preparing metadata (setup.py) ... \u001b[?25l\u001b[?25hdone\n",
            "Installing collected packages: smiles_lstm\n",
            "  Running setup.py develop for smiles_lstm\n",
            "Successfully installed smiles_lstm-1.0.0\n"
          ]
        }
      ],
      "source": [
        "# need to install the RNN repository as a package\n",
        "%cd dl-chem-101\n",
        "%cd 03_gen_SMILES_LSTM\n",
        "!pip install -e ."
      ]
    },
    {
      "cell_type": "code",
      "execution_count": 5,
      "metadata": {
        "id": "ixlFV7Bx8JU2",
        "outputId": "155fc695-ec97-4417-9f9f-b97e7fdd570a",
        "colab": {
          "base_uri": "https://localhost:8080/",
          "height": 1000
        }
      },
      "outputs": [
        {
          "output_type": "stream",
          "name": "stdout",
          "text": [
            "Collecting rdkit\n",
            "  Downloading rdkit-2025.3.5-cp311-cp311-manylinux_2_28_x86_64.whl.metadata (4.1 kB)\n",
            "Requirement already satisfied: numpy in /usr/local/lib/python3.11/dist-packages (from rdkit) (2.0.2)\n",
            "Requirement already satisfied: Pillow in /usr/local/lib/python3.11/dist-packages (from rdkit) (11.3.0)\n",
            "Downloading rdkit-2025.3.5-cp311-cp311-manylinux_2_28_x86_64.whl (36.3 MB)\n",
            "\u001b[2K   \u001b[90m━━━━━━━━━━━━━━━━━━━━━━━━━━━━━━━━━━━━━━━━\u001b[0m \u001b[32m36.3/36.3 MB\u001b[0m \u001b[31m36.1 MB/s\u001b[0m eta \u001b[36m0:00:00\u001b[0m\n",
            "\u001b[?25hInstalling collected packages: rdkit\n",
            "Successfully installed rdkit-2025.3.5\n",
            "Collecting molplotly\n",
            "  Downloading molplotly-1.1.8.tar.gz (16 kB)\n",
            "  Preparing metadata (setup.py) ... \u001b[?25l\u001b[?25hdone\n",
            "Discarding \u001b[4;34mhttps://files.pythonhosted.org/packages/39/40/c0d86942ba668d975570a0fbd7fe4224445198a90a64ec6f0c1cd3bf2527/molplotly-1.1.8.tar.gz (from https://pypi.org/simple/molplotly/)\u001b[0m: \u001b[33mRequested molplotly from https://files.pythonhosted.org/packages/39/40/c0d86942ba668d975570a0fbd7fe4224445198a90a64ec6f0c1cd3bf2527/molplotly-1.1.8.tar.gz has inconsistent version: expected '1.1.8', but metadata has '1.1.7'\u001b[0m\n",
            "  Downloading molplotly-1.1.7.tar.gz (16 kB)\n",
            "  Preparing metadata (setup.py) ... \u001b[?25l\u001b[?25hdone\n",
            "Collecting dash>=2.0.0 (from molplotly)\n",
            "  Downloading dash-3.2.0-py3-none-any.whl.metadata (10 kB)\n",
            "Requirement already satisfied: werkzeug>=2.0.0 in /usr/local/lib/python3.11/dist-packages (from molplotly) (3.1.3)\n",
            "Collecting jupyter-dash>=0.4.2 (from molplotly)\n",
            "  Downloading jupyter_dash-0.4.2-py3-none-any.whl.metadata (3.6 kB)\n",
            "Requirement already satisfied: plotly>=5.0.0 in /usr/local/lib/python3.11/dist-packages (from molplotly) (5.24.1)\n",
            "Collecting rdkit-pypi>=2021.9.4 (from molplotly)\n",
            "  Downloading rdkit_pypi-2022.9.5-cp311-cp311-manylinux_2_17_x86_64.manylinux2014_x86_64.whl.metadata (3.9 kB)\n",
            "Requirement already satisfied: pandas in /usr/local/lib/python3.11/dist-packages (from molplotly) (2.2.2)\n",
            "Requirement already satisfied: ipykernel in /usr/local/lib/python3.11/dist-packages (from molplotly) (6.17.1)\n",
            "Requirement already satisfied: nbformat in /usr/local/lib/python3.11/dist-packages (from molplotly) (5.10.4)\n",
            "Requirement already satisfied: Flask<3.2,>=1.0.4 in /usr/local/lib/python3.11/dist-packages (from dash>=2.0.0->molplotly) (3.1.1)\n",
            "Requirement already satisfied: importlib-metadata in /usr/local/lib/python3.11/dist-packages (from dash>=2.0.0->molplotly) (8.7.0)\n",
            "Requirement already satisfied: typing-extensions>=4.1.1 in /usr/local/lib/python3.11/dist-packages (from dash>=2.0.0->molplotly) (4.14.1)\n",
            "Requirement already satisfied: requests in /usr/local/lib/python3.11/dist-packages (from dash>=2.0.0->molplotly) (2.32.3)\n",
            "Collecting retrying (from dash>=2.0.0->molplotly)\n",
            "  Downloading retrying-1.4.2-py3-none-any.whl.metadata (5.5 kB)\n",
            "Requirement already satisfied: nest-asyncio in /usr/local/lib/python3.11/dist-packages (from dash>=2.0.0->molplotly) (1.6.0)\n",
            "Requirement already satisfied: setuptools in /usr/local/lib/python3.11/dist-packages (from dash>=2.0.0->molplotly) (75.2.0)\n",
            "Requirement already satisfied: ipython in /usr/local/lib/python3.11/dist-packages (from jupyter-dash>=0.4.2->molplotly) (7.34.0)\n",
            "Collecting ansi2html (from jupyter-dash>=0.4.2->molplotly)\n",
            "  Downloading ansi2html-1.9.2-py3-none-any.whl.metadata (3.7 kB)\n",
            "Requirement already satisfied: tenacity>=6.2.0 in /usr/local/lib/python3.11/dist-packages (from plotly>=5.0.0->molplotly) (8.5.0)\n",
            "Requirement already satisfied: packaging in /usr/local/lib/python3.11/dist-packages (from plotly>=5.0.0->molplotly) (25.0)\n",
            "Requirement already satisfied: numpy in /usr/local/lib/python3.11/dist-packages (from rdkit-pypi>=2021.9.4->molplotly) (2.0.2)\n",
            "Requirement already satisfied: Pillow in /usr/local/lib/python3.11/dist-packages (from rdkit-pypi>=2021.9.4->molplotly) (11.3.0)\n",
            "Requirement already satisfied: MarkupSafe>=2.1.1 in /usr/local/lib/python3.11/dist-packages (from werkzeug>=2.0.0->molplotly) (3.0.2)\n",
            "Requirement already satisfied: debugpy>=1.0 in /usr/local/lib/python3.11/dist-packages (from ipykernel->molplotly) (1.8.15)\n",
            "Requirement already satisfied: jupyter-client>=6.1.12 in /usr/local/lib/python3.11/dist-packages (from ipykernel->molplotly) (6.1.12)\n",
            "Requirement already satisfied: matplotlib-inline>=0.1 in /usr/local/lib/python3.11/dist-packages (from ipykernel->molplotly) (0.1.7)\n",
            "Requirement already satisfied: psutil in /usr/local/lib/python3.11/dist-packages (from ipykernel->molplotly) (5.9.5)\n",
            "Requirement already satisfied: pyzmq>=17 in /usr/local/lib/python3.11/dist-packages (from ipykernel->molplotly) (26.2.1)\n",
            "Requirement already satisfied: tornado>=6.1 in /usr/local/lib/python3.11/dist-packages (from ipykernel->molplotly) (6.4.2)\n",
            "Requirement already satisfied: traitlets>=5.1.0 in /usr/local/lib/python3.11/dist-packages (from ipykernel->molplotly) (5.7.1)\n",
            "Requirement already satisfied: fastjsonschema>=2.15 in /usr/local/lib/python3.11/dist-packages (from nbformat->molplotly) (2.21.1)\n",
            "Requirement already satisfied: jsonschema>=2.6 in /usr/local/lib/python3.11/dist-packages (from nbformat->molplotly) (4.25.0)\n",
            "Requirement already satisfied: jupyter-core!=5.0.*,>=4.12 in /usr/local/lib/python3.11/dist-packages (from nbformat->molplotly) (5.8.1)\n",
            "Requirement already satisfied: python-dateutil>=2.8.2 in /usr/local/lib/python3.11/dist-packages (from pandas->molplotly) (2.9.0.post0)\n",
            "Requirement already satisfied: pytz>=2020.1 in /usr/local/lib/python3.11/dist-packages (from pandas->molplotly) (2025.2)\n",
            "Requirement already satisfied: tzdata>=2022.7 in /usr/local/lib/python3.11/dist-packages (from pandas->molplotly) (2025.2)\n",
            "Requirement already satisfied: blinker>=1.9.0 in /usr/local/lib/python3.11/dist-packages (from Flask<3.2,>=1.0.4->dash>=2.0.0->molplotly) (1.9.0)\n",
            "Requirement already satisfied: click>=8.1.3 in /usr/local/lib/python3.11/dist-packages (from Flask<3.2,>=1.0.4->dash>=2.0.0->molplotly) (8.2.1)\n",
            "Requirement already satisfied: itsdangerous>=2.2.0 in /usr/local/lib/python3.11/dist-packages (from Flask<3.2,>=1.0.4->dash>=2.0.0->molplotly) (2.2.0)\n",
            "Requirement already satisfied: jinja2>=3.1.2 in /usr/local/lib/python3.11/dist-packages (from Flask<3.2,>=1.0.4->dash>=2.0.0->molplotly) (3.1.6)\n",
            "Collecting jedi>=0.16 (from ipython->jupyter-dash>=0.4.2->molplotly)\n",
            "  Downloading jedi-0.19.2-py2.py3-none-any.whl.metadata (22 kB)\n",
            "Requirement already satisfied: decorator in /usr/local/lib/python3.11/dist-packages (from ipython->jupyter-dash>=0.4.2->molplotly) (4.4.2)\n",
            "Requirement already satisfied: pickleshare in /usr/local/lib/python3.11/dist-packages (from ipython->jupyter-dash>=0.4.2->molplotly) (0.7.5)\n",
            "Requirement already satisfied: prompt-toolkit!=3.0.0,!=3.0.1,<3.1.0,>=2.0.0 in /usr/local/lib/python3.11/dist-packages (from ipython->jupyter-dash>=0.4.2->molplotly) (3.0.51)\n",
            "Requirement already satisfied: pygments in /usr/local/lib/python3.11/dist-packages (from ipython->jupyter-dash>=0.4.2->molplotly) (2.19.2)\n",
            "Requirement already satisfied: backcall in /usr/local/lib/python3.11/dist-packages (from ipython->jupyter-dash>=0.4.2->molplotly) (0.2.0)\n",
            "Requirement already satisfied: pexpect>4.3 in /usr/local/lib/python3.11/dist-packages (from ipython->jupyter-dash>=0.4.2->molplotly) (4.9.0)\n",
            "Requirement already satisfied: attrs>=22.2.0 in /usr/local/lib/python3.11/dist-packages (from jsonschema>=2.6->nbformat->molplotly) (25.3.0)\n",
            "Requirement already satisfied: jsonschema-specifications>=2023.03.6 in /usr/local/lib/python3.11/dist-packages (from jsonschema>=2.6->nbformat->molplotly) (2025.4.1)\n",
            "Requirement already satisfied: referencing>=0.28.4 in /usr/local/lib/python3.11/dist-packages (from jsonschema>=2.6->nbformat->molplotly) (0.36.2)\n",
            "Requirement already satisfied: rpds-py>=0.7.1 in /usr/local/lib/python3.11/dist-packages (from jsonschema>=2.6->nbformat->molplotly) (0.26.0)\n",
            "Requirement already satisfied: platformdirs>=2.5 in /usr/local/lib/python3.11/dist-packages (from jupyter-core!=5.0.*,>=4.12->nbformat->molplotly) (4.3.8)\n",
            "Requirement already satisfied: six>=1.5 in /usr/local/lib/python3.11/dist-packages (from python-dateutil>=2.8.2->pandas->molplotly) (1.17.0)\n",
            "Requirement already satisfied: zipp>=3.20 in /usr/local/lib/python3.11/dist-packages (from importlib-metadata->dash>=2.0.0->molplotly) (3.23.0)\n",
            "Requirement already satisfied: charset-normalizer<4,>=2 in /usr/local/lib/python3.11/dist-packages (from requests->dash>=2.0.0->molplotly) (3.4.2)\n",
            "Requirement already satisfied: idna<4,>=2.5 in /usr/local/lib/python3.11/dist-packages (from requests->dash>=2.0.0->molplotly) (3.10)\n",
            "Requirement already satisfied: urllib3<3,>=1.21.1 in /usr/local/lib/python3.11/dist-packages (from requests->dash>=2.0.0->molplotly) (2.5.0)\n",
            "Requirement already satisfied: certifi>=2017.4.17 in /usr/local/lib/python3.11/dist-packages (from requests->dash>=2.0.0->molplotly) (2025.7.14)\n",
            "Requirement already satisfied: parso<0.9.0,>=0.8.4 in /usr/local/lib/python3.11/dist-packages (from jedi>=0.16->ipython->jupyter-dash>=0.4.2->molplotly) (0.8.4)\n",
            "Requirement already satisfied: ptyprocess>=0.5 in /usr/local/lib/python3.11/dist-packages (from pexpect>4.3->ipython->jupyter-dash>=0.4.2->molplotly) (0.7.0)\n",
            "Requirement already satisfied: wcwidth in /usr/local/lib/python3.11/dist-packages (from prompt-toolkit!=3.0.0,!=3.0.1,<3.1.0,>=2.0.0->ipython->jupyter-dash>=0.4.2->molplotly) (0.2.13)\n",
            "Downloading dash-3.2.0-py3-none-any.whl (7.9 MB)\n",
            "\u001b[2K   \u001b[90m━━━━━━━━━━━━━━━━━━━━━━━━━━━━━━━━━━━━━━━━\u001b[0m \u001b[32m7.9/7.9 MB\u001b[0m \u001b[31m54.6 MB/s\u001b[0m eta \u001b[36m0:00:00\u001b[0m\n",
            "\u001b[?25hDownloading jupyter_dash-0.4.2-py3-none-any.whl (23 kB)\n",
            "Downloading rdkit_pypi-2022.9.5-cp311-cp311-manylinux_2_17_x86_64.manylinux2014_x86_64.whl (29.4 MB)\n",
            "\u001b[2K   \u001b[90m━━━━━━━━━━━━━━━━━━━━━━━━━━━━━━━━━━━━━━━━\u001b[0m \u001b[32m29.4/29.4 MB\u001b[0m \u001b[31m49.3 MB/s\u001b[0m eta \u001b[36m0:00:00\u001b[0m\n",
            "\u001b[?25hDownloading ansi2html-1.9.2-py3-none-any.whl (17 kB)\n",
            "Downloading retrying-1.4.2-py3-none-any.whl (10 kB)\n",
            "Downloading jedi-0.19.2-py2.py3-none-any.whl (1.6 MB)\n",
            "\u001b[2K   \u001b[90m━━━━━━━━━━━━━━━━━━━━━━━━━━━━━━━━━━━━━━━━\u001b[0m \u001b[32m1.6/1.6 MB\u001b[0m \u001b[31m49.1 MB/s\u001b[0m eta \u001b[36m0:00:00\u001b[0m\n",
            "\u001b[?25hBuilding wheels for collected packages: molplotly\n",
            "  Building wheel for molplotly (setup.py) ... \u001b[?25l\u001b[?25hdone\n",
            "  Created wheel for molplotly: filename=molplotly-1.1.7-py3-none-any.whl size=14044 sha256=47861c67b4c36da6d69a14570433844b84fc4d5160b064b4a0bcd0499601e65d\n",
            "  Stored in directory: /root/.cache/pip/wheels/23/6f/e1/decbf733dfc372b4e3e97efd68f0135b4fa9f967275d0873b8\n",
            "Successfully built molplotly\n",
            "Installing collected packages: retrying, rdkit-pypi, jedi, ansi2html, dash, jupyter-dash, molplotly\n",
            "Successfully installed ansi2html-1.9.2 dash-3.2.0 jedi-0.19.2 jupyter-dash-0.4.2 molplotly-1.1.7 rdkit-pypi-2022.9.5 retrying-1.4.2\n",
            "Collecting torch==2.1\n",
            "  Downloading torch-2.1.0-cp311-cp311-manylinux1_x86_64.whl.metadata (25 kB)\n",
            "Requirement already satisfied: filelock in /usr/local/lib/python3.11/dist-packages (from torch==2.1) (3.18.0)\n",
            "Requirement already satisfied: typing-extensions in /usr/local/lib/python3.11/dist-packages (from torch==2.1) (4.14.1)\n",
            "Requirement already satisfied: sympy in /usr/local/lib/python3.11/dist-packages (from torch==2.1) (1.13.1)\n",
            "Requirement already satisfied: networkx in /usr/local/lib/python3.11/dist-packages (from torch==2.1) (3.5)\n",
            "Requirement already satisfied: jinja2 in /usr/local/lib/python3.11/dist-packages (from torch==2.1) (3.1.6)\n",
            "Requirement already satisfied: fsspec in /usr/local/lib/python3.11/dist-packages (from torch==2.1) (2025.3.0)\n",
            "Collecting nvidia-cuda-nvrtc-cu12==12.1.105 (from torch==2.1)\n",
            "  Downloading nvidia_cuda_nvrtc_cu12-12.1.105-py3-none-manylinux1_x86_64.whl.metadata (1.5 kB)\n",
            "Collecting nvidia-cuda-runtime-cu12==12.1.105 (from torch==2.1)\n",
            "  Downloading nvidia_cuda_runtime_cu12-12.1.105-py3-none-manylinux1_x86_64.whl.metadata (1.5 kB)\n",
            "Collecting nvidia-cuda-cupti-cu12==12.1.105 (from torch==2.1)\n",
            "  Downloading nvidia_cuda_cupti_cu12-12.1.105-py3-none-manylinux1_x86_64.whl.metadata (1.6 kB)\n",
            "Collecting nvidia-cudnn-cu12==8.9.2.26 (from torch==2.1)\n",
            "  Downloading nvidia_cudnn_cu12-8.9.2.26-py3-none-manylinux1_x86_64.whl.metadata (1.6 kB)\n",
            "Collecting nvidia-cublas-cu12==12.1.3.1 (from torch==2.1)\n",
            "  Downloading nvidia_cublas_cu12-12.1.3.1-py3-none-manylinux1_x86_64.whl.metadata (1.5 kB)\n",
            "Collecting nvidia-cufft-cu12==11.0.2.54 (from torch==2.1)\n",
            "  Downloading nvidia_cufft_cu12-11.0.2.54-py3-none-manylinux1_x86_64.whl.metadata (1.5 kB)\n",
            "Collecting nvidia-curand-cu12==10.3.2.106 (from torch==2.1)\n",
            "  Downloading nvidia_curand_cu12-10.3.2.106-py3-none-manylinux1_x86_64.whl.metadata (1.5 kB)\n",
            "Collecting nvidia-cusolver-cu12==11.4.5.107 (from torch==2.1)\n",
            "  Downloading nvidia_cusolver_cu12-11.4.5.107-py3-none-manylinux1_x86_64.whl.metadata (1.6 kB)\n",
            "Collecting nvidia-cusparse-cu12==12.1.0.106 (from torch==2.1)\n",
            "  Downloading nvidia_cusparse_cu12-12.1.0.106-py3-none-manylinux1_x86_64.whl.metadata (1.6 kB)\n",
            "Collecting nvidia-nccl-cu12==2.18.1 (from torch==2.1)\n",
            "  Downloading nvidia_nccl_cu12-2.18.1-py3-none-manylinux1_x86_64.whl.metadata (1.8 kB)\n",
            "Collecting nvidia-nvtx-cu12==12.1.105 (from torch==2.1)\n",
            "  Downloading nvidia_nvtx_cu12-12.1.105-py3-none-manylinux1_x86_64.whl.metadata (1.7 kB)\n",
            "Collecting triton==2.1.0 (from torch==2.1)\n",
            "  Downloading triton-2.1.0-0-cp311-cp311-manylinux2014_x86_64.manylinux_2_17_x86_64.whl.metadata (1.3 kB)\n",
            "Requirement already satisfied: nvidia-nvjitlink-cu12 in /usr/local/lib/python3.11/dist-packages (from nvidia-cusolver-cu12==11.4.5.107->torch==2.1) (12.5.82)\n",
            "Requirement already satisfied: MarkupSafe>=2.0 in /usr/local/lib/python3.11/dist-packages (from jinja2->torch==2.1) (3.0.2)\n",
            "Requirement already satisfied: mpmath<1.4,>=1.1.0 in /usr/local/lib/python3.11/dist-packages (from sympy->torch==2.1) (1.3.0)\n",
            "Downloading torch-2.1.0-cp311-cp311-manylinux1_x86_64.whl (670.2 MB)\n",
            "\u001b[2K   \u001b[90m━━━━━━━━━━━━━━━━━━━━━━━━━━━━━━━━━━━━━━━━\u001b[0m \u001b[32m670.2/670.2 MB\u001b[0m \u001b[31m2.9 MB/s\u001b[0m eta \u001b[36m0:00:00\u001b[0m\n",
            "\u001b[?25hDownloading nvidia_cublas_cu12-12.1.3.1-py3-none-manylinux1_x86_64.whl (410.6 MB)\n",
            "\u001b[2K   \u001b[90m━━━━━━━━━━━━━━━━━━━━━━━━━━━━━━━━━━━━━━━━\u001b[0m \u001b[32m410.6/410.6 MB\u001b[0m \u001b[31m4.0 MB/s\u001b[0m eta \u001b[36m0:00:00\u001b[0m\n",
            "\u001b[?25hDownloading nvidia_cuda_cupti_cu12-12.1.105-py3-none-manylinux1_x86_64.whl (14.1 MB)\n",
            "\u001b[2K   \u001b[90m━━━━━━━━━━━━━━━━━━━━━━━━━━━━━━━━━━━━━━━━\u001b[0m \u001b[32m14.1/14.1 MB\u001b[0m \u001b[31m55.1 MB/s\u001b[0m eta \u001b[36m0:00:00\u001b[0m\n",
            "\u001b[?25hDownloading nvidia_cuda_nvrtc_cu12-12.1.105-py3-none-manylinux1_x86_64.whl (23.7 MB)\n",
            "\u001b[2K   \u001b[90m━━━━━━━━━━━━━━━━━━━━━━━━━━━━━━━━━━━━━━━━\u001b[0m \u001b[32m23.7/23.7 MB\u001b[0m \u001b[31m36.7 MB/s\u001b[0m eta \u001b[36m0:00:00\u001b[0m\n",
            "\u001b[?25hDownloading nvidia_cuda_runtime_cu12-12.1.105-py3-none-manylinux1_x86_64.whl (823 kB)\n",
            "\u001b[2K   \u001b[90m━━━━━━━━━━━━━━━━━━━━━━━━━━━━━━━━━━━━━━━━\u001b[0m \u001b[32m823.6/823.6 kB\u001b[0m \u001b[31m35.8 MB/s\u001b[0m eta \u001b[36m0:00:00\u001b[0m\n",
            "\u001b[?25hDownloading nvidia_cudnn_cu12-8.9.2.26-py3-none-manylinux1_x86_64.whl (731.7 MB)\n",
            "\u001b[2K   \u001b[90m━━━━━━━━━━━━━━━━━━━━━━━━━━━━━━━━━━━━━━━━\u001b[0m \u001b[32m731.7/731.7 MB\u001b[0m \u001b[31m2.1 MB/s\u001b[0m eta \u001b[36m0:00:00\u001b[0m\n",
            "\u001b[?25hDownloading nvidia_cufft_cu12-11.0.2.54-py3-none-manylinux1_x86_64.whl (121.6 MB)\n",
            "\u001b[2K   \u001b[90m━━━━━━━━━━━━━━━━━━━━━━━━━━━━━━━━━━━━━━━━\u001b[0m \u001b[32m121.6/121.6 MB\u001b[0m \u001b[31m7.6 MB/s\u001b[0m eta \u001b[36m0:00:00\u001b[0m\n",
            "\u001b[?25hDownloading nvidia_curand_cu12-10.3.2.106-py3-none-manylinux1_x86_64.whl (56.5 MB)\n",
            "\u001b[2K   \u001b[90m━━━━━━━━━━━━━━━━━━━━━━━━━━━━━━━━━━━━━━━━\u001b[0m \u001b[32m56.5/56.5 MB\u001b[0m \u001b[31m16.7 MB/s\u001b[0m eta \u001b[36m0:00:00\u001b[0m\n",
            "\u001b[?25hDownloading nvidia_cusolver_cu12-11.4.5.107-py3-none-manylinux1_x86_64.whl (124.2 MB)\n",
            "\u001b[2K   \u001b[90m━━━━━━━━━━━━━━━━━━━━━━━━━━━━━━━━━━━━━━━━\u001b[0m \u001b[32m124.2/124.2 MB\u001b[0m \u001b[31m7.4 MB/s\u001b[0m eta \u001b[36m0:00:00\u001b[0m\n",
            "\u001b[?25hDownloading nvidia_cusparse_cu12-12.1.0.106-py3-none-manylinux1_x86_64.whl (196.0 MB)\n",
            "\u001b[2K   \u001b[90m━━━━━━━━━━━━━━━━━━━━━━━━━━━━━━━━━━━━━━━━\u001b[0m \u001b[32m196.0/196.0 MB\u001b[0m \u001b[31m5.7 MB/s\u001b[0m eta \u001b[36m0:00:00\u001b[0m\n",
            "\u001b[?25hDownloading nvidia_nccl_cu12-2.18.1-py3-none-manylinux1_x86_64.whl (209.8 MB)\n",
            "\u001b[2K   \u001b[90m━━━━━━━━━━━━━━━━━━━━━━━━━━━━━━━━━━━━━━━━\u001b[0m \u001b[32m209.8/209.8 MB\u001b[0m \u001b[31m5.7 MB/s\u001b[0m eta \u001b[36m0:00:00\u001b[0m\n",
            "\u001b[?25hDownloading nvidia_nvtx_cu12-12.1.105-py3-none-manylinux1_x86_64.whl (99 kB)\n",
            "\u001b[2K   \u001b[90m━━━━━━━━━━━━━━━━━━━━━━━━━━━━━━━━━━━━━━━━\u001b[0m \u001b[32m99.1/99.1 kB\u001b[0m \u001b[31m7.3 MB/s\u001b[0m eta \u001b[36m0:00:00\u001b[0m\n",
            "\u001b[?25hDownloading triton-2.1.0-0-cp311-cp311-manylinux2014_x86_64.manylinux_2_17_x86_64.whl (89.2 MB)\n",
            "\u001b[2K   \u001b[90m━━━━━━━━━━━━━━━━━━━━━━━━━━━━━━━━━━━━━━━━\u001b[0m \u001b[32m89.2/89.2 MB\u001b[0m \u001b[31m9.2 MB/s\u001b[0m eta \u001b[36m0:00:00\u001b[0m\n",
            "\u001b[?25hInstalling collected packages: triton, nvidia-nvtx-cu12, nvidia-nccl-cu12, nvidia-cusparse-cu12, nvidia-curand-cu12, nvidia-cufft-cu12, nvidia-cuda-runtime-cu12, nvidia-cuda-nvrtc-cu12, nvidia-cuda-cupti-cu12, nvidia-cublas-cu12, nvidia-cusolver-cu12, nvidia-cudnn-cu12, torch\n",
            "  Attempting uninstall: triton\n",
            "    Found existing installation: triton 3.2.0\n",
            "    Uninstalling triton-3.2.0:\n",
            "      Successfully uninstalled triton-3.2.0\n",
            "  Attempting uninstall: nvidia-nvtx-cu12\n",
            "    Found existing installation: nvidia-nvtx-cu12 12.4.127\n",
            "    Uninstalling nvidia-nvtx-cu12-12.4.127:\n",
            "      Successfully uninstalled nvidia-nvtx-cu12-12.4.127\n",
            "  Attempting uninstall: nvidia-nccl-cu12\n",
            "    Found existing installation: nvidia-nccl-cu12 2.21.5\n",
            "    Uninstalling nvidia-nccl-cu12-2.21.5:\n",
            "      Successfully uninstalled nvidia-nccl-cu12-2.21.5\n",
            "  Attempting uninstall: nvidia-cusparse-cu12\n",
            "    Found existing installation: nvidia-cusparse-cu12 12.5.1.3\n",
            "    Uninstalling nvidia-cusparse-cu12-12.5.1.3:\n",
            "      Successfully uninstalled nvidia-cusparse-cu12-12.5.1.3\n",
            "  Attempting uninstall: nvidia-curand-cu12\n",
            "    Found existing installation: nvidia-curand-cu12 10.3.6.82\n",
            "    Uninstalling nvidia-curand-cu12-10.3.6.82:\n",
            "      Successfully uninstalled nvidia-curand-cu12-10.3.6.82\n",
            "  Attempting uninstall: nvidia-cufft-cu12\n",
            "    Found existing installation: nvidia-cufft-cu12 11.2.3.61\n",
            "    Uninstalling nvidia-cufft-cu12-11.2.3.61:\n",
            "      Successfully uninstalled nvidia-cufft-cu12-11.2.3.61\n",
            "  Attempting uninstall: nvidia-cuda-runtime-cu12\n",
            "    Found existing installation: nvidia-cuda-runtime-cu12 12.5.82\n",
            "    Uninstalling nvidia-cuda-runtime-cu12-12.5.82:\n",
            "      Successfully uninstalled nvidia-cuda-runtime-cu12-12.5.82\n",
            "  Attempting uninstall: nvidia-cuda-nvrtc-cu12\n",
            "    Found existing installation: nvidia-cuda-nvrtc-cu12 12.5.82\n",
            "    Uninstalling nvidia-cuda-nvrtc-cu12-12.5.82:\n",
            "      Successfully uninstalled nvidia-cuda-nvrtc-cu12-12.5.82\n",
            "  Attempting uninstall: nvidia-cuda-cupti-cu12\n",
            "    Found existing installation: nvidia-cuda-cupti-cu12 12.5.82\n",
            "    Uninstalling nvidia-cuda-cupti-cu12-12.5.82:\n",
            "      Successfully uninstalled nvidia-cuda-cupti-cu12-12.5.82\n",
            "  Attempting uninstall: nvidia-cublas-cu12\n",
            "    Found existing installation: nvidia-cublas-cu12 12.5.3.2\n",
            "    Uninstalling nvidia-cublas-cu12-12.5.3.2:\n",
            "      Successfully uninstalled nvidia-cublas-cu12-12.5.3.2\n",
            "  Attempting uninstall: nvidia-cusolver-cu12\n",
            "    Found existing installation: nvidia-cusolver-cu12 11.6.3.83\n",
            "    Uninstalling nvidia-cusolver-cu12-11.6.3.83:\n",
            "      Successfully uninstalled nvidia-cusolver-cu12-11.6.3.83\n",
            "  Attempting uninstall: nvidia-cudnn-cu12\n",
            "    Found existing installation: nvidia-cudnn-cu12 9.3.0.75\n",
            "    Uninstalling nvidia-cudnn-cu12-9.3.0.75:\n",
            "      Successfully uninstalled nvidia-cudnn-cu12-9.3.0.75\n",
            "  Attempting uninstall: torch\n",
            "    Found existing installation: torch 2.6.0+cu124\n",
            "    Uninstalling torch-2.6.0+cu124:\n",
            "      Successfully uninstalled torch-2.6.0+cu124\n",
            "\u001b[31mERROR: pip's dependency resolver does not currently take into account all the packages that are installed. This behaviour is the source of the following dependency conflicts.\n",
            "torchvision 0.21.0+cu124 requires torch==2.6.0, but you have torch 2.1.0 which is incompatible.\n",
            "torchaudio 2.6.0+cu124 requires torch==2.6.0, but you have torch 2.1.0 which is incompatible.\n",
            "raft-dask-cu12 25.6.0 requires nvidia-nccl-cu12>=2.19, but you have nvidia-nccl-cu12 2.18.1 which is incompatible.\n",
            "libcuvs-cu12 25.6.1 requires nvidia-nccl-cu12>=2.19, but you have nvidia-nccl-cu12 2.18.1 which is incompatible.\n",
            "libraft-cu12 25.6.0 requires nvidia-nccl-cu12>=2.19, but you have nvidia-nccl-cu12 2.18.1 which is incompatible.\u001b[0m\u001b[31m\n",
            "\u001b[0mSuccessfully installed nvidia-cublas-cu12-12.1.3.1 nvidia-cuda-cupti-cu12-12.1.105 nvidia-cuda-nvrtc-cu12-12.1.105 nvidia-cuda-runtime-cu12-12.1.105 nvidia-cudnn-cu12-8.9.2.26 nvidia-cufft-cu12-11.0.2.54 nvidia-curand-cu12-10.3.2.106 nvidia-cusolver-cu12-11.4.5.107 nvidia-cusparse-cu12-12.1.0.106 nvidia-nccl-cu12-2.18.1 nvidia-nvtx-cu12-12.1.105 torch-2.1.0 triton-2.1.0\n",
            "Collecting numpy==1.26\n",
            "  Downloading numpy-1.26.0-cp311-cp311-manylinux_2_17_x86_64.manylinux2014_x86_64.whl.metadata (58 kB)\n",
            "\u001b[2K     \u001b[90m━━━━━━━━━━━━━━━━━━━━━━━━━━━━━━━━━━━━━━━━\u001b[0m \u001b[32m58.5/58.5 kB\u001b[0m \u001b[31m2.4 MB/s\u001b[0m eta \u001b[36m0:00:00\u001b[0m\n",
            "\u001b[?25hDownloading numpy-1.26.0-cp311-cp311-manylinux_2_17_x86_64.manylinux2014_x86_64.whl (18.2 MB)\n",
            "\u001b[2K   \u001b[90m━━━━━━━━━━━━━━━━━━━━━━━━━━━━━━━━━━━━━━━━\u001b[0m \u001b[32m18.2/18.2 MB\u001b[0m \u001b[31m76.1 MB/s\u001b[0m eta \u001b[36m0:00:00\u001b[0m\n",
            "\u001b[?25hInstalling collected packages: numpy\n",
            "  Attempting uninstall: numpy\n",
            "    Found existing installation: numpy 2.0.2\n",
            "    Uninstalling numpy-2.0.2:\n",
            "      Successfully uninstalled numpy-2.0.2\n",
            "\u001b[31mERROR: pip's dependency resolver does not currently take into account all the packages that are installed. This behaviour is the source of the following dependency conflicts.\n",
            "opencv-python 4.12.0.88 requires numpy<2.3.0,>=2; python_version >= \"3.9\", but you have numpy 1.26.0 which is incompatible.\n",
            "torchvision 0.21.0+cu124 requires torch==2.6.0, but you have torch 2.1.0 which is incompatible.\n",
            "opencv-python-headless 4.12.0.88 requires numpy<2.3.0,>=2; python_version >= \"3.9\", but you have numpy 1.26.0 which is incompatible.\n",
            "opencv-contrib-python 4.12.0.88 requires numpy<2.3.0,>=2; python_version >= \"3.9\", but you have numpy 1.26.0 which is incompatible.\n",
            "raft-dask-cu12 25.6.0 requires nvidia-nccl-cu12>=2.19, but you have nvidia-nccl-cu12 2.18.1 which is incompatible.\n",
            "thinc 8.3.6 requires numpy<3.0.0,>=2.0.0, but you have numpy 1.26.0 which is incompatible.\u001b[0m\u001b[31m\n",
            "\u001b[0mSuccessfully installed numpy-1.26.0\n"
          ]
        },
        {
          "output_type": "display_data",
          "data": {
            "application/vnd.colab-display-data+json": {
              "pip_warning": {
                "packages": [
                  "numpy"
                ]
              },
              "id": "b78d759b40bc4fd2839f4bf4e1cd795d"
            }
          },
          "metadata": {}
        },
        {
          "output_type": "stream",
          "name": "stdout",
          "text": [
            "Requirement already satisfied: scikit-learn in /usr/local/lib/python3.11/dist-packages (1.6.1)\n",
            "Requirement already satisfied: numpy>=1.19.5 in /usr/local/lib/python3.11/dist-packages (from scikit-learn) (1.26.0)\n",
            "Requirement already satisfied: scipy>=1.6.0 in /usr/local/lib/python3.11/dist-packages (from scikit-learn) (1.16.0)\n",
            "Requirement already satisfied: joblib>=1.2.0 in /usr/local/lib/python3.11/dist-packages (from scikit-learn) (1.5.1)\n",
            "Requirement already satisfied: threadpoolctl>=3.1.0 in /usr/local/lib/python3.11/dist-packages (from scikit-learn) (3.6.0)\n",
            "Requirement already satisfied: h5py in /usr/local/lib/python3.11/dist-packages (3.14.0)\n",
            "Requirement already satisfied: numpy>=1.19.3 in /usr/local/lib/python3.11/dist-packages (from h5py) (1.26.0)\n",
            "Collecting dash==2.9.2\n",
            "  Downloading dash-2.9.2-py3-none-any.whl.metadata (11 kB)\n",
            "Requirement already satisfied: Flask>=1.0.4 in /usr/local/lib/python3.11/dist-packages (from dash==2.9.2) (3.1.1)\n",
            "Requirement already satisfied: plotly>=5.0.0 in /usr/local/lib/python3.11/dist-packages (from dash==2.9.2) (5.24.1)\n",
            "Collecting dash-html-components==2.0.0 (from dash==2.9.2)\n",
            "  Downloading dash_html_components-2.0.0-py3-none-any.whl.metadata (3.8 kB)\n",
            "Collecting dash-core-components==2.0.0 (from dash==2.9.2)\n",
            "  Downloading dash_core_components-2.0.0-py3-none-any.whl.metadata (2.9 kB)\n",
            "Collecting dash-table==5.0.0 (from dash==2.9.2)\n",
            "  Downloading dash_table-5.0.0-py3-none-any.whl.metadata (2.4 kB)\n",
            "Requirement already satisfied: blinker>=1.9.0 in /usr/local/lib/python3.11/dist-packages (from Flask>=1.0.4->dash==2.9.2) (1.9.0)\n",
            "Requirement already satisfied: click>=8.1.3 in /usr/local/lib/python3.11/dist-packages (from Flask>=1.0.4->dash==2.9.2) (8.2.1)\n",
            "Requirement already satisfied: itsdangerous>=2.2.0 in /usr/local/lib/python3.11/dist-packages (from Flask>=1.0.4->dash==2.9.2) (2.2.0)\n",
            "Requirement already satisfied: jinja2>=3.1.2 in /usr/local/lib/python3.11/dist-packages (from Flask>=1.0.4->dash==2.9.2) (3.1.6)\n",
            "Requirement already satisfied: markupsafe>=2.1.1 in /usr/local/lib/python3.11/dist-packages (from Flask>=1.0.4->dash==2.9.2) (3.0.2)\n",
            "Requirement already satisfied: werkzeug>=3.1.0 in /usr/local/lib/python3.11/dist-packages (from Flask>=1.0.4->dash==2.9.2) (3.1.3)\n",
            "Requirement already satisfied: tenacity>=6.2.0 in /usr/local/lib/python3.11/dist-packages (from plotly>=5.0.0->dash==2.9.2) (8.5.0)\n",
            "Requirement already satisfied: packaging in /usr/local/lib/python3.11/dist-packages (from plotly>=5.0.0->dash==2.9.2) (25.0)\n",
            "Downloading dash-2.9.2-py3-none-any.whl (10.2 MB)\n",
            "\u001b[2K   \u001b[90m━━━━━━━━━━━━━━━━━━━━━━━━━━━━━━━━━━━━━━━━\u001b[0m \u001b[32m10.2/10.2 MB\u001b[0m \u001b[31m66.4 MB/s\u001b[0m eta \u001b[36m0:00:00\u001b[0m\n",
            "\u001b[?25hDownloading dash_core_components-2.0.0-py3-none-any.whl (3.8 kB)\n",
            "Downloading dash_html_components-2.0.0-py3-none-any.whl (4.1 kB)\n",
            "Downloading dash_table-5.0.0-py3-none-any.whl (3.9 kB)\n",
            "Installing collected packages: dash-table, dash-html-components, dash-core-components, dash\n",
            "  Attempting uninstall: dash\n",
            "    Found existing installation: dash 3.2.0\n",
            "    Uninstalling dash-3.2.0:\n",
            "      Successfully uninstalled dash-3.2.0\n",
            "Successfully installed dash-2.9.2 dash-core-components-2.0.0 dash-html-components-2.0.0 dash-table-5.0.0\n"
          ]
        }
      ],
      "source": [
        "# install other packages required\n",
        "!pip install rdkit\n",
        "!pip install molplotly\n",
        "!pip install torch==2.1\n",
        "!pip install numpy==1.26\n",
        "!pip install scikit-learn\n",
        "!pip install h5py\n",
        "!pip install dash==2.9.2"
      ]
    },
    {
      "cell_type": "code",
      "execution_count": null,
      "metadata": {
        "id": "rIxr2cpC8JU2"
      },
      "outputs": [],
      "source": [
        "%cd ../..\n",
        "# ***Now restart run-time of the notebook!***"
      ]
    },
    {
      "cell_type": "markdown",
      "metadata": {
        "id": "cGSlngYV8JU3"
      },
      "source": [
        "# Week 5 Tutorial: AI for Chemistry\n",
        "\n",
        "\n",
        "# Molecular Generative Models\n",
        "\n",
        "In recent years, there has been an explosion in the number of molecular generative models being developed. Regardless of the formulation, these models share some commonalities:\n",
        "\n",
        "1. They can generate molecules that are **not** in the training data - therefore, they have the potential to  explore  new chemical space\n",
        "\n",
        "\n",
        "2. They can be coupled with some optimization algorithm to explicitly tailor the model to generate molecules satisfying some target objective such as possessing high predicted solubility\n",
        "\n",
        "*You will get the chance to play with [`REINVENT`](https://github.com/MolecularAI/Reinvent) next week which is an open-source SMILES-based generative model developed at AstraZeneca. You will get to choose what properties you want to optimize and see first-hand how the model learns to generate molecules satisfying your specified objective!* 🤠 Here is an example of `REINVENT` in the wild - [Researchers use `REINVENT` to design an experimentally validated nanomolar potent inhibitor](https://chemistry-europe.onlinelibrary.wiley.com/doi/10.1002/cmdc.202000786)\n",
        "\n",
        "Generative models are not new and have been applied for quite some time especially in the machine learning community. Image generation is a classic example of one such application and is also what gives rise to the cool images you see generated from [Stable Diffusion](https://huggingface.co/spaces/stabilityai/stable-diffusion). Molecular generative models, however, is a less mature field that is seeing rapid progress and wide-spread adoption in industry (pharmaceutical and biotech companies).\n",
        "\n",
        "\n",
        "Below are some early foundational works in the field of molecular generative models (not exhaustive):\n",
        "* [Variational Autoencoder (VAE)](https://pubs.acs.org/doi/10.1021/acscentsci.7b00572) this is the first example of using a `VAE`\n",
        "\n",
        "* [Generative Adversarial Network (GAN)](https://arxiv.org/abs/1805.11973) this is the first example of using a `GAN`\n",
        "\n",
        "* [Recurrent Neural Network (RNN)](https://pubs.acs.org/doi/10.1021/acscentsci.7b00512) this is one of the first examples of using a `RNN`\n",
        "\n",
        "* Recurrent Neural Network (RNN) with Reinforcement Learning (RL): [Link 1](https://jcheminf.biomedcentral.com/articles/10.1186/s13321-017-0235-x) [Link 2](https://www.science.org/doi/10.1126/sciadv.aap7885) these are also early examples of using a `RNN` but they also couple `RL` to tailor molecular generation towards desired properties\n",
        "\n",
        "\n",
        "In this `Part 1 Tutorial` (Part 2 is next week), we introduce some of these foundational works and play around with how they generate molecules. For each generative model presented, we will provide high level details of what is going on under-the-hood and reference the original paper for details."
      ]
    },
    {
      "cell_type": "markdown",
      "metadata": {
        "id": "bZa_Cxxd8JU3"
      },
      "source": [
        "# 1. Recurrent Neural Network (RNN)\n",
        "\n",
        "#### The code that is imported from `utils` in this section is from [`Rocío Mercado's`](https://rociomer.github.io/) [dl-chem-101 repository](https://github.com/rociomer/dl-chem-101/tree/main/03_gen_SMILES_LSTM)\n",
        "\n",
        "**Note:** Next week's tutorial has 2 parts: you get to run your own `REINVENT` generative experiment and **we break down step-by-step** into exactly how `REINVENT` (and any SMILES-based generative model) works. For this reason, we do not show any code of the underlying model in this section\n",
        "\n",
        "For now, a high-level summary is given.\n",
        "\n",
        "`Recurrent Neural Networks (RNN)` were very popular for `Natural Language Processing (NLP)` (for example, machine learning on sentences to translate between languages). Generally, these models are trained to predict the next \"element\" (we say \"element\" here to be very general for this particular analogy). Consider the following sentence:\n",
        "\n",
        "**It's so hot outside, I want to eat**\n",
        "\n",
        "**based on the words seen so far, the model predicts the next \"element\"** A reasonable next \"element\" would be \"ice cream\", yielding the sentence:\n",
        "\n",
        "**It's so hot outside, I want to eat ice cream**\n",
        "\n",
        "Now, let's think about the `context` of this sentence. It seems reasonable to say that \"ice cream\" makes sense because it is hot outside. This idea of `context` is important for machine learning models to predict the next \"element\". Unfortunately, imagine now a very long excerpt containing many paragraphs. It turns out that `RNNs` can struggle to \"remember\" long `contexts`. More recently, [`Transformers`](https://proceedings.neurips.cc/paper/2017/file/3f5ee243547dee91fbd053c1c4a845aa-Paper.pdf) (`ChatGPT` is a transformer model!) have demonstrated exceptional ability to handle this problem and has now mostly replaced `RNNs` in `NLP`.\n",
        "\n",
        "Ok, but now let's relate what we just discussed to `Molecular Generative Models`. It turns out that most molecules represented as `SMILES` strings are not really that long and `RNNs` can perfectly learn to predict these relatively short `SMILES` sequences (compared to the example of an excerpt with many paragraphs). Correspondingly, `RNN`-based `Molecular Generative Models` have shown remarkable performance in learning the `SMILES` syntax. Below is an example of a molecule and its `SMILES`: \"NC1=CC(O)=CC=C1\" (not very long!)\n",
        "\n",
        "<div align=\"middle\">\n",
        "<img src=\"https://github.com/schwallergroup/ai4chem_course/blob/main/notebooks/05%20-%20Generative%20Models/images/smiles-example.png?raw=1\" width=\"200\"/>\n",
        "</div>\n"
      ]
    },
    {
      "cell_type": "markdown",
      "metadata": {
        "id": "kg__Fh0h8JU3"
      },
      "source": [
        "# 1.1 Claim\n",
        "\n",
        "In this section, let's make a claim:\n",
        "\n",
        "**Training a `Molecular Generative Model` is not training a model to generate molecules, per say. Rather, it is to reproduce the underlying probability distribution of the training data**\n",
        "\n",
        "What does that mean? 🥴\n",
        "\n",
        "Let's make \"predicting the next element\" more concrete in the context of chemistry. `SMILES`-based `RNNs` are typically trained to predict the next `token` which loosely maps to individual `atoms`.\n",
        "\n",
        "Let's look at an intuitive example. Here's `Benzene`:\n",
        "\n",
        "<div align=\"middle\">\n",
        "<img src=\"https://github.com/schwallergroup/ai4chem_course/blob/main/notebooks/05%20-%20Generative%20Models/images/benzene.png?raw=1\" width=\"200\"/>\n",
        "</div>\n",
        "\n",
        "\n",
        "Here's the `SMILES`: \"c1ccccc1\"\n",
        "\n",
        "\n",
        "Let's say our model is in the process of generating `Benzene` with this `SMILES` sequence **so far**:\n",
        "\n",
        "\"c1ccccc\"\n",
        "\n",
        "Comparing the answer, we see that we want to generate **\"1\"** This `token` closes the ring and recovers `Benzene`\n",
        "\n",
        "Now imagine we have trained a model that can re-generate the entire dataset of `SMILES`. Then implicitly, the model has learned the `SMILES` syntax **and** the properties of molecules it generates overlaps with the training data. Let's convince ourselves of this."
      ]
    },
    {
      "cell_type": "markdown",
      "metadata": {
        "id": "_bz2cdnj8JU3"
      },
      "source": [
        "# 1.2 Is it a Molecular Generative Model or a Mime? 😵‍💫\n",
        "\n",
        "*Image was generated using `DALL-E 3`. The prompt was \"high resolution image of a mime doing chemistry\"*\n",
        "\n",
        "<div align=\"middle\">\n",
        "<img src=\"https://github.com/schwallergroup/ai4chem_course/blob/main/notebooks/05%20-%20Generative%20Models/images/mime.png?raw=1\" width=\"300\"/>\n",
        "</div>\n",
        "\n",
        "\n",
        "Let's do some exercises! We have pre-trained a generative model on a small subset of [ZINC](https://zinc.docking.org/) which is a database of molecules."
      ]
    },
    {
      "cell_type": "code",
      "execution_count": 1,
      "metadata": {
        "id": "yRHXEgqV8JU3"
      },
      "outputs": [],
      "source": [
        "# loading in some helper functions (don't worry about the details here for now)\n",
        "from utils import load_from_file, sample"
      ]
    },
    {
      "cell_type": "code",
      "execution_count": 2,
      "metadata": {
        "id": "mTCfJlOd8JU4"
      },
      "outputs": [],
      "source": [
        "# let's begin our dive into gaining a deeper understanding of molecular generative models\n",
        "# let's load the pre-trained model\n",
        "pretrained_rnn_model = load_from_file('pretrained.rnn.pth')"
      ]
    },
    {
      "cell_type": "code",
      "execution_count": 3,
      "metadata": {
        "id": "YV5Esti78JU4"
      },
      "outputs": [],
      "source": [
        "from rdkit import Chem\n",
        "# ok, let's now generate 100 molecules from this model\n",
        "# keep track of the generated molecules\n",
        "generated_molecules = []\n",
        "\n",
        "# for now, don't worry about the \"sample()\" and \"tokenizer\" code bits\n",
        "# the pre-trained model provided actually does not generate valid SMILES strings every time\n",
        "# we essentially keep generating until we get 100 **valid** molecules\n",
        "\n",
        "# NOTE: this may take a few minutes 😭\n",
        "while len(generated_molecules) != 100:\n",
        "    # generate token sequences\n",
        "    sequences, nlls = sample(model=pretrained_rnn_model)\n",
        "    # convert the token sequences into SMILES\n",
        "    smiles = pretrained_rnn_model.tokenizer.untokenize(pretrained_rnn_model.vocabulary.decode(sequences[0].numpy()))\n",
        "    # transform the generated SMILES into RDKit Mol objects\n",
        "    # the Mol object is \"None\" if the SMILES cannot be parted by RDKit\n",
        "    mol = Chem.MolFromSmiles(smiles)\n",
        "    if mol is not None:\n",
        "        # at this point, the Mol is valid so let's keep track of it\n",
        "        generated_molecules.append(mol)"
      ]
    },
    {
      "cell_type": "markdown",
      "metadata": {
        "id": "1z7iZUTL8JU4"
      },
      "source": [
        "In the beginning of this notebook, we claim that all `Molecular Generative Models` can generate molecules that are outside the training data. Your first task is to verify this."
      ]
    },
    {
      "cell_type": "code",
      "execution_count": 4,
      "metadata": {
        "id": "RUtvSw2R8JU4"
      },
      "outputs": [],
      "source": [
        "# there is a file called \"zinc.smi\" in the \"data\" folder that contains 50000 SMILES strings\n",
        "# that form the training data for the provided pre-trained model\n",
        "\n",
        "# with this information, your first task is to check if there is any\n",
        "# overlap between the SMILES in \"zinc.smi\" and the generated molecules above\n",
        "\n",
        "# Task 1: extract the SMILES from \"zinc.smi\"\n",
        "### YOUR CODE #####\n",
        "zinc = []\n",
        "with open('zinc.smi', 'r') as f:\n",
        "    # the first line is the header and we don't want this that's why the slice index starts at 1\n",
        "    for line in f.readlines()[1:]:\n",
        "        # notice each line actually contains some numbers - we only want the SMILES\n",
        "        smiles = line.split()[0]\n",
        "        zinc.append(smiles)\n"
      ]
    },
    {
      "cell_type": "code",
      "execution_count": 5,
      "metadata": {
        "id": "EYrGeBtw8JU4"
      },
      "outputs": [],
      "source": [
        "# Task 2: Get the SMILES of the generated molecules from the pre-trained model\n",
        "\n",
        "### YOUR CODE #####\n",
        "# we previously generated 1000 Mol objects from the pre-trained model. We want them in SMILES format\n",
        "generated_smiles = [Chem.MolToSmiles(mol, canonical=True) for mol in generated_molecules]"
      ]
    },
    {
      "cell_type": "code",
      "execution_count": 6,
      "metadata": {
        "id": "evMpc9HH8JU4",
        "outputId": "8eeea822-a7b7-49e7-c233-bbf25ca2803b",
        "colab": {
          "base_uri": "https://localhost:8080/"
        }
      },
      "outputs": [
        {
          "output_type": "stream",
          "name": "stdout",
          "text": [
            "Number of SMILES in Zinc: 50000\n",
            "Number of unique SMILES in Zinc: 50000\n",
            "Number of generated SMILES: 100\n",
            "Number of unique generated SMILES: 100\n",
            "There are 0 overlaps and these are the overlapping SMILES: set()\n"
          ]
        }
      ],
      "source": [
        "# Task 3: Find out how much overlap there is between the generated SMILES\n",
        "#         and the training data SMILES (from \"zinc.smi\")\n",
        "\n",
        "### YOUR CODE #####\n",
        "# Hint: you should compare canonical SMILES\n",
        "# we have the SMILES from \"zinc.smi\", let's convert them to canonical form\n",
        "zinc = [Chem.MolToSmiles(Chem.MolFromSmiles(smiles), canonical=True) for smiles in zinc]\n",
        "\n",
        "# below wasn't part of the task but for interest\n",
        "# \"set\" in Python removes duplicates\n",
        "# out of curiosity, are the Zinc SMILES and generated SMILES all unique?\n",
        "print(f'Number of SMILES in Zinc: {len(zinc)}')\n",
        "print(f'Number of unique SMILES in Zinc: {len(set(zinc))}')\n",
        "print(f'Number of generated SMILES: {len(generated_smiles)}')\n",
        "print(f'Number of unique generated SMILES: {len(set(generated_smiles))}')\n",
        "\n",
        "# ok, now let's see if there is overlap\n",
        "overlap = set(generated_smiles).intersection(set(zinc))\n",
        "print(f'There are {len(overlap)} overlaps and these are the overlapping SMILES: {overlap}')"
      ]
    },
    {
      "cell_type": "markdown",
      "metadata": {
        "id": "V2c3WheH8JU4"
      },
      "source": [
        "This is significant - recall in the beginning of this notebook, we said that all `Molecular Generative Models` can generated molecules **not in the training data**. You've just verified this! 🤩\n",
        "\n",
        "We also said that `Molecular Generative Models` learn to reproduce the properties of the molecules it is trained on. `ZINC` actually contains a lot of `\"drug-like\"` molecules, empirically (loosely) following [`Lipinski's Rule of 5`](https://www.sciencedirect.com/science/article/pii/S0169409X96004231). `\"drug-likeness\"` can be quantified by the [`Quantitative Estimate of Drug-likeness (QED) score`](https://www.nature.com/articles/nchem.1243). Your next task is to verify that the `QED` distribution of the `ZINC` training data is reproduced by the pre-trained model."
      ]
    },
    {
      "cell_type": "code",
      "execution_count": 7,
      "metadata": {
        "id": "WSnTVKxY8JU4",
        "outputId": "ceee4b1b-f190-4091-d913-e7561ebf1f88",
        "colab": {
          "base_uri": "https://localhost:8080/",
          "height": 472
        }
      },
      "outputs": [
        {
          "output_type": "display_data",
          "data": {
            "text/plain": [
              "<Figure size 640x480 with 1 Axes>"
            ],
            "image/png": "[encoded data removed]"
          },
          "metadata": {}
        }
      ],
      "source": [
        "# Task 4: Plot the QED score distribution of ZINC and the generated molecules\n",
        "# Hint 1: RDKit has a function that computes the QED score\n",
        "# Hint 2: Normalize your plot so you can see the relative distribution\n",
        "#         (there are 50000 ZINC molecules compared to only 100 generated molecules)\n",
        "\n",
        "### YOUR CODE #####\n",
        "from rdkit.Chem.QED import qed\n",
        "import pandas as pd\n",
        "import numpy as np\n",
        "import matplotlib.pyplot as plt\n",
        "\n",
        "# helper function to compute QED - qed function raises an error if there\n",
        "# are chemistry violations in the Mol object such as invalid valency\n",
        "def get_qed(mol):\n",
        "    try:\n",
        "        return qed(mol)\n",
        "    except Exception:\n",
        "        return 'nan'\n",
        "\n",
        "# make a DataFrame for the ZINC SMILES and compute the QED scores\n",
        "zinc_df = pd.DataFrame({'smiles': zinc})\n",
        "zinc_df['qed'] = zinc_df['smiles'].apply(lambda x: get_qed(Chem.MolFromSmiles(x)))\n",
        "\n",
        "# make a DataFrame for the generated molecules and compute the QED scores\n",
        "sampled_df = pd.DataFrame({'mols': generated_molecules})\n",
        "sampled_df['qed'] = sampled_df['mols'].apply(get_qed)\n",
        "\n",
        "# in case QED could not be computed for some molecules due to some error, remove these\n",
        "zinc_df = zinc_df.loc[zinc_df['qed'] != 'nan']\n",
        "sampled_df = sampled_df.loc[sampled_df['qed'] != 'nan']\n",
        "\n",
        "# plot to compare distributions\n",
        "# \"density=True\" normalizes the counts since there are more ZINC SMILES than generated SMILES\n",
        "zinc_df['qed'].plot(kind='hist', edgecolor='k', alpha=0.3, density=True, label='ZINC')\n",
        "sampled_df['qed'].plot(kind='hist', edgecolor='k', alpha=0.3, density=True, label='Generated')\n",
        "plt.xlabel('QED'); plt.title('QED Distribution of ZINC and Generated Molecules');\n",
        "plt.xticks(np.arange(0, 1.1, 0.1)); plt.legend();"
      ]
    },
    {
      "cell_type": "markdown",
      "metadata": {
        "id": "rm1Xgs7a8JU4"
      },
      "source": [
        "The QED of the generated molecules overlaps with the training data! (actually the pre-trained model provided wasn't trained to the full extent. \"Proper\" training of generative models will show even more significant overlap). We refer the reader to this [paper](https://www.nature.com/articles/s41467-022-30839-x) - check out the figures showing overlap! You've now verified that `Molecular Generative Models` reproduce the properties of the molecules in the training data 🤩\n",
        "\n",
        "Now let's answer the big question from this section: **Is it a `Molecular Generative Model` or a Mime?** Let's recap our findings:\n",
        "\n",
        "1. The model can generate `SMILES` that are not in the training data\n",
        "2. The properties of the generated `SMILES` overlap with the training data\n",
        "\n",
        "The answer is that `Molecular Generative Models` are kind of like a mime. You can generate new molecules that fit into the properties distribution in your training data. When could this be useful? Imagine you have a dataset of molecules with properties in the range that you are interested in. The out-of-the-box `Molecular Generative Models` can give you new molecules within this properties range! **What if you want to generate molecules outside the training data properties distribution?** Turns out what we presented here is the foundation for coupling optimization algorithms which can ***shift*** the probability distribution of the `Molecular Generative Model` to the property ranges you want. Next week, you will see this first-hand with a practical tutorial on `REINVENT`.\n",
        "\n",
        "Finally, let's just take a look at some of the generated molecules."
      ]
    },
    {
      "cell_type": "code",
      "execution_count": 8,
      "metadata": {
        "id": "ZRfEmmpV8JU4",
        "outputId": "d369e0a8-ae31-4752-99f6-e514f0b06d13",
        "colab": {
          "base_uri": "https://localhost:8080/",
          "height": 217
        }
      },
      "outputs": [
        {
          "output_type": "execute_result",
          "data": {
            "image/png": "[encoded data removed]",
            "text/plain": [
              "<IPython.core.display.Image object>"
            ]
          },
          "metadata": {},
          "execution_count": 8
        }
      ],
      "source": [
        "# Task 5: Visually inspect a few of the generated molecules\n",
        "\n",
        "### YOUR CODE ###\n",
        "from rdkit.Chem import Draw\n",
        "\n",
        "# reasonable looking?\n",
        "Draw.MolsToGridImage(generated_molecules[:3])"
      ]
    },
    {
      "cell_type": "markdown",
      "metadata": {
        "id": "MZcni2EY8JU4"
      },
      "source": [
        "Let's now show another `Molecular Generative Model` class."
      ]
    },
    {
      "cell_type": "markdown",
      "metadata": {
        "id": "PnCKREH78JU4"
      },
      "source": [
        "# 2. Variational Autoencoder (VAE)\n",
        "\n",
        "*Image was generated using `DALL-E 3`. The prompt was \"a chef flattens a pancake\"*\n",
        "\n",
        "<div align=\"middle\">\n",
        "<img src=\"https://github.com/schwallergroup/ai4chem_course/blob/main/notebooks/05%20-%20Generative%20Models/images/pancakes.png?raw=1\" width=\"300\"/>\n",
        "</div>\n",
        "\n",
        "What do pancakes have to do with `VAEs`? (but also let me know where the best pancakes in Lausanne are 🥞) In this section, we present a high-level overview of what `VAEs` do. Imagine you have a stack of pancakes, some with blueberries and some with raspberries. You then take the biggest spatula you can find and squash it such that you can't even distinguish the pancakes from each other anymore - they are all combined together into a giant pancake like in the image. Now imagine the surface of this giant flat pancake. You start looking around and you notice some blueberries and think to yourself, \"this must have came from the blueberry pancake originally\". You look around some more and you see another piece of pancake but with both blueberries and raspberries. There were no original pancakes with both berries so you conclude that this piece of pancake must have been from a little bit of the blueberry pancake and a little bit of the raspberry pancake.\n",
        "\n",
        "Remembering this analogy, we now present a high-level overview of `VAEs` starting with a classic image of the model. This particular image is from [Saul Dobilas](https://towardsdatascience.com/vae-variational-autoencoders-how-to-employ-neural-networks-to-generate-new-images-bdeb216ed2c0).\n",
        "\n",
        "<div align=\"middle\">\n",
        "<img src=\"https://github.com/schwallergroup/ai4chem_course/blob/main/notebooks/05%20-%20Generative%20Models/images/vae.png?raw=1\" width=\"900\"/>\n",
        "</div>\n",
        "\n",
        "The `Encoder` takes molecules and converts it into a low-dimensional vector and maps it onto a `Gaussian Distribution`. Recall that `Gaussian Distributions` are completely defined by their `mean` and `variance`. Specifically, knowing both the `mean` and `variance` allows you to construct the full `Gaussian Distribution`. The `Latent Vector` is now computed based on the `mean` and `variance` but with some noise added to it. In the image, this noise is drawn from a `Gaussian Distribution`. The job of the `Decoder` is to take this `Latent Vector` and `reconstruct` the input.\n",
        "\n",
        "Let's tie this back to the pancakes analogy. By converting all molecules into a low-dimensional vector via the `Encoder`, a continuous `Latent Space` is created. We squash all our blueberry and raspberry pancakes into a single giant pancake (we take all our molecules and \"flatten\" them). The model can be trained to `reconstruct` the blueberry pancake (some molecule) given the squashed blueberry pancake (the `Latent Vector`). What happens when you get to the pancake piece that has both blueberries and raspberries? By defining a continuous `Latent Space`, the `reconstructed` molecule from this chunk of pancake is a hybrid between blueberry and raspberry. This is where the `Generative Molecular Model` comes in: by sampling `Latent Vectors` from the `Latent Space`, the `Decoder` can `reconstruct` different molecules back!\n",
        "\n",
        "In the [original molecular `VAE` paper](https://pubs.acs.org/doi/10.1021/acscentsci.7b00572), they train a neural network model to predict properties in the `Latent Space`. They also show how you can move in the `Latent Space` to go from some starting molecule to another molecules with desired properties. Here, we omit further details and instead try to visually demonstrate what the `Latent Space` is."
      ]
    },
    {
      "cell_type": "markdown",
      "metadata": {
        "id": "bN1JXmr78JU4"
      },
      "source": [
        "**Note:** The `VAE` code from this section is taken from\n",
        "[Akshay Subramanian](https://aksub99.github.io/) who reimplemented the original [VAE](https://pubs.acs.org/doi/10.1021/acscentsci.7b00572) in `PyTorch` in this [Jupyter notebook](https://github.com/aksub99/molecular-vae/blob/master/Molecular_VAE.ipynb)\n",
        "\n",
        "The code is shown here but you do not have to go over anything/everything. It is shown here to highlight the key steps that occur. Some comments have been added to map the big idea of what is happening back to the `VAE` image above.\n",
        "\n",
        "**Further Note:** There are no tasks in this section"
      ]
    },
    {
      "cell_type": "code",
      "execution_count": 9,
      "metadata": {
        "id": "8e7jz0ra8JU5"
      },
      "outputs": [],
      "source": [
        "# imports\n",
        "import torch\n",
        "import torch.nn as nn\n",
        "import torch.nn.functional as F\n",
        "import torch.utils.data\n",
        "import gzip\n",
        "import pandas\n",
        "import h5py\n",
        "import numpy as np\n",
        "from __future__ import print_function\n",
        "import argparse\n",
        "import os\n",
        "import h5py\n",
        "import torch.optim as optim\n",
        "from torch.optim.lr_scheduler import ReduceLROnPlateau\n",
        "from sklearn import model_selection"
      ]
    },
    {
      "cell_type": "code",
      "execution_count": 10,
      "metadata": {
        "id": "BDMWc1Jx8JU5"
      },
      "outputs": [],
      "source": [
        "# these are utility functions\n",
        "def one_hot_array(i, n):\n",
        "    return map(int, [ix == i for ix in xrange(n)])\n",
        "\n",
        "def one_hot_index(vec, charset):\n",
        "    return map(charset.index, vec)\n",
        "\n",
        "def from_one_hot_array(vec):\n",
        "    oh = np.where(vec == 1)\n",
        "    if oh[0].shape == (0, ):\n",
        "        return None\n",
        "    return int(oh[0][0])\n",
        "\n",
        "def decode_smiles_from_indexes(vec, charset):\n",
        "    return b\"\".join(map(lambda x: charset[x], vec)).strip()\n",
        "\n",
        "def load_dataset(filename, split = True):\n",
        "    h5f = h5py.File(filename, 'r')\n",
        "    if split:\n",
        "        data_train = h5f['data_train'][:]\n",
        "    else:\n",
        "        data_train = None\n",
        "    data_test = h5f['data_test'][:]\n",
        "    charset =  h5f['charset'][:]\n",
        "    h5f.close()\n",
        "    if split:\n",
        "        return (data_train, data_test, charset)\n",
        "    else:\n",
        "        return (data_test, charset)"
      ]
    },
    {
      "cell_type": "code",
      "execution_count": 11,
      "metadata": {
        "id": "JxgLvE3l8JU5"
      },
      "outputs": [],
      "source": [
        "# the main code for the VAE\n",
        "class MolecularVAE(nn.Module):\n",
        "    def __init__(self):\n",
        "        super().__init__()\n",
        "\n",
        "        # encoder related blocks\n",
        "        self.conv_1 = nn.Conv1d(120, 9, kernel_size=9)\n",
        "        self.conv_2 = nn.Conv1d(9, 9, kernel_size=9)\n",
        "        self.conv_3 = nn.Conv1d(9, 10, kernel_size=11)\n",
        "        self.linear_0 = nn.Linear(70, 435)\n",
        "        self.linear_1 = nn.Linear(435, 292)\n",
        "        self.linear_2 = nn.Linear(435, 292)\n",
        "\n",
        "        # decoder related blocks\n",
        "        self.linear_3 = nn.Linear(292, 292)\n",
        "        self.gru = nn.GRU(292, 501, 3, batch_first=True)\n",
        "        self.linear_4 = nn.Linear(501, 33)\n",
        "\n",
        "        # activation function\n",
        "        self.relu = nn.ReLU()\n",
        "\n",
        "    def encode(self, x):\n",
        "        # forward pass through encoder (pancake squashing!)\n",
        "        x = self.relu(self.conv_1(x))\n",
        "        x = self.relu(self.conv_2(x))\n",
        "        x = self.relu(self.conv_3(x))\n",
        "        x = x.view(x.size(0), -1)\n",
        "        x = F.selu(self.linear_0(x))\n",
        "        return self.linear_1(x), self.linear_2(x)\n",
        "\n",
        "    def sampling(self, z_mean, z_logvar):\n",
        "        # recall in the VAE figure, noise is added\n",
        "        # epsilon is the noise\n",
        "        epsilon = 1e-2 * torch.randn_like(z_logvar)\n",
        "        # return the latent vector (this is what the decoder will use to reconstruct the input)\n",
        "        return torch.exp(0.5 * z_logvar) * epsilon + z_mean\n",
        "\n",
        "    def decode(self, z):\n",
        "        # forward pass through decoder to go from latent vector back to a molecule\n",
        "        z = F.selu(self.linear_3(z))\n",
        "        z = z.view(z.size(0), 1, z.size(-1)).repeat(1, 120, 1)\n",
        "        output, hn = self.gru(z)\n",
        "        out_reshape = output.contiguous().view(-1, output.size(-1))\n",
        "        y0 = F.softmax(self.linear_4(out_reshape), dim=1)\n",
        "        y = y0.contiguous().view(output.size(0), -1, y0.size(-1))\n",
        "        return y\n",
        "\n",
        "    def forward(self, x):\n",
        "        # the overall forward pass takes the input, passes it to the encoder and then decoder\n",
        "        # first encode your input to get the mean and variance of the Gaussian distribution it is mapped to\n",
        "        z_mean, z_logvar = self.encode(x)\n",
        "        # get the latent vector taking the mean and variance above and adding noise t it\n",
        "        z = self.sampling(z_mean, z_logvar)\n",
        "        # decode the latent vector, z, to reconstruct a molecule\n",
        "        return self.decode(z), z_mean, z_logvar\n",
        "\n",
        "def vae_loss(x_decoded_mean, x, z_mean, z_logvar):\n",
        "    # the loss function is a combination of 2 quantities:\n",
        "    #     1. \"reconstruction loss\" which measures how different the reconstructed molecule\n",
        "    #        is to the original. We would want them to be similar\n",
        "\n",
        "    #     2. \"Kullback–Leibler (KL) divergence\". We are trying to approximate the distribution\n",
        "    #         of the latent vector with a Gaussian distribution. The KL divergence measure how \"off\" we are\n",
        "    reconstruction_loss = F.binary_cross_entropy(x_decoded_mean, x, size_average=False)\n",
        "    kl_loss = -0.5 * torch.sum(1 + z_logvar - z_mean.pow(2) - z_logvar.exp())\n",
        "    return reconstruction_loss + kl_loss"
      ]
    },
    {
      "cell_type": "code",
      "execution_count": 12,
      "metadata": {
        "id": "IkdgEtPG8JU5"
      },
      "outputs": [],
      "source": [
        "# this was used when we pre-trained the VAE\n",
        "# it initializes a PyTorch DataLoader so we can read batches of molecules at a time during training\n",
        "data_train, data_test, charset = load_dataset('molecular-vae/data/processed.h5')\n",
        "data_train = torch.utils.data.TensorDataset(torch.from_numpy(data_train))\n",
        "train_loader = torch.utils.data.DataLoader(data_train, batch_size=500, shuffle=True)"
      ]
    },
    {
      "cell_type": "code",
      "execution_count": 13,
      "metadata": {
        "id": "ybcYUoPq8JU5",
        "outputId": "7ac40a69-0585-46ae-c332-12d2ff602b8b",
        "colab": {
          "base_uri": "https://localhost:8080/"
        }
      },
      "outputs": [
        {
          "output_type": "execute_result",
          "data": {
            "text/plain": [
              "<All keys matched successfully>"
            ]
          },
          "metadata": {},
          "execution_count": 13
        }
      ],
      "source": [
        "# initiate an instance of the MolecularVAE\n",
        "pretrained_vae = MolecularVAE()\n",
        "# load the pre-trained model (we provide this)\n",
        "pretrained_vae.load_state_dict(torch.load('pretrained.vae.pt'))"
      ]
    },
    {
      "cell_type": "markdown",
      "metadata": {
        "id": "sIEYXnmv8JU5"
      },
      "source": [
        "Starting below, we will visualize the `Latent Space`."
      ]
    },
    {
      "cell_type": "code",
      "execution_count": 14,
      "metadata": {
        "id": "mGqzuJSP8JU5"
      },
      "outputs": [],
      "source": [
        "# RERUN HERE FOR NEW MOLECULES!\n",
        "# this bit of code randomly takes 500 molecules from the training data\n",
        "for batch in train_loader:\n",
        "    training_data_molecules = batch"
      ]
    },
    {
      "cell_type": "code",
      "execution_count": 15,
      "metadata": {
        "id": "oIA4BoM18JU5"
      },
      "outputs": [],
      "source": [
        "# manually add some noise to the training data molecules --> we will see\n",
        "# what these \"noised\" molecules look like in the latent space later\n",
        "num_noised = 10\n",
        "\n",
        "noised_molecules = training_data_molecules[0][:num_noised] + torch.normal(0, 0.0001, (num_noised, 120, len(charset)))"
      ]
    },
    {
      "cell_type": "code",
      "execution_count": 16,
      "metadata": {
        "id": "hwQz22VL8JU5"
      },
      "outputs": [],
      "source": [
        "# this bit of code gets the SMILES back from the 500 training data molecules we got above\n",
        "smiles_list = []\n",
        "for idx in range(training_data_molecules[0].shape[0]):\n",
        "    vector = training_data_molecules[0][idx].reshape(1, 120, len(charset)).argmax(axis=2)[0]\n",
        "    smiles = decode_smiles_from_indexes(vector, charset)\n",
        "    smiles = str(smiles).replace(\"'\", '').replace('b', '')\n",
        "    smiles_list.append(smiles)"
      ]
    },
    {
      "cell_type": "code",
      "execution_count": 17,
      "metadata": {
        "id": "uRytB7oC8JU5"
      },
      "outputs": [],
      "source": [
        "# this bit of code gets the SMILES from the \"noised\" training data molecules\n",
        "noised_smiles_list = []\n",
        "for idx in range(noised_molecules.shape[0]):\n",
        "    vector = noised_molecules[idx].reshape(1, 120, len(charset)).argmax(axis=2)[0]\n",
        "    smiles = decode_smiles_from_indexes(vector, charset)\n",
        "    smiles = str(smiles).replace(\"'\", '').replace('b', '')\n",
        "    noised_smiles_list.append(smiles)"
      ]
    },
    {
      "cell_type": "code",
      "execution_count": 18,
      "metadata": {
        "id": "vaupOmt18JU5"
      },
      "outputs": [],
      "source": [
        "# encode the training data SMILES\n",
        "z_mean, z_logvar = pretrained_vae.encode(training_data_molecules[0])\n",
        "# get the latent space\n",
        "latent_space = pretrained_vae.sampling(z_mean, z_logvar)\n",
        "\n",
        "# encode the noised data\n",
        "noised_z_mean, noised_z_logvar = pretrained_vae.encode(noised_molecules)\n",
        "# get the latent space of the \"noised\" molecules\n",
        "noised_latent_space = pretrained_vae.sampling(noised_z_mean, noised_z_logvar)"
      ]
    },
    {
      "cell_type": "code",
      "execution_count": 20,
      "metadata": {
        "id": "1R1WydFh8JU5",
        "outputId": "5e061f21-2257-44d8-fbe0-94cd28b9bdd8",
        "colab": {
          "base_uri": "https://localhost:8080/",
          "height": 494
        }
      },
      "outputs": [
        {
          "output_type": "stream",
          "name": "stdout",
          "text": [
            "Dash is running on http://127.0.0.1:8050/\n",
            "\n"
          ]
        },
        {
          "output_type": "stream",
          "name": "stderr",
          "text": [
            "INFO:dash.dash:Dash is running on http://127.0.0.1:8050/\n",
            "\n"
          ]
        },
        {
          "output_type": "display_data",
          "data": {
            "text/plain": [
              "<IPython.core.display.Javascript object>"
            ],
            "application/javascript": [
              "(async (port, path, width, height, cache, element) => {\n",
              "    if (!google.colab.kernel.accessAllowed && !cache) {\n",
              "      return;\n",
              "    }\n",
              "    element.appendChild(document.createTextNode(''));\n",
              "    const url = await google.colab.kernel.proxyPort(port, {cache});\n",
              "    const iframe = document.createElement('iframe');\n",
              "    iframe.src = new URL(path, url).toString();\n",
              "    iframe.height = height;\n",
              "    iframe.width = width;\n",
              "    iframe.style.border = 0;\n",
              "    iframe.allow = [\n",
              "        'accelerometer',\n",
              "        'autoplay',\n",
              "        'camera',\n",
              "        'clipboard-read',\n",
              "        'clipboard-write',\n",
              "        'gyroscope',\n",
              "        'magnetometer',\n",
              "        'microphone',\n",
              "        'serial',\n",
              "        'usb',\n",
              "        'xr-spatial-tracking',\n",
              "    ].join('; ');\n",
              "    element.appendChild(iframe);\n",
              "  })(8050, \"/\", \"100%\", 400, false, window.element)"
            ]
          },
          "metadata": {}
        }
      ],
      "source": [
        "# the code here plots an interative latent space - hover around the space and explore the molecules!\n",
        "import plotly\n",
        "import plotly.express as px\n",
        "import molplotly\n",
        "import pandas as pd\n",
        "\n",
        "all_smiles = smiles_list + noised_smiles_list\n",
        "full_latent_space = torch.vstack([latent_space, noised_latent_space])\n",
        "\n",
        "plotting_df = pd.DataFrame({'smiles': all_smiles,\n",
        "                           'group': ['Training Data']*500 + ['Sampled from Latent Space']*num_noised,\n",
        "                           'latent_space_x': full_latent_space[:, 0].detach(),\n",
        "                           'latent_space_y': full_latent_space[:, 1].detach()})\n",
        "\n",
        "fig_scatter = px.scatter(plotting_df,\n",
        "                         x='latent_space_x',\n",
        "                         y='latent_space_y',\n",
        "                         color='group')\n",
        "\n",
        "app_scatter = molplotly.add_molecules(fig=fig_scatter,\n",
        "                                      df=plotting_df,\n",
        "                                      smiles_col='smiles',\n",
        "                                      title_col='group',\n",
        "                                      color_col='group')\n",
        "\n",
        "app_scatter.run_server(mode='inline', height=400)\n",
        "\n",
        "# the red points are the \"sampled\" molecules created from adding \"noise\" to the latent vectors of the\n",
        "# training data molecules. Here, let's bring back the analogy of the blueberry and raspberry pancakes.\n",
        "# Locate a red point and look at the training data points around it. You should be able to see some\n",
        "# structural similarities. One can think of the red point as a \"hybrid\" between its surrounding neighbours\n",
        "# of blue points, i.e., it's a hybrid between blueberry and raspberry\n",
        "\n",
        "# Note: it could be that sometimes \"close\" points are not that similar - this has to do with the \"smoothness\"\n",
        "#       of the latent space such that there are abrupt changes\n",
        "\n",
        "# Finally, if you want to see new molecules, re-run the cell above marked with \"RERUN HERE FOR NEW MOLECULES!\""
      ]
    }
  ],
  "metadata": {
    "kernelspec": {
      "display_name": "Python 3 (ipykernel)",
      "language": "python",
      "name": "python3"
    },
    "language_info": {
      "codemirror_mode": {
        "name": "ipython",
        "version": 3
      },
      "file_extension": ".py",
      "mimetype": "text/x-python",
      "name": "python",
      "nbconvert_exporter": "python",
      "pygments_lexer": "ipython3",
      "version": "3.10.6"
    },
    "vscode": {
      "interpreter": {
        "hash": "1be16fbddf550357e4e46540ee01bc6d12a48d7bc56fc8427cd30121d5943dc8"
      }
    },
    "colab": {
      "provenance": []
    }
  },
  "nbformat": 4,
  "nbformat_minor": 0
}