{
  "cells": [
    {
      "cell_type": "markdown",
      "id": "f7b6d7b6-698e-4ea2-b8e9-bad6f279fcfe",
      "metadata": {
        "id": "f7b6d7b6-698e-4ea2-b8e9-bad6f279fcfe"
      },
      "source": [
        "<a href=\"https://colab.research.google.com/github/schwallergroup/ai4chem_course/blob/main/notebooks/02%20-%20Supervised%20Learning/training_and_evaluating_ml_models.ipynb\" target=\"_parent\"><img src=\"https://colab.research.google.com/assets/colab-badge.svg\" alt=\"Open In Colab\"/></a>"
      ]
    },
    {
      "cell_type": "markdown",
      "id": "cd7ee09d-524b-4f90-ac5c-cc37187ba4c4",
      "metadata": {
        "id": "cd7ee09d-524b-4f90-ac5c-cc37187ba4c4"
      },
      "source": [
        "# Week 2 tutorial - AI 4 Chemistry\n",
        "\n",
        "## Table of content\n",
        "\n",
        "0. Relevant packages\n",
        "1. Supervised learning\n",
        "2. Regression\n",
        "3. Classification"
      ]
    },
    {
      "cell_type": "markdown",
      "id": "a15d3c35",
      "metadata": {
        "tags": [],
        "id": "a15d3c35"
      },
      "source": [
        "# 0. Relevant packages\n",
        "\n",
        "### Scikit-learn\n",
        "Scikit-learn is an open source machine learning library that supports supervised and unsupervised learning. It also provides various tools for model fitting, data preprocessing, model selection, model evaluation, and many other utilities. We will learn to use scikit-learn to do machine learning work. You can also browse the scikit-learn [user guide](https://scikit-learn.org/stable/user_guide.html) and [tutorials](https://scikit-learn.org/stable/tutorial/index.html) for additional details.\n",
        "### Essential Libraries and Tools\n",
        "Scikit-learn depends on two other Python packages, NumPy and SciPy. For plotting and interactive development, you should also install matplotlib, IPython, and the Jupyter Notebook.\n",
        "- **NumPy** is one of the fundamental packages for scientific computing in Python. In scikit-learn, the NumPy array is the fundamental data structure. Any data you’re using will have to be converted to a NumPy array.\n",
        "- **SciPy** is a collection of functions for scientific computing in Python. Scikit-learn draws from SciPy’s collection of functions for implementing its algorithms.\n",
        "- **Matplotlib** is the primary scientific plotting library in Python. It provides functions for making publication-quality visualizations such as line charts, histograms, scatter plots, and so on.\n",
        "- **Pandas** Python library for data wrangling and analysis. It can ingest from a great variety of file formats and databases, like SQL, Excel files, and comma-separated values (CSV) files.\n",
        "\n",
        "### XGBoost\n",
        "XGBoost (eXtreme Gradient Boosting) is an optimized distributed gradient boosting library designed to be highly efficient, flexible and portable. It implements machine learning algorithms under the Gradient Boosting framework. XGBoost provides a parallel tree boosting (also known as GBDT, GBM) that solve many data science problems in a fast and accurate way. You can also browse the [XGBoost Documentation](https://xgboost.readthedocs.io/en/stable/) for additional details.\n",
        "\n",
        "### DeepChem\n",
        "DeepChem is a high quality open-source toolchain that democratizes the use of deep-learning in chemistry, biology and materials science. It also provides various tools for dataset loader, splitters, molecular featurization, model construction and hyperparameter tuning. You can also browse the [DeepChem Ducumentation](https://deepchem.readthedocs.io/en/latest/) for additional details."
      ]
    },
    {
      "cell_type": "markdown",
      "id": "44fbf541",
      "metadata": {
        "id": "44fbf541"
      },
      "source": [
        "We will first install the required libraries. We also need `RDKit` library to process and analyze molecules, like calculating molecular descriptors."
      ]
    },
    {
      "cell_type": "code",
      "execution_count": 1,
      "id": "6ee96d46-2b8a-4043-8289-a5944f5311b7",
      "metadata": {
        "colab": {
          "base_uri": "https://localhost:8080/"
        },
        "id": "6ee96d46-2b8a-4043-8289-a5944f5311b7",
        "outputId": "d146a3ef-0a6b-4011-ce22-060a7fcfea33"
      },
      "outputs": [
        {
          "output_type": "stream",
          "name": "stdout",
          "text": [
            "Requirement already satisfied: numpy in /usr/local/lib/python3.11/dist-packages (2.0.2)\n",
            "Requirement already satisfied: scipy in /usr/local/lib/python3.11/dist-packages (1.15.3)\n",
            "Requirement already satisfied: matplotlib in /usr/local/lib/python3.11/dist-packages (3.10.0)\n",
            "Requirement already satisfied: scikit-learn in /usr/local/lib/python3.11/dist-packages (1.6.1)\n",
            "Requirement already satisfied: pandas in /usr/local/lib/python3.11/dist-packages (2.2.2)\n",
            "Collecting rdkit\n",
            "  Downloading rdkit-2025.3.2-cp311-cp311-manylinux_2_28_x86_64.whl.metadata (4.0 kB)\n",
            "Requirement already satisfied: xgboost in /usr/local/lib/python3.11/dist-packages (2.1.4)\n",
            "Collecting deepchem\n",
            "  Downloading deepchem-2.8.0-py3-none-any.whl.metadata (2.0 kB)\n",
            "Collecting mordred\n",
            "  Downloading mordred-1.2.0.tar.gz (128 kB)\n",
            "\u001b[2K     \u001b[90m━━━━━━━━━━━━━━━━━━━━━━━━━━━━━━━━━━━━━━━\u001b[0m \u001b[32m128.8/128.8 kB\u001b[0m \u001b[31m2.4 MB/s\u001b[0m eta \u001b[36m0:00:00\u001b[0m\n",
            "\u001b[?25h  Preparing metadata (setup.py) ... \u001b[?25l\u001b[?25hdone\n",
            "Collecting pycm\n",
            "  Downloading pycm-4.3-py3-none-any.whl.metadata (50 kB)\n",
            "\u001b[2K     \u001b[90m━━━━━━━━━━━━━━━━━━━━━━━━━━━━━━━━━━━━━━━━\u001b[0m \u001b[32m50.3/50.3 kB\u001b[0m \u001b[31m3.0 MB/s\u001b[0m eta \u001b[36m0:00:00\u001b[0m\n",
            "\u001b[?25hRequirement already satisfied: contourpy>=1.0.1 in /usr/local/lib/python3.11/dist-packages (from matplotlib) (1.3.2)\n",
            "Requirement already satisfied: cycler>=0.10 in /usr/local/lib/python3.11/dist-packages (from matplotlib) (0.12.1)\n",
            "Requirement already satisfied: fonttools>=4.22.0 in /usr/local/lib/python3.11/dist-packages (from matplotlib) (4.58.1)\n",
            "Requirement already satisfied: kiwisolver>=1.3.1 in /usr/local/lib/python3.11/dist-packages (from matplotlib) (1.4.8)\n",
            "Requirement already satisfied: packaging>=20.0 in /usr/local/lib/python3.11/dist-packages (from matplotlib) (24.2)\n",
            "Requirement already satisfied: pillow>=8 in /usr/local/lib/python3.11/dist-packages (from matplotlib) (11.2.1)\n",
            "Requirement already satisfied: pyparsing>=2.3.1 in /usr/local/lib/python3.11/dist-packages (from matplotlib) (3.2.3)\n",
            "Requirement already satisfied: python-dateutil>=2.7 in /usr/local/lib/python3.11/dist-packages (from matplotlib) (2.9.0.post0)\n",
            "Requirement already satisfied: joblib>=1.2.0 in /usr/local/lib/python3.11/dist-packages (from scikit-learn) (1.5.1)\n",
            "Requirement already satisfied: threadpoolctl>=3.1.0 in /usr/local/lib/python3.11/dist-packages (from scikit-learn) (3.6.0)\n",
            "Requirement already satisfied: pytz>=2020.1 in /usr/local/lib/python3.11/dist-packages (from pandas) (2025.2)\n",
            "Requirement already satisfied: tzdata>=2022.7 in /usr/local/lib/python3.11/dist-packages (from pandas) (2025.2)\n",
            "Requirement already satisfied: nvidia-nccl-cu12 in /usr/local/lib/python3.11/dist-packages (from xgboost) (2.21.5)\n",
            "Requirement already satisfied: sympy in /usr/local/lib/python3.11/dist-packages (from deepchem) (1.13.1)\n",
            "Requirement already satisfied: six==1.* in /usr/local/lib/python3.11/dist-packages (from mordred) (1.17.0)\n",
            "Collecting numpy\n",
            "  Downloading numpy-1.26.4-cp311-cp311-manylinux_2_17_x86_64.manylinux2014_x86_64.whl.metadata (61 kB)\n",
            "\u001b[2K     \u001b[90m━━━━━━━━━━━━━━━━━━━━━━━━━━━━━━━━━━━━━━━━\u001b[0m \u001b[32m61.0/61.0 kB\u001b[0m \u001b[31m4.1 MB/s\u001b[0m eta \u001b[36m0:00:00\u001b[0m\n",
            "\u001b[?25hCollecting networkx==2.* (from mordred)\n",
            "  Downloading networkx-2.8.8-py3-none-any.whl.metadata (5.1 kB)\n",
            "Collecting art>=1.8 (from pycm)\n",
            "  Downloading art-6.5-py3-none-any.whl.metadata (72 kB)\n",
            "\u001b[2K     \u001b[90m━━━━━━━━━━━━━━━━━━━━━━━━━━━━━━━━━━━━━━━━\u001b[0m \u001b[32m72.3/72.3 kB\u001b[0m \u001b[31m4.9 MB/s\u001b[0m eta \u001b[36m0:00:00\u001b[0m\n",
            "\u001b[?25hRequirement already satisfied: mpmath<1.4,>=1.1.0 in /usr/local/lib/python3.11/dist-packages (from sympy->deepchem) (1.3.0)\n",
            "Downloading rdkit-2025.3.2-cp311-cp311-manylinux_2_28_x86_64.whl (35.2 MB)\n",
            "\u001b[2K   \u001b[90m━━━━━━━━━━━━━━━━━━━━━━━━━━━━━━━━━━━━━━━━\u001b[0m \u001b[32m35.2/35.2 MB\u001b[0m \u001b[31m48.4 MB/s\u001b[0m eta \u001b[36m0:00:00\u001b[0m\n",
            "\u001b[?25hDownloading deepchem-2.8.0-py3-none-any.whl (1.0 MB)\n",
            "\u001b[2K   \u001b[90m━━━━━━━━━━━━━━━━━━━━━━━━━━━━━━━━━━━━━━━━\u001b[0m \u001b[32m1.0/1.0 MB\u001b[0m \u001b[31m45.8 MB/s\u001b[0m eta \u001b[36m0:00:00\u001b[0m\n",
            "\u001b[?25hDownloading numpy-1.26.4-cp311-cp311-manylinux_2_17_x86_64.manylinux2014_x86_64.whl (18.3 MB)\n",
            "\u001b[2K   \u001b[90m━━━━━━━━━━━━━━━━━━━━━━━━━━━━━━━━━━━━━━━━\u001b[0m \u001b[32m18.3/18.3 MB\u001b[0m \u001b[31m85.8 MB/s\u001b[0m eta \u001b[36m0:00:00\u001b[0m\n",
            "\u001b[?25hDownloading networkx-2.8.8-py3-none-any.whl (2.0 MB)\n",
            "\u001b[2K   \u001b[90m━━━━━━━━━━━━━━━━━━━━━━━━━━━━━━━━━━━━━━━━\u001b[0m \u001b[32m2.0/2.0 MB\u001b[0m \u001b[31m8.4 MB/s\u001b[0m eta \u001b[36m0:00:00\u001b[0m\n",
            "\u001b[?25hDownloading pycm-4.3-py3-none-any.whl (70 kB)\n",
            "\u001b[2K   \u001b[90m━━━━━━━━━━━━━━━━━━━━━━━━━━━━━━━━━━━━━━━━\u001b[0m \u001b[32m70.9/70.9 kB\u001b[0m \u001b[31m4.7 MB/s\u001b[0m eta \u001b[36m0:00:00\u001b[0m\n",
            "\u001b[?25hDownloading art-6.5-py3-none-any.whl (610 kB)\n",
            "\u001b[2K   \u001b[90m━━━━━━━━━━━━━━━━━━━━━━━━━━━━━━━━━━━━━━━━\u001b[0m \u001b[32m610.4/610.4 kB\u001b[0m \u001b[31m36.3 MB/s\u001b[0m eta \u001b[36m0:00:00\u001b[0m\n",
            "\u001b[?25hBuilding wheels for collected packages: mordred\n",
            "  Building wheel for mordred (setup.py) ... \u001b[?25l\u001b[?25hdone\n",
            "  Created wheel for mordred: filename=mordred-1.2.0-py3-none-any.whl size=176718 sha256=5e894ac5add2c6e5f52e7774683567f51a026e4492670099c00452edc0fecddb\n",
            "  Stored in directory: /root/.cache/pip/wheels/8b/30/0b/84e3f6775306e74cf5957ee4d16b10bf3927dcec44cc23d5f2\n",
            "Successfully built mordred\n",
            "Installing collected packages: numpy, networkx, art, rdkit, pycm, mordred, deepchem\n",
            "  Attempting uninstall: numpy\n",
            "    Found existing installation: numpy 2.0.2\n",
            "    Uninstalling numpy-2.0.2:\n",
            "      Successfully uninstalled numpy-2.0.2\n",
            "  Attempting uninstall: networkx\n",
            "    Found existing installation: networkx 3.5\n",
            "    Uninstalling networkx-3.5:\n",
            "      Successfully uninstalled networkx-3.5\n",
            "\u001b[31mERROR: pip's dependency resolver does not currently take into account all the packages that are installed. This behaviour is the source of the following dependency conflicts.\n",
            "torch 2.6.0+cu124 requires nvidia-cublas-cu12==12.4.5.8; platform_system == \"Linux\" and platform_machine == \"x86_64\", but you have nvidia-cublas-cu12 12.5.3.2 which is incompatible.\n",
            "torch 2.6.0+cu124 requires nvidia-cuda-cupti-cu12==12.4.127; platform_system == \"Linux\" and platform_machine == \"x86_64\", but you have nvidia-cuda-cupti-cu12 12.5.82 which is incompatible.\n",
            "torch 2.6.0+cu124 requires nvidia-cuda-nvrtc-cu12==12.4.127; platform_system == \"Linux\" and platform_machine == \"x86_64\", but you have nvidia-cuda-nvrtc-cu12 12.5.82 which is incompatible.\n",
            "torch 2.6.0+cu124 requires nvidia-cuda-runtime-cu12==12.4.127; platform_system == \"Linux\" and platform_machine == \"x86_64\", but you have nvidia-cuda-runtime-cu12 12.5.82 which is incompatible.\n",
            "torch 2.6.0+cu124 requires nvidia-cudnn-cu12==9.1.0.70; platform_system == \"Linux\" and platform_machine == \"x86_64\", but you have nvidia-cudnn-cu12 9.3.0.75 which is incompatible.\n",
            "torch 2.6.0+cu124 requires nvidia-cufft-cu12==11.2.1.3; platform_system == \"Linux\" and platform_machine == \"x86_64\", but you have nvidia-cufft-cu12 11.2.3.61 which is incompatible.\n",
            "torch 2.6.0+cu124 requires nvidia-curand-cu12==10.3.5.147; platform_system == \"Linux\" and platform_machine == \"x86_64\", but you have nvidia-curand-cu12 10.3.6.82 which is incompatible.\n",
            "torch 2.6.0+cu124 requires nvidia-cusolver-cu12==11.6.1.9; platform_system == \"Linux\" and platform_machine == \"x86_64\", but you have nvidia-cusolver-cu12 11.6.3.83 which is incompatible.\n",
            "torch 2.6.0+cu124 requires nvidia-cusparse-cu12==12.3.1.170; platform_system == \"Linux\" and platform_machine == \"x86_64\", but you have nvidia-cusparse-cu12 12.5.1.3 which is incompatible.\n",
            "torch 2.6.0+cu124 requires nvidia-nvjitlink-cu12==12.4.127; platform_system == \"Linux\" and platform_machine == \"x86_64\", but you have nvidia-nvjitlink-cu12 12.5.82 which is incompatible.\n",
            "nx-cugraph-cu12 25.2.0 requires networkx>=3.2, but you have networkx 2.8.8 which is incompatible.\n",
            "scikit-image 0.25.2 requires networkx>=3.0, but you have networkx 2.8.8 which is incompatible.\n",
            "thinc 8.3.6 requires numpy<3.0.0,>=2.0.0, but you have numpy 1.26.4 which is incompatible.\u001b[0m\u001b[31m\n",
            "\u001b[0mSuccessfully installed art-6.5 deepchem-2.8.0 mordred-1.2.0 networkx-2.8.8 numpy-1.26.4 pycm-4.3 rdkit-2025.3.2\n",
            "--2025-06-10 14:14:20--  https://raw.githubusercontent.com/schwallergroup/ai4chem_course/main/notebooks/02%20-%20Supervised%20Learning/data/esol.csv\n",
            "Resolving raw.githubusercontent.com (raw.githubusercontent.com)... 185.199.109.133, 185.199.108.133, 185.199.110.133, ...\n",
            "Connecting to raw.githubusercontent.com (raw.githubusercontent.com)|185.199.109.133|:443... connected.\n",
            "HTTP request sent, awaiting response... 200 OK\n",
            "Length: 34453 (34K) [text/plain]\n",
            "Saving to: ‘data/esol.csv’\n",
            "\n",
            "data/esol.csv       100%[===================>]  33.65K  --.-KB/s    in 0.01s   \n",
            "\n",
            "2025-06-10 14:14:20 (3.05 MB/s) - ‘data/esol.csv’ saved [34453/34453]\n",
            "\n",
            "--2025-06-10 14:14:20--  https://raw.githubusercontent.com/schwallergroup/ai4chem_course/main/notebooks/02%20-%20Supervised%20Learning/data/toxcast_data.csv\n",
            "Resolving raw.githubusercontent.com (raw.githubusercontent.com)... 185.199.109.133, 185.199.108.133, 185.199.111.133, ...\n",
            "Connecting to raw.githubusercontent.com (raw.githubusercontent.com)|185.199.109.133|:443... connected.\n",
            "HTTP request sent, awaiting response... 200 OK\n",
            "Length: 10281259 (9.8M) [text/plain]\n",
            "Saving to: ‘data/toxcast_data.csv’\n",
            "\n",
            "data/toxcast_data.c 100%[===================>]   9.80M  --.-KB/s    in 0.1s    \n",
            "\n",
            "2025-06-10 14:14:21 (89.3 MB/s) - ‘data/toxcast_data.csv’ saved [10281259/10281259]\n",
            "\n",
            "--2025-06-10 14:14:21--  https://drive.switch.ch/index.php/s/3WJTVB7xHG8ZOhD/download\n",
            "Resolving drive.switch.ch (drive.switch.ch)... 86.119.34.137, 86.119.34.138, 2001:620:5ca1:1ee::52, ...\n",
            "Connecting to drive.switch.ch (drive.switch.ch)|86.119.34.137|:443... connected.\n",
            "HTTP request sent, awaiting response... 200 OK\n",
            "Length: 102354656 (98M) [application/octet-stream]\n",
            "Saving to: ‘data/features_tox.npy’\n",
            "\n",
            "data/features_tox.n 100%[===================>]  97.61M  26.0MB/s    in 4.4s    \n",
            "\n",
            "2025-06-10 14:14:26 (22.1 MB/s) - ‘data/features_tox.npy’ saved [102354656/102354656]\n",
            "\n",
            "--2025-06-10 14:14:26--  https://drive.switch.ch/index.php/s/lFN8myikJekptjk/download\n",
            "Resolving drive.switch.ch (drive.switch.ch)... 86.119.34.137, 86.119.34.138, 2001:620:5ca1:1ee::52, ...\n",
            "Connecting to drive.switch.ch (drive.switch.ch)|86.119.34.137|:443... connected.\n",
            "HTTP request sent, awaiting response... 200 OK\n",
            "Length: 63584 (62K) [application/octet-stream]\n",
            "Saving to: ‘data/y_tox.npy’\n",
            "\n",
            "data/y_tox.npy      100%[===================>]  62.09K   267KB/s    in 0.2s    \n",
            "\n",
            "2025-06-10 14:14:27 (267 KB/s) - ‘data/y_tox.npy’ saved [63584/63584]\n",
            "\n"
          ]
        }
      ],
      "source": [
        "# Install all libraries\n",
        "!pip install numpy scipy matplotlib scikit-learn pandas rdkit xgboost deepchem mordred pycm\n",
        "\n",
        "# Download all data\n",
        "!mkdir data\n",
        "!wget https://raw.githubusercontent.com/schwallergroup/ai4chem_course/main/notebooks/02%20-%20Supervised%20Learning/data/esol.csv -O data/esol.csv\n",
        "!wget https://raw.githubusercontent.com/schwallergroup/ai4chem_course/main/notebooks/02%20-%20Supervised%20Learning/data/toxcast_data.csv -O data/toxcast_data.csv\n",
        "!wget https://drive.switch.ch/index.php/s/3WJTVB7xHG8ZOhD/download -O data/features_tox.npy\n",
        "!wget https://drive.switch.ch/index.php/s/lFN8myikJekptjk/download -O data/y_tox.npy"
      ]
    },
    {
      "cell_type": "markdown",
      "id": "0dba2fc2",
      "metadata": {
        "id": "0dba2fc2"
      },
      "source": [
        "# 1. Supervised learning\n",
        "Two major types of supervised machine learning problems:\n",
        "- **Classification**, where the task task is to predict a class label (e.g. what color, what smell, state of aggregation, etc).\n",
        "- **Regression**, where the task is to predict a real number (e.g. solubility in water, yield, selectivity, etc).\n",
        "\n",
        "## 1.1 Algorithms\n",
        "- k-Nearest Neighbors (k-NN)\n",
        "- Linear Models\n",
        "- Support Vector Machines (SVM)\n",
        "- Decision Trees\n",
        "- Ensembles of Decision Trees\n",
        "  - Random forests\n",
        "  - Gradient boosting machines\n",
        "\n",
        "The package [scikit-learn](https://scikit-learn.org/stable/index.html) lets us create a large number ML models in a very conveinent way."
      ]
    },
    {
      "cell_type": "code",
      "execution_count": 1,
      "id": "86793e89",
      "metadata": {
        "id": "86793e89"
      },
      "outputs": [],
      "source": [
        "# linear regressor\n",
        "from sklearn.linear_model import LinearRegression\n",
        "lin_reg = LinearRegression()"
      ]
    },
    {
      "cell_type": "markdown",
      "id": "18fd6e5e-2960-4446-8a57-920f0e324129",
      "metadata": {
        "id": "18fd6e5e-2960-4446-8a57-920f0e324129"
      },
      "source": [
        "### Exercise: Similarly to the linear regression model above, create a [k-NN regression model](https://scikit-learn.org/stable/modules/generated/sklearn.neighbors.KNeighborsRegressor.html) using scikit-learn."
      ]
    },
    {
      "cell_type": "code",
      "execution_count": 3,
      "id": "26f1caf4",
      "metadata": {
        "id": "26f1caf4"
      },
      "outputs": [],
      "source": [
        "### YOUR CODE\n",
        "\n",
        "# import\n",
        "from sklearn.neighbors import KNeighborsRegressor\n",
        "\n",
        "# create knn model\n",
        "knn_clf = KNeighborsRegressor(n_neighbors=5)\n",
        "\n",
        "### END"
      ]
    },
    {
      "cell_type": "markdown",
      "id": "3441adba",
      "metadata": {
        "id": "3441adba"
      },
      "source": [
        "Next time, you can browse the scikit-learn [user guide](https://scikit-learn.org/stable/user_guide.html) to learn about supported algorithms and how to create the model you want."
      ]
    },
    {
      "cell_type": "markdown",
      "id": "d7bd577f-19c7-4121-b0c7-753f1e500356",
      "metadata": {
        "id": "d7bd577f-19c7-4121-b0c7-753f1e500356"
      },
      "source": [
        "## 1.2 Model evaluation and data splitting\n",
        "\n",
        "### Why do we need to split the dataset?\n",
        "\n",
        "We want models to learn from data so we can use them in the future, but we also need to know how good our models perform when they see new examples, and so we reserve some part of our dataset for `testing`: we keep it to evaluate how the model would do the real world, with data it hasn't seen before.\n",
        "\n",
        "In addition, typically we implement multiple models and select the best one, but how to assess which one is the best, without revealing the `test set`? Well, take another subset of the data, and this one we call `validation` set.\n",
        "\n",
        "In the end, we end up splitting our data into `training` (used for training the models), `validation` (for selecting the models), and `test` (for testing the resulting models). If you have more time, you can read [this article](https://towardsdatascience.com/how-to-split-data-into-three-sets-train-validation-and-test-and-why-e50d22d3e54c) for more details.\n",
        "\n",
        "### Evaluation metrics\n",
        "The metrics used to evaluate the ML models are very important. The choice of metrics to use influences how model performance is measured and compared. The main evaluation metrics for regression and classification tasks are illustrated below. If you have more time, you can read this [article](https://blog.knoldus.com/model-evaluation-metrics-for-machine-learning-algorithms/) for more details.\n",
        "\n",
        "<div align=\"center\">\n",
        "<img src=\"https://www.oreilly.com/api/v2/epubs/9781492073048/files/assets/mlbf_0407.png\" width=\"500\"/>\n",
        "</div>"
      ]
    },
    {
      "cell_type": "markdown",
      "id": "6a633f2c",
      "metadata": {
        "id": "6a633f2c"
      },
      "source": [
        "## 1.3 The path to a ML model.\n",
        "0. Define the task\n",
        "1. Prepare data & split data\n",
        "2. Choose the model\n",
        "3. Train the model\n",
        "4. Evaluate the model\n",
        "5. Use the model"
      ]
    },
    {
      "cell_type": "markdown",
      "id": "048efaf2",
      "metadata": {
        "id": "048efaf2"
      },
      "source": [
        "# 2. Regression\n",
        "\n",
        "**Aqueous solubility is one of the key physical properties of interest to a medicinal or agrochemical chemist**. Solubility affects the uptake/distribution of biologically active compounds in living material and the environment, thus affecting their potential efficacy and marketability. However, solubility determination is a time-consuming experiment, and it is useful to be able to assess solubility in the absence of a physical sample.\n",
        "\n",
        "Our goal here will be to build a ML model that can predict **aqueous solubility** of organic molecules.\n",
        "\n",
        "### We will use the [ESOL dataset](https://pubs.acs.org/doi/10.1021/ci034243x) for this task.\n",
        "This dataset contains structures and water solubility data for 1128 compounds."
      ]
    },
    {
      "cell_type": "markdown",
      "id": "cf98acc5",
      "metadata": {
        "id": "cf98acc5"
      },
      "source": [
        "### Load dataset"
      ]
    },
    {
      "cell_type": "code",
      "execution_count": 4,
      "id": "bf79eb55",
      "metadata": {
        "colab": {
          "base_uri": "https://localhost:8080/",
          "height": 206
        },
        "id": "bf79eb55",
        "outputId": "75c73530-7741-4a06-d255-f86b45191467"
      },
      "outputs": [
        {
          "output_type": "execute_result",
          "data": {
            "text/plain": [
              "                                              smiles  log solubility (mol/L)\n",
              "364  CC12CC(O)C3C(CCC4=CC(=O)CCC34C)C2CCC1(O)C(=O)CO                  -3.090\n",
              "844             CC34CCC1C(CCc2cc(O)ccc12)C3CC(O)C4O                   -4.955\n",
              "653                                         CCCCOCCO                  -0.420\n",
              "677               CCC(C)c1cc(cc(N(=O)=O)c1O)N(=O)=O                   -3.380\n",
              "888             NS(=O)(=O)c2cc1c(N=CNS1(=O)=O)cc2Cl                   -3.050"
            ],
            "text/html": [
              "\n",
              "  <div id=\"df-a8c617a2-34e1-43e7-9e7c-9be129a07b81\" class=\"colab-df-container\">\n",
              "    <div>\n",
              "<style scoped>\n",
              "    .dataframe tbody tr th:only-of-type {\n",
              "        vertical-align: middle;\n",
              "    }\n",
              "\n",
              "    .dataframe tbody tr th {\n",
              "        vertical-align: top;\n",
              "    }\n",
              "\n",
              "    .dataframe thead th {\n",
              "        text-align: right;\n",
              "    }\n",
              "</style>\n",
              "<table border=\"1\" class=\"dataframe\">\n",
              "  <thead>\n",
              "    <tr style=\"text-align: right;\">\n",
              "      <th></th>\n",
              "      <th>smiles</th>\n",
              "      <th>log solubility (mol/L)</th>\n",
              "    </tr>\n",
              "  </thead>\n",
              "  <tbody>\n",
              "    <tr>\n",
              "      <th>364</th>\n",
              "      <td>CC12CC(O)C3C(CCC4=CC(=O)CCC34C)C2CCC1(O)C(=O)CO</td>\n",
              "      <td>-3.090</td>\n",
              "    </tr>\n",
              "    <tr>\n",
              "      <th>844</th>\n",
              "      <td>CC34CCC1C(CCc2cc(O)ccc12)C3CC(O)C4O</td>\n",
              "      <td>-4.955</td>\n",
              "    </tr>\n",
              "    <tr>\n",
              "      <th>653</th>\n",
              "      <td>CCCCOCCO</td>\n",
              "      <td>-0.420</td>\n",
              "    </tr>\n",
              "    <tr>\n",
              "      <th>677</th>\n",
              "      <td>CCC(C)c1cc(cc(N(=O)=O)c1O)N(=O)=O</td>\n",
              "      <td>-3.380</td>\n",
              "    </tr>\n",
              "    <tr>\n",
              "      <th>888</th>\n",
              "      <td>NS(=O)(=O)c2cc1c(N=CNS1(=O)=O)cc2Cl</td>\n",
              "      <td>-3.050</td>\n",
              "    </tr>\n",
              "  </tbody>\n",
              "</table>\n",
              "</div>\n",
              "    <div class=\"colab-df-buttons\">\n",
              "\n",
              "  <div class=\"colab-df-container\">\n",
              "    <button class=\"colab-df-convert\" onclick=\"convertToInteractive('df-a8c617a2-34e1-43e7-9e7c-9be129a07b81')\"\n",
              "            title=\"Convert this dataframe to an interactive table.\"\n",
              "            style=\"display:none;\">\n",
              "\n",
              "  <svg xmlns=\"http://www.w3.org/2000/svg\" height=\"24px\" viewBox=\"0 -960 960 960\">\n",
              "    <path d=\"M120-120v-720h720v720H120Zm60-500h600v-160H180v160Zm220 220h160v-160H400v160Zm0 220h160v-160H400v160ZM180-400h160v-160H180v160Zm440 0h160v-160H620v160ZM180-180h160v-160H180v160Zm440 0h160v-160H620v160Z\"/>\n",
              "  </svg>\n",
              "    </button>\n",
              "\n",
              "  <style>\n",
              "    .colab-df-container {\n",
              "      display:flex;\n",
              "      gap: 12px;\n",
              "    }\n",
              "\n",
              "    .colab-df-convert {\n",
              "      background-color: #E8F0FE;\n",
              "      border: none;\n",
              "      border-radius: 50%;\n",
              "      cursor: pointer;\n",
              "      display: none;\n",
              "      fill: #1967D2;\n",
              "      height: 32px;\n",
              "      padding: 0 0 0 0;\n",
              "      width: 32px;\n",
              "    }\n",
              "\n",
              "    .colab-df-convert:hover {\n",
              "      background-color: #E2EBFA;\n",
              "      box-shadow: 0px 1px 2px rgba(60, 64, 67, 0.3), 0px 1px 3px 1px rgba(60, 64, 67, 0.15);\n",
              "      fill: #174EA6;\n",
              "    }\n",
              "\n",
              "    .colab-df-buttons div {\n",
              "      margin-bottom: 4px;\n",
              "    }\n",
              "\n",
              "    [theme=dark] .colab-df-convert {\n",
              "      background-color: #3B4455;\n",
              "      fill: #D2E3FC;\n",
              "    }\n",
              "\n",
              "    [theme=dark] .colab-df-convert:hover {\n",
              "      background-color: #434B5C;\n",
              "      box-shadow: 0px 1px 3px 1px rgba(0, 0, 0, 0.15);\n",
              "      filter: drop-shadow(0px 1px 2px rgba(0, 0, 0, 0.3));\n",
              "      fill: #FFFFFF;\n",
              "    }\n",
              "  </style>\n",
              "\n",
              "    <script>\n",
              "      const buttonEl =\n",
              "        document.querySelector('#df-a8c617a2-34e1-43e7-9e7c-9be129a07b81 button.colab-df-convert');\n",
              "      buttonEl.style.display =\n",
              "        google.colab.kernel.accessAllowed ? 'block' : 'none';\n",
              "\n",
              "      async function convertToInteractive(key) {\n",
              "        const element = document.querySelector('#df-a8c617a2-34e1-43e7-9e7c-9be129a07b81');\n",
              "        const dataTable =\n",
              "          await google.colab.kernel.invokeFunction('convertToInteractive',\n",
              "                                                    [key], {});\n",
              "        if (!dataTable) return;\n",
              "\n",
              "        const docLinkHtml = 'Like what you see? Visit the ' +\n",
              "          '<a target=\"_blank\" href=https://colab.research.google.com/notebooks/data_table.ipynb>data table notebook</a>'\n",
              "          + ' to learn more about interactive tables.';\n",
              "        element.innerHTML = '';\n",
              "        dataTable['output_type'] = 'display_data';\n",
              "        await google.colab.output.renderOutput(dataTable, element);\n",
              "        const docLink = document.createElement('div');\n",
              "        docLink.innerHTML = docLinkHtml;\n",
              "        element.appendChild(docLink);\n",
              "      }\n",
              "    </script>\n",
              "  </div>\n",
              "\n",
              "\n",
              "    <div id=\"df-587cd556-7e3b-4afc-ab83-4d24bbf008eb\">\n",
              "      <button class=\"colab-df-quickchart\" onclick=\"quickchart('df-587cd556-7e3b-4afc-ab83-4d24bbf008eb')\"\n",
              "                title=\"Suggest charts\"\n",
              "                style=\"display:none;\">\n",
              "\n",
              "<svg xmlns=\"http://www.w3.org/2000/svg\" height=\"24px\"viewBox=\"0 0 24 24\"\n",
              "     width=\"24px\">\n",
              "    <g>\n",
              "        <path d=\"M19 3H5c-1.1 0-2 .9-2 2v14c0 1.1.9 2 2 2h14c1.1 0 2-.9 2-2V5c0-1.1-.9-2-2-2zM9 17H7v-7h2v7zm4 0h-2V7h2v10zm4 0h-2v-4h2v4z\"/>\n",
              "    </g>\n",
              "</svg>\n",
              "      </button>\n",
              "\n",
              "<style>\n",
              "  .colab-df-quickchart {\n",
              "      --bg-color: #E8F0FE;\n",
              "      --fill-color: #1967D2;\n",
              "      --hover-bg-color: #E2EBFA;\n",
              "      --hover-fill-color: #174EA6;\n",
              "      --disabled-fill-color: #AAA;\n",
              "      --disabled-bg-color: #DDD;\n",
              "  }\n",
              "\n",
              "  [theme=dark] .colab-df-quickchart {\n",
              "      --bg-color: #3B4455;\n",
              "      --fill-color: #D2E3FC;\n",
              "      --hover-bg-color: #434B5C;\n",
              "      --hover-fill-color: #FFFFFF;\n",
              "      --disabled-bg-color: #3B4455;\n",
              "      --disabled-fill-color: #666;\n",
              "  }\n",
              "\n",
              "  .colab-df-quickchart {\n",
              "    background-color: var(--bg-color);\n",
              "    border: none;\n",
              "    border-radius: 50%;\n",
              "    cursor: pointer;\n",
              "    display: none;\n",
              "    fill: var(--fill-color);\n",
              "    height: 32px;\n",
              "    padding: 0;\n",
              "    width: 32px;\n",
              "  }\n",
              "\n",
              "  .colab-df-quickchart:hover {\n",
              "    background-color: var(--hover-bg-color);\n",
              "    box-shadow: 0 1px 2px rgba(60, 64, 67, 0.3), 0 1px 3px 1px rgba(60, 64, 67, 0.15);\n",
              "    fill: var(--button-hover-fill-color);\n",
              "  }\n",
              "\n",
              "  .colab-df-quickchart-complete:disabled,\n",
              "  .colab-df-quickchart-complete:disabled:hover {\n",
              "    background-color: var(--disabled-bg-color);\n",
              "    fill: var(--disabled-fill-color);\n",
              "    box-shadow: none;\n",
              "  }\n",
              "\n",
              "  .colab-df-spinner {\n",
              "    border: 2px solid var(--fill-color);\n",
              "    border-color: transparent;\n",
              "    border-bottom-color: var(--fill-color);\n",
              "    animation:\n",
              "      spin 1s steps(1) infinite;\n",
              "  }\n",
              "\n",
              "  @keyframes spin {\n",
              "    0% {\n",
              "      border-color: transparent;\n",
              "      border-bottom-color: var(--fill-color);\n",
              "      border-left-color: var(--fill-color);\n",
              "    }\n",
              "    20% {\n",
              "      border-color: transparent;\n",
              "      border-left-color: var(--fill-color);\n",
              "      border-top-color: var(--fill-color);\n",
              "    }\n",
              "    30% {\n",
              "      border-color: transparent;\n",
              "      border-left-color: var(--fill-color);\n",
              "      border-top-color: var(--fill-color);\n",
              "      border-right-color: var(--fill-color);\n",
              "    }\n",
              "    40% {\n",
              "      border-color: transparent;\n",
              "      border-right-color: var(--fill-color);\n",
              "      border-top-color: var(--fill-color);\n",
              "    }\n",
              "    60% {\n",
              "      border-color: transparent;\n",
              "      border-right-color: var(--fill-color);\n",
              "    }\n",
              "    80% {\n",
              "      border-color: transparent;\n",
              "      border-right-color: var(--fill-color);\n",
              "      border-bottom-color: var(--fill-color);\n",
              "    }\n",
              "    90% {\n",
              "      border-color: transparent;\n",
              "      border-bottom-color: var(--fill-color);\n",
              "    }\n",
              "  }\n",
              "</style>\n",
              "\n",
              "      <script>\n",
              "        async function quickchart(key) {\n",
              "          const quickchartButtonEl =\n",
              "            document.querySelector('#' + key + ' button');\n",
              "          quickchartButtonEl.disabled = true;  // To prevent multiple clicks.\n",
              "          quickchartButtonEl.classList.add('colab-df-spinner');\n",
              "          try {\n",
              "            const charts = await google.colab.kernel.invokeFunction(\n",
              "                'suggestCharts', [key], {});\n",
              "          } catch (error) {\n",
              "            console.error('Error during call to suggestCharts:', error);\n",
              "          }\n",
              "          quickchartButtonEl.classList.remove('colab-df-spinner');\n",
              "          quickchartButtonEl.classList.add('colab-df-quickchart-complete');\n",
              "        }\n",
              "        (() => {\n",
              "          let quickchartButtonEl =\n",
              "            document.querySelector('#df-587cd556-7e3b-4afc-ab83-4d24bbf008eb button');\n",
              "          quickchartButtonEl.style.display =\n",
              "            google.colab.kernel.accessAllowed ? 'block' : 'none';\n",
              "        })();\n",
              "      </script>\n",
              "    </div>\n",
              "\n",
              "    </div>\n",
              "  </div>\n"
            ],
            "application/vnd.google.colaboratory.intrinsic+json": {
              "type": "dataframe",
              "summary": "{\n  \"name\": \"esol_df\",\n  \"rows\": 5,\n  \"fields\": [\n    {\n      \"column\": \"smiles\",\n      \"properties\": {\n        \"dtype\": \"string\",\n        \"num_unique_values\": 5,\n        \"samples\": [\n          \"CC34CCC1C(CCc2cc(O)ccc12)C3CC(O)C4O \",\n          \"NS(=O)(=O)c2cc1c(N=CNS1(=O)=O)cc2Cl \",\n          \"CCCCOCCO\"\n        ],\n        \"semantic_type\": \"\",\n        \"description\": \"\"\n      }\n    },\n    {\n      \"column\": \"log solubility (mol/L)\",\n      \"properties\": {\n        \"dtype\": \"number\",\n        \"std\": 1.630277583726158,\n        \"min\": -4.955,\n        \"max\": -0.42,\n        \"num_unique_values\": 5,\n        \"samples\": [\n          -4.955,\n          -3.05,\n          -0.42\n        ],\n        \"semantic_type\": \"\",\n        \"description\": \"\"\n      }\n    }\n  ]\n}"
            }
          },
          "metadata": {},
          "execution_count": 4
        }
      ],
      "source": [
        "import pandas as pd\n",
        "\n",
        "# load dataset from the CSV file\n",
        "esol_df = pd.read_csv('data/esol.csv')\n",
        "esol_df.sample(5)"
      ]
    },
    {
      "cell_type": "markdown",
      "id": "794e236d",
      "metadata": {
        "id": "794e236d"
      },
      "source": [
        "The original dataset contains 2 columns, the `smiles` column, which encodes the molecular structure, and the `log solubility (mol/L)` columns represents aqueous solubility of molecules, which is the our target for this task."
      ]
    },
    {
      "cell_type": "code",
      "execution_count": 10,
      "id": "2950f29b",
      "metadata": {
        "colab": {
          "base_uri": "https://localhost:8080/"
        },
        "id": "2950f29b",
        "outputId": "bd5db9e4-ab90-411b-9c20-936adabde1e1"
      },
      "outputs": [
        {
          "output_type": "stream",
          "name": "stdout",
          "text": [
            "['OCC3OC(OCC2OC(OC(C#N)c1ccccc1)C(O)C(O)C2O)C(O)C(O)C3O '\n",
            " 'Cc1occc1C(=O)Nc2ccccc2' 'CC(C)=CCCC(C)=CC(=O)' ... 'CCSCCSP(=S)(OC)OC'\n",
            " 'CCC(C)C' 'COP(=O)(OC)OC(=CCl)c1cc(Cl)c(Cl)cc1Cl']\n",
            "[-0.77  -3.3   -2.06  ... -3.091 -3.18  -4.522]\n",
            "(1128,)\n",
            "(1128,)\n"
          ]
        }
      ],
      "source": [
        "# Get NumPy arrays from DataFrame for the input and target\n",
        "smiles = esol_df['smiles'].values\n",
        "y = esol_df['log solubility (mol/L)'].values\n",
        "print(smiles)\n",
        "print(y)\n",
        "print(smiles.shape)\n",
        "print(y.shape)"
      ]
    },
    {
      "cell_type": "markdown",
      "id": "343779ed",
      "metadata": {
        "id": "343779ed"
      },
      "source": [
        "### Molecular descriptor calculation\n",
        "We need to convert the SMILES strings of molecules into numerical values that can be used as input to the ML models. Many molecular descriptors can be calculated from SMILES strings using software like `RDKit`, `DeepChem` and [Mordred](https://github.com/mordred-descriptor/mordred).\\\n",
        "For this task we will use [DeepChem featurizers](https://deepchem.readthedocs.io/en/latest/api_reference/featurizers.html) to compute molecular descriptors."
      ]
    },
    {
      "cell_type": "code",
      "execution_count": 7,
      "id": "e5961b50",
      "metadata": {
        "colab": {
          "base_uri": "https://localhost:8080/"
        },
        "id": "e5961b50",
        "outputId": "3cdb1f80-0460-45ad-87ab-2f62dda268fb"
      },
      "outputs": [
        {
          "output_type": "stream",
          "name": "stderr",
          "text": [
            "WARNING:deepchem.feat.molecule_featurizers.rdkit_descriptors:No normalization for SPS. Feature removed!\n",
            "WARNING:deepchem.feat.molecule_featurizers.rdkit_descriptors:No normalization for AvgIpc. Feature removed!\n",
            "WARNING:deepchem.feat.molecule_featurizers.rdkit_descriptors:No normalization for NumAmideBonds. Feature removed!\n",
            "WARNING:deepchem.feat.molecule_featurizers.rdkit_descriptors:No normalization for NumAtomStereoCenters. Feature removed!\n",
            "WARNING:deepchem.feat.molecule_featurizers.rdkit_descriptors:No normalization for NumBridgeheadAtoms. Feature removed!\n",
            "WARNING:deepchem.feat.molecule_featurizers.rdkit_descriptors:No normalization for NumHeterocycles. Feature removed!\n",
            "WARNING:deepchem.feat.molecule_featurizers.rdkit_descriptors:No normalization for NumSpiroAtoms. Feature removed!\n",
            "WARNING:deepchem.feat.molecule_featurizers.rdkit_descriptors:No normalization for NumUnspecifiedAtomStereoCenters. Feature removed!\n",
            "WARNING:deepchem.feat.molecule_featurizers.rdkit_descriptors:No normalization for Phi. Feature removed!\n",
            "\u001b[34m\u001b[1mwandb\u001b[0m: \u001b[33mWARNING\u001b[0m W&B installed but not logged in.  Run `wandb login` or set the WANDB_API_KEY env variable.\n",
            "WARNING:tensorflow:From /usr/local/lib/python3.11/dist-packages/tensorflow/python/util/deprecation.py:588: calling function (from tensorflow.python.eager.polymorphic_function.polymorphic_function) with experimental_relax_shapes is deprecated and will be removed in a future version.\n",
            "Instructions for updating:\n",
            "experimental_relax_shapes is deprecated, use reduce_retracing instead\n",
            "\u001b[34m\u001b[1mwandb\u001b[0m: \u001b[33mWARNING\u001b[0m W&B installed but not logged in.  Run `wandb login` or set the WANDB_API_KEY env variable.\n",
            "WARNING:deepchem.models.torch_models:Skipped loading modules with pytorch-geometric dependency, missing a dependency. No module named 'torch_geometric'\n",
            "WARNING:deepchem.models:Skipped loading modules with pytorch-geometric dependency, missing a dependency. cannot import name 'DMPNN' from 'deepchem.models.torch_models' (/usr/local/lib/python3.11/dist-packages/deepchem/models/torch_models/__init__.py)\n",
            "WARNING:deepchem.models:Skipped loading modules with pytorch-lightning dependency, missing a dependency. No module named 'lightning'\n",
            "WARNING:deepchem.models:Skipped loading some Jax models, missing a dependency. No module named 'haiku'\n"
          ]
        },
        {
          "output_type": "stream",
          "name": "stdout",
          "text": [
            "Number of generated molecular descriptors: 217\n",
            "Number of molecular descriptors without invalid values: 217\n"
          ]
        }
      ],
      "source": [
        "# Here, we use molecular descriptors from RDKit, like molecular weight, number of valence electrons, maximum and minimum partial charge, etc.\n",
        "from deepchem.feat import RDKitDescriptors\n",
        "featurizer = RDKitDescriptors()\n",
        "features = featurizer.featurize(smiles)\n",
        "print(f\"Number of generated molecular descriptors: {features.shape[1]}\")\n",
        "\n",
        "# Drop the features containing invalid values\n",
        "import numpy as np\n",
        "features = features[:, ~np.isnan(features).any(axis=0)]\n",
        "print(f\"Number of molecular descriptors without invalid values: {features.shape[1]}\")"
      ]
    },
    {
      "cell_type": "markdown",
      "id": "8d9c63ba",
      "metadata": {
        "id": "8d9c63ba"
      },
      "source": [
        "**Exercise**: You can try to use [MACCSKeysFingerprint](https://deepchem.readthedocs.io/en/latest/api_reference/featurizers.html#maccskeysfingerprint) in [DeepChem featurizers](https://deepchem.readthedocs.io/en/latest/api_reference/featurizers.html) to compute molecular descriptors."
      ]
    },
    {
      "cell_type": "code",
      "execution_count": 14,
      "id": "09f941ad",
      "metadata": {
        "colab": {
          "base_uri": "https://localhost:8080/"
        },
        "id": "09f941ad",
        "outputId": "0537f03a-7ca3-4e02-c69f-9f9b91e5c3e4"
      },
      "outputs": [
        {
          "output_type": "execute_result",
          "data": {
            "text/plain": [
              "(1128, 217)"
            ]
          },
          "metadata": {},
          "execution_count": 14
        }
      ],
      "source": [
        "### YOUR CODE\n",
        "\n",
        "from deepchem.feat import MACCSKeysFingerprint\n",
        "\n",
        "# create featurizer\n",
        "mf_featurizer = MACCSKeysFingerprint()\n",
        "\n",
        "# compute molecular descriptors\n",
        "mf_features = featurizer.featurize(smiles)\n",
        "mf_features.shape"
      ]
    },
    {
      "cell_type": "markdown",
      "id": "97180e44",
      "metadata": {
        "id": "97180e44"
      },
      "source": [
        "### Feature Selection\n",
        "\n",
        "Feature selection is a crucial step in machine learning that involves selecting the most relevant features (or variables) from a dataset. This process helps to improve the accuracy and efficiency of a model by reducing the amount of noise and redundancy in the data. Essentially, feature selection allows us to focus on the most important information in the dataset, while ignoring the irrelevant or redundant information.\n",
        "\n",
        "Many classes and functions in the [sklearn.feature_selection](https://scikit-learn.org/stable/modules/feature_selection.html) module can be used for feature selection.\\\n",
        "Here we show a simple feature selection using `VarianceThreshold` in `scikt-learn`."
      ]
    },
    {
      "cell_type": "code",
      "execution_count": 15,
      "id": "326fe67b",
      "metadata": {
        "colab": {
          "base_uri": "https://localhost:8080/"
        },
        "id": "326fe67b",
        "outputId": "cd04fd10-10cd-4d8c-86a7-46c8a4e623dc"
      },
      "outputs": [
        {
          "output_type": "stream",
          "name": "stdout",
          "text": [
            "Number of molecular descriptors before removing zero-variance features: 217\n",
            "Number of molecular descriptors after removing zero-variance features: 198\n"
          ]
        }
      ],
      "source": [
        "# Here, we removed all zero-variance features, i.e. features that have the same value in all samples.\n",
        "from sklearn.feature_selection import VarianceThreshold\n",
        "print(f\"Number of molecular descriptors before removing zero-variance features: {features.shape[1]}\")\n",
        "selector = VarianceThreshold(threshold=0.0)\n",
        "features = selector.fit_transform(features)\n",
        "print(f\"Number of molecular descriptors after removing zero-variance features: {features.shape[1]}\")"
      ]
    },
    {
      "cell_type": "markdown",
      "id": "138076f4",
      "metadata": {
        "id": "138076f4"
      },
      "source": [
        "### Dataset split"
      ]
    },
    {
      "cell_type": "code",
      "execution_count": 20,
      "id": "fa8675b2",
      "metadata": {
        "colab": {
          "base_uri": "https://localhost:8080/"
        },
        "id": "fa8675b2",
        "outputId": "92ecee6a-860e-422c-e3bd-3607406f86c6"
      },
      "outputs": [
        {
          "output_type": "stream",
          "name": "stdout",
          "text": [
            "Train set size is 902 rows, test set size is 226 rows.\n"
          ]
        }
      ],
      "source": [
        "from sklearn.model_selection import train_test_split\n",
        "X = features\n",
        "# training data size : test data size = 0.8 : 0.2\n",
        "# fixed seed using the random_state parameter, so it always has the same split.\n",
        "X_train, X_test, y_train, y_test = train_test_split(\n",
        "    X, y, train_size=0.8, random_state=0)\n",
        "\n",
        "print(f\"Train set size is {X_train.shape[0]} rows, test set size is {X_test.shape[0]} rows.\")"
      ]
    },
    {
      "cell_type": "markdown",
      "id": "1aa51e6b",
      "metadata": {
        "id": "1aa51e6b"
      },
      "source": [
        "### Data preprocessing\n",
        "\n",
        "As it turns out, different features have different scales and distributions.\\\n",
        "Think of molecular weight, which goes from **0 to around 1000 u.a.m. for small organic molecules**, and electrochemical potential, [typically between -3 and 3](https://par.nsf.gov/servlets/purl/10016877). These differences have a huge impact on ML models, which is the reason why we will normalize all the features.\n",
        "\n",
        "Many classes and functions in the [sklearn.preprocessing](https://scikit-learn.org/stable/modules/preprocessing.html) module can be used for preprocessing data. Here we show a simple Min-Max normalization of features using `MinMaxScaler` in `scikt-learn`."
      ]
    },
    {
      "cell_type": "code",
      "execution_count": 21,
      "id": "4b684fd7",
      "metadata": {
        "colab": {
          "base_uri": "https://localhost:8080/"
        },
        "id": "4b684fd7",
        "outputId": "fb82d728-f44b-4e41-a053-33b38f63cb97"
      },
      "outputs": [
        {
          "output_type": "stream",
          "name": "stdout",
          "text": [
            "3.673753658404126 0.0\n",
            "3.2573247645175485 0.7219280948873623\n",
            "1.0 0.0\n",
            "0.8866475728621734 0.19650966341629095\n"
          ]
        }
      ],
      "source": [
        "from sklearn.preprocessing import MinMaxScaler\n",
        "scaler = MinMaxScaler()\n",
        "scaler.fit(X_train)\n",
        "\n",
        "# save original X\n",
        "X_train_ori = X_train\n",
        "X_test_ori = X_test\n",
        "print(max(X_train_ori[:,0]), min(X_train_ori[:,0]))\n",
        "print(max(X_test_ori[:,0]), min(X_test_ori[:,0]))\n",
        "# transform data\n",
        "X_train = scaler.transform(X_train)\n",
        "X_test = scaler.transform(X_test)\n",
        "print(max(X_train[:,0]), min(X_train[:,0]))\n",
        "print(max(X_test[:,0]), min(X_test[:,0]))"
      ]
    },
    {
      "cell_type": "markdown",
      "id": "7e1e3784",
      "metadata": {
        "id": "7e1e3784"
      },
      "source": [
        "### Q: Is there a difference between doing data preprocessing before and after data split? Which one is better and why?"
      ]
    },
    {
      "cell_type": "markdown",
      "id": "394d369a",
      "metadata": {
        "id": "394d369a"
      },
      "source": [
        "### Create models"
      ]
    },
    {
      "cell_type": "code",
      "execution_count": 22,
      "id": "15b94772",
      "metadata": {
        "id": "15b94772"
      },
      "outputs": [],
      "source": [
        "# random forest regressor, and the default criterion is mean squared error (MSE)\n",
        "from sklearn.ensemble import RandomForestRegressor\n",
        "ranf_reg = RandomForestRegressor(n_estimators=10, random_state=0)  # using 10 trees and seed=0\n",
        "\n",
        "# XGBoost regressor\n",
        "from xgboost import XGBRegressor\n",
        "xgb_reg = XGBRegressor(n_estimators=10, random_state=0)  # using 10 trees and seed=0"
      ]
    },
    {
      "cell_type": "markdown",
      "id": "0b66c0b1",
      "metadata": {
        "id": "0b66c0b1"
      },
      "source": [
        "### Train and evaluate the models\n",
        "- Mean Squared Error: $MSE$ = $\\frac{1}{n} \\Sigma_{i=1}^n({y}-\\hat{y})^2$\n",
        "- Root Mean Squared Error: $RMSE$ = $\\sqrt{MSE}$ = $\\sqrt{\\frac{1}{n} \\Sigma_{i=1}^n({y}-\\hat{y})^2}$\n",
        "\n",
        "We choose `RMSE` as the evaluation metric for this task."
      ]
    },
    {
      "cell_type": "code",
      "execution_count": 23,
      "id": "68b21ecd",
      "metadata": {
        "colab": {
          "base_uri": "https://localhost:8080/"
        },
        "id": "68b21ecd",
        "outputId": "ada391de-f3b2-4bb8-b43c-5babb88d62e0"
      },
      "outputs": [
        {
          "output_type": "stream",
          "name": "stdout",
          "text": [
            "Evaluating Random Forest Model.\n",
            "RMSE on train set: 0.281, and test set: 0.717.\n",
            "\n",
            "Evaluating XGBoost model.\n",
            "RMSE on train set: 0.285, and test set: 0.739.\n",
            "\n"
          ]
        }
      ],
      "source": [
        "from sklearn.metrics import mean_squared_error\n",
        "\n",
        "def train_test_model(model, X_train, y_train, X_test, y_test):\n",
        "    \"\"\"\n",
        "    Function that trains a model, and tests it.\n",
        "    Inputs: sklearn model, train_data, test_data\n",
        "    \"\"\"\n",
        "    # Train model\n",
        "    model.fit(X_train, y_train)\n",
        "\n",
        "    # Calculate RMSE on training\n",
        "    y_pred_train = model.predict(X_train)\n",
        "    y_pred_test = model.predict(X_test)\n",
        "    model_train_mse = mean_squared_error(y_train, y_pred_train)\n",
        "    model_test_mse = mean_squared_error(y_test, y_pred_test)\n",
        "    model_train_rmse = model_train_mse ** 0.5\n",
        "    model_test_rmse = model_test_mse ** 0.5\n",
        "    print(f\"RMSE on train set: {model_train_rmse:.3f}, and test set: {model_test_rmse:.3f}.\\n\")\n",
        "\n",
        "\n",
        "# Train and test the random forest model\n",
        "print(\"Evaluating Random Forest Model.\")\n",
        "train_test_model(ranf_reg, X_train, y_train, X_test, y_test)\n",
        "\n",
        "# Train and test XGBoost model\n",
        "print(\"Evaluating XGBoost model.\")\n",
        "train_test_model(xgb_reg, X_train, y_train, X_test, y_test)"
      ]
    },
    {
      "cell_type": "markdown",
      "id": "712c715f",
      "metadata": {
        "id": "712c715f"
      },
      "source": [
        "### Q: Compare the results. Which model is better in this case?"
      ]
    },
    {
      "cell_type": "markdown",
      "id": "209edf19",
      "metadata": {
        "id": "209edf19"
      },
      "source": [
        "**Exercise**: Try to train a [SVM model](https://scikit-learn.org/stable/modules/svm.html#regression) and evaluate it. You can create a [SVR](https://scikit-learn.org/stable/modules/generated/sklearn.svm.SVR.html#sklearn.svm.SVR) model using default parameters."
      ]
    },
    {
      "cell_type": "code",
      "execution_count": 24,
      "id": "d7746533",
      "metadata": {
        "colab": {
          "base_uri": "https://localhost:8080/"
        },
        "id": "d7746533",
        "outputId": "59ce1af3-a278-4f29-ceae-7892cb419275"
      },
      "outputs": [
        {
          "output_type": "stream",
          "name": "stdout",
          "text": [
            "Evaluating SVM model.\n",
            "RMSE on train set: 0.518, and test set: 0.726.\n",
            "\n"
          ]
        }
      ],
      "source": [
        "### YOUR CODE\n",
        "\n",
        "# import\n",
        "from sklearn.svm import SVR\n",
        "\n",
        "# create a model\n",
        "svm_reg = SVR()\n",
        "\n",
        "# train and evaluate the model\n",
        "print(\"Evaluating SVM model.\")\n",
        "train_test_model(svm_reg, X_train, y_train, X_test, y_test)\n",
        "\n",
        "### END"
      ]
    },
    {
      "cell_type": "markdown",
      "id": "d7de3621",
      "metadata": {
        "id": "d7de3621"
      },
      "source": [
        "Perfect! Now you have mastered training and evaluating the model you want."
      ]
    },
    {
      "cell_type": "markdown",
      "id": "304d42f3",
      "metadata": {
        "id": "304d42f3"
      },
      "source": [
        "## Cross-validation and hyperparamter optimization\n",
        "\n",
        "Our last topic in this section is hyperparameter optimization.\n",
        "\n",
        "As you've seen, models need some parameters as input, and we need to decide which are the best parameters (e.g. `n_estimators` in tree-based models). Many classes and functions in the [sklearn.model_selection](https://scikit-learn.org/stable/model_selection.html) module can be used for cross validation and hyperparamter optimization.\\\n",
        "Here, we use cross validation and grid search methods to optimize the paramters of random forest model. In cross-validation, the original training data is further split into training and validation sets.\n",
        "\n",
        "The class [GridSearchCV](https://scikit-learn.org/stable/modules/generated/sklearn.model_selection.GridSearchCV.html#sklearn.model_selection.GridSearchCV) does all the work for us, combining cross-validation with grid search, so we can very easily optimize the hyperparameters.\n",
        "\n",
        "<div align=\"center\">\n",
        "<img src=\"https://scikit-learn.org/stable/_images/grid_search_workflow.png\" width=\"400\"/>\n",
        "</div>\n",
        "\n",
        "\n",
        "<font size=5 color=\"red\">\n",
        "Note that when you call grid_search.fit(), you only pass the training data as argument.\n",
        "</font>\n",
        "Why?"
      ]
    },
    {
      "cell_type": "code",
      "execution_count": 25,
      "id": "73db8e66-7724-40c4-8876-39668793ff1f",
      "metadata": {
        "colab": {
          "base_uri": "https://localhost:8080/"
        },
        "id": "73db8e66-7724-40c4-8876-39668793ff1f",
        "outputId": "32d53ba6-f48b-46ca-c031-df3f2796275a"
      },
      "outputs": [
        {
          "output_type": "stream",
          "name": "stdout",
          "text": [
            "Best paramters:  {'max_depth': 30, 'n_estimators': 50}\n",
            "Random forests performance after hyperparamter optimization:\n",
            "RMSE on train set: 0.243, and test set: 0.687.\n",
            "\n"
          ]
        }
      ],
      "source": [
        "from sklearn.model_selection import GridSearchCV\n",
        "\n",
        "param_grid = {\n",
        "    'n_estimators': [50, 100],\n",
        "    'max_depth': [5, 10, 20, 30]\n",
        "}\n",
        "\n",
        "# use 5-folds cross validation during grid searching\n",
        "grid_search = GridSearchCV(\n",
        "    RandomForestRegressor(random_state=0),\n",
        "    param_grid,\n",
        "    cv=5\n",
        ")\n",
        "grid_search.fit(X_train, y_train)\n",
        "\n",
        "# re-train a model using best hyperparameters\n",
        "rf_gs = RandomForestRegressor(**grid_search.best_params_, random_state=0)\n",
        "\n",
        "print('Best paramters: ', grid_search.best_params_)\n",
        "print('Random forests performance after hyperparamter optimization:')\n",
        "train_test_model(rf_gs, X_train, y_train, X_test, y_test)"
      ]
    },
    {
      "cell_type": "markdown",
      "id": "d4224cf6",
      "metadata": {
        "id": "d4224cf6"
      },
      "source": [
        "### Exercise: Compare the train and test RMSE of Random Forest models (`ranf_reg` and `rf_gs`). Which one is better? Argument."
      ]
    },
    {
      "cell_type": "markdown",
      "id": "6bac7560-b1c1-486c-a476-be954137b132",
      "metadata": {
        "id": "6bac7560-b1c1-486c-a476-be954137b132"
      },
      "source": [
        "---\n",
        "\n",
        "# 3. Classification\n",
        "\n",
        "We now turn our attention towards the other type of supervised learning: classification.\n",
        "\n",
        "Many questions in chemistry can be framed as a classification task:\n",
        "\n",
        "- Will this molecule act as a nucleophile or electrophile in my reaction?\n",
        "- What is the smell of this substance? (fruity, citrus, sweet, ...)\n",
        "\n",
        "But in this tutorial we will try to respond:\n",
        "\n",
        "<div>\n",
        "<img src=\"https://github.com/schwallergroup/ai4chem_course/blob/main/notebooks/02%20-%20Supervised%20Learning/img/is_this_toxic.png?raw=1\" width=\"500\"/>\n",
        "</div>\n",
        "\n",
        "\n",
        "---\n",
        "\n",
        "## For this, we need data. [MoleculeNet](https://moleculenet.org/datasets-1) provides several datasets, and we'll work with `ToxCast` for prediction of toxicity.\n",
        "\n",
        "ToxCast is a dataset containing `toxicology data for a large library of compounds based on in vitro high-throughput screening, including experiments on over 600 tasks`.\n",
        "\n",
        "Let's see if one of our models can tell what molecules are toxic!\n",
        "\n",
        "This is super useful for instance in drug discovery, where we want to know if a molecule has potential as a drug, **even before we synthesize it**.\n",
        "\n",
        "The steps we follow are similar to those we saw for regression:\n",
        "\n",
        "1. Prepare & split data\n",
        "2. Choose a model\n",
        "3. Train the model\n",
        "4. Evaluate the model\n",
        "5. Use the model"
      ]
    },
    {
      "cell_type": "code",
      "execution_count": 26,
      "id": "cd83e8dd-2277-42c6-b99a-2eec6b0e44f4",
      "metadata": {
        "colab": {
          "base_uri": "https://localhost:8080/",
          "height": 227
        },
        "id": "cd83e8dd-2277-42c6-b99a-2eec6b0e44f4",
        "outputId": "f1a1f8d6-acc2-4ff3-f09e-b4d6399c4eec"
      },
      "outputs": [
        {
          "output_type": "execute_result",
          "data": {
            "text/plain": [
              "                                      smiles  ACEA_T47D_80hr_Negative  \\\n",
              "0                [O-][N+](=O)C1=CC=C(Cl)C=C1                      0.0   \n",
              "1  C[SiH](C)O[Si](C)(C)O[Si](C)(C)O[SiH](C)C                      NaN   \n",
              "2                   CN1CCN(CC1)C(=O)C1CCCCC1                      NaN   \n",
              "\n",
              "   ACEA_T47D_80hr_Positive  APR_HepG2_CellCycleArrest_24h_dn  \\\n",
              "0                      0.0                               NaN   \n",
              "1                      NaN                               NaN   \n",
              "2                      NaN                               NaN   \n",
              "\n",
              "   APR_HepG2_CellCycleArrest_24h_up  APR_HepG2_CellCycleArrest_72h_dn  \\\n",
              "0                               NaN                               NaN   \n",
              "1                               NaN                               NaN   \n",
              "2                               NaN                               NaN   \n",
              "\n",
              "   APR_HepG2_CellLoss_24h_dn  APR_HepG2_CellLoss_72h_dn  \\\n",
              "0                        NaN                        NaN   \n",
              "1                        NaN                        NaN   \n",
              "2                        NaN                        NaN   \n",
              "\n",
              "   APR_HepG2_MicrotubuleCSK_24h_dn  APR_HepG2_MicrotubuleCSK_24h_up  ...  \\\n",
              "0                              NaN                              NaN  ...   \n",
              "1                              NaN                              NaN  ...   \n",
              "2                              NaN                              NaN  ...   \n",
              "\n",
              "   Tanguay_ZF_120hpf_OTIC_up  Tanguay_ZF_120hpf_PE_up  \\\n",
              "0                        0.0                      0.0   \n",
              "1                        NaN                      NaN   \n",
              "2                        NaN                      NaN   \n",
              "\n",
              "   Tanguay_ZF_120hpf_PFIN_up  Tanguay_ZF_120hpf_PIG_up  \\\n",
              "0                        0.0                       0.0   \n",
              "1                        NaN                       NaN   \n",
              "2                        NaN                       NaN   \n",
              "\n",
              "   Tanguay_ZF_120hpf_SNOU_up  Tanguay_ZF_120hpf_SOMI_up  \\\n",
              "0                        0.0                        0.0   \n",
              "1                        NaN                        NaN   \n",
              "2                        NaN                        NaN   \n",
              "\n",
              "   Tanguay_ZF_120hpf_SWIM_up  Tanguay_ZF_120hpf_TRUN_up  \\\n",
              "0                        0.0                        0.0   \n",
              "1                        NaN                        NaN   \n",
              "2                        NaN                        NaN   \n",
              "\n",
              "   Tanguay_ZF_120hpf_TR_up  Tanguay_ZF_120hpf_YSE_up  \n",
              "0                      0.0                       0.0  \n",
              "1                      NaN                       NaN  \n",
              "2                      NaN                       NaN  \n",
              "\n",
              "[3 rows x 618 columns]"
            ],
            "text/html": [
              "\n",
              "  <div id=\"df-37dbb53e-e6ad-4566-a632-8f61a33c8d11\" class=\"colab-df-container\">\n",
              "    <div>\n",
              "<style scoped>\n",
              "    .dataframe tbody tr th:only-of-type {\n",
              "        vertical-align: middle;\n",
              "    }\n",
              "\n",
              "    .dataframe tbody tr th {\n",
              "        vertical-align: top;\n",
              "    }\n",
              "\n",
              "    .dataframe thead th {\n",
              "        text-align: right;\n",
              "    }\n",
              "</style>\n",
              "<table border=\"1\" class=\"dataframe\">\n",
              "  <thead>\n",
              "    <tr style=\"text-align: right;\">\n",
              "      <th></th>\n",
              "      <th>smiles</th>\n",
              "      <th>ACEA_T47D_80hr_Negative</th>\n",
              "      <th>ACEA_T47D_80hr_Positive</th>\n",
              "      <th>APR_HepG2_CellCycleArrest_24h_dn</th>\n",
              "      <th>APR_HepG2_CellCycleArrest_24h_up</th>\n",
              "      <th>APR_HepG2_CellCycleArrest_72h_dn</th>\n",
              "      <th>APR_HepG2_CellLoss_24h_dn</th>\n",
              "      <th>APR_HepG2_CellLoss_72h_dn</th>\n",
              "      <th>APR_HepG2_MicrotubuleCSK_24h_dn</th>\n",
              "      <th>APR_HepG2_MicrotubuleCSK_24h_up</th>\n",
              "      <th>...</th>\n",
              "      <th>Tanguay_ZF_120hpf_OTIC_up</th>\n",
              "      <th>Tanguay_ZF_120hpf_PE_up</th>\n",
              "      <th>Tanguay_ZF_120hpf_PFIN_up</th>\n",
              "      <th>Tanguay_ZF_120hpf_PIG_up</th>\n",
              "      <th>Tanguay_ZF_120hpf_SNOU_up</th>\n",
              "      <th>Tanguay_ZF_120hpf_SOMI_up</th>\n",
              "      <th>Tanguay_ZF_120hpf_SWIM_up</th>\n",
              "      <th>Tanguay_ZF_120hpf_TRUN_up</th>\n",
              "      <th>Tanguay_ZF_120hpf_TR_up</th>\n",
              "      <th>Tanguay_ZF_120hpf_YSE_up</th>\n",
              "    </tr>\n",
              "  </thead>\n",
              "  <tbody>\n",
              "    <tr>\n",
              "      <th>0</th>\n",
              "      <td>[O-][N+](=O)C1=CC=C(Cl)C=C1</td>\n",
              "      <td>0.0</td>\n",
              "      <td>0.0</td>\n",
              "      <td>NaN</td>\n",
              "      <td>NaN</td>\n",
              "      <td>NaN</td>\n",
              "      <td>NaN</td>\n",
              "      <td>NaN</td>\n",
              "      <td>NaN</td>\n",
              "      <td>NaN</td>\n",
              "      <td>...</td>\n",
              "      <td>0.0</td>\n",
              "      <td>0.0</td>\n",
              "      <td>0.0</td>\n",
              "      <td>0.0</td>\n",
              "      <td>0.0</td>\n",
              "      <td>0.0</td>\n",
              "      <td>0.0</td>\n",
              "      <td>0.0</td>\n",
              "      <td>0.0</td>\n",
              "      <td>0.0</td>\n",
              "    </tr>\n",
              "    <tr>\n",
              "      <th>1</th>\n",
              "      <td>C[SiH](C)O[Si](C)(C)O[Si](C)(C)O[SiH](C)C</td>\n",
              "      <td>NaN</td>\n",
              "      <td>NaN</td>\n",
              "      <td>NaN</td>\n",
              "      <td>NaN</td>\n",
              "      <td>NaN</td>\n",
              "      <td>NaN</td>\n",
              "      <td>NaN</td>\n",
              "      <td>NaN</td>\n",
              "      <td>NaN</td>\n",
              "      <td>...</td>\n",
              "      <td>NaN</td>\n",
              "      <td>NaN</td>\n",
              "      <td>NaN</td>\n",
              "      <td>NaN</td>\n",
              "      <td>NaN</td>\n",
              "      <td>NaN</td>\n",
              "      <td>NaN</td>\n",
              "      <td>NaN</td>\n",
              "      <td>NaN</td>\n",
              "      <td>NaN</td>\n",
              "    </tr>\n",
              "    <tr>\n",
              "      <th>2</th>\n",
              "      <td>CN1CCN(CC1)C(=O)C1CCCCC1</td>\n",
              "      <td>NaN</td>\n",
              "      <td>NaN</td>\n",
              "      <td>NaN</td>\n",
              "      <td>NaN</td>\n",
              "      <td>NaN</td>\n",
              "      <td>NaN</td>\n",
              "      <td>NaN</td>\n",
              "      <td>NaN</td>\n",
              "      <td>NaN</td>\n",
              "      <td>...</td>\n",
              "      <td>NaN</td>\n",
              "      <td>NaN</td>\n",
              "      <td>NaN</td>\n",
              "      <td>NaN</td>\n",
              "      <td>NaN</td>\n",
              "      <td>NaN</td>\n",
              "      <td>NaN</td>\n",
              "      <td>NaN</td>\n",
              "      <td>NaN</td>\n",
              "      <td>NaN</td>\n",
              "    </tr>\n",
              "  </tbody>\n",
              "</table>\n",
              "<p>3 rows × 618 columns</p>\n",
              "</div>\n",
              "    <div class=\"colab-df-buttons\">\n",
              "\n",
              "  <div class=\"colab-df-container\">\n",
              "    <button class=\"colab-df-convert\" onclick=\"convertToInteractive('df-37dbb53e-e6ad-4566-a632-8f61a33c8d11')\"\n",
              "            title=\"Convert this dataframe to an interactive table.\"\n",
              "            style=\"display:none;\">\n",
              "\n",
              "  <svg xmlns=\"http://www.w3.org/2000/svg\" height=\"24px\" viewBox=\"0 -960 960 960\">\n",
              "    <path d=\"M120-120v-720h720v720H120Zm60-500h600v-160H180v160Zm220 220h160v-160H400v160Zm0 220h160v-160H400v160ZM180-400h160v-160H180v160Zm440 0h160v-160H620v160ZM180-180h160v-160H180v160Zm440 0h160v-160H620v160Z\"/>\n",
              "  </svg>\n",
              "    </button>\n",
              "\n",
              "  <style>\n",
              "    .colab-df-container {\n",
              "      display:flex;\n",
              "      gap: 12px;\n",
              "    }\n",
              "\n",
              "    .colab-df-convert {\n",
              "      background-color: #E8F0FE;\n",
              "      border: none;\n",
              "      border-radius: 50%;\n",
              "      cursor: pointer;\n",
              "      display: none;\n",
              "      fill: #1967D2;\n",
              "      height: 32px;\n",
              "      padding: 0 0 0 0;\n",
              "      width: 32px;\n",
              "    }\n",
              "\n",
              "    .colab-df-convert:hover {\n",
              "      background-color: #E2EBFA;\n",
              "      box-shadow: 0px 1px 2px rgba(60, 64, 67, 0.3), 0px 1px 3px 1px rgba(60, 64, 67, 0.15);\n",
              "      fill: #174EA6;\n",
              "    }\n",
              "\n",
              "    .colab-df-buttons div {\n",
              "      margin-bottom: 4px;\n",
              "    }\n",
              "\n",
              "    [theme=dark] .colab-df-convert {\n",
              "      background-color: #3B4455;\n",
              "      fill: #D2E3FC;\n",
              "    }\n",
              "\n",
              "    [theme=dark] .colab-df-convert:hover {\n",
              "      background-color: #434B5C;\n",
              "      box-shadow: 0px 1px 3px 1px rgba(0, 0, 0, 0.15);\n",
              "      filter: drop-shadow(0px 1px 2px rgba(0, 0, 0, 0.3));\n",
              "      fill: #FFFFFF;\n",
              "    }\n",
              "  </style>\n",
              "\n",
              "    <script>\n",
              "      const buttonEl =\n",
              "        document.querySelector('#df-37dbb53e-e6ad-4566-a632-8f61a33c8d11 button.colab-df-convert');\n",
              "      buttonEl.style.display =\n",
              "        google.colab.kernel.accessAllowed ? 'block' : 'none';\n",
              "\n",
              "      async function convertToInteractive(key) {\n",
              "        const element = document.querySelector('#df-37dbb53e-e6ad-4566-a632-8f61a33c8d11');\n",
              "        const dataTable =\n",
              "          await google.colab.kernel.invokeFunction('convertToInteractive',\n",
              "                                                    [key], {});\n",
              "        if (!dataTable) return;\n",
              "\n",
              "        const docLinkHtml = 'Like what you see? Visit the ' +\n",
              "          '<a target=\"_blank\" href=https://colab.research.google.com/notebooks/data_table.ipynb>data table notebook</a>'\n",
              "          + ' to learn more about interactive tables.';\n",
              "        element.innerHTML = '';\n",
              "        dataTable['output_type'] = 'display_data';\n",
              "        await google.colab.output.renderOutput(dataTable, element);\n",
              "        const docLink = document.createElement('div');\n",
              "        docLink.innerHTML = docLinkHtml;\n",
              "        element.appendChild(docLink);\n",
              "      }\n",
              "    </script>\n",
              "  </div>\n",
              "\n",
              "\n",
              "    <div id=\"df-5e167c43-4f1e-47b6-a0f6-34233f73a149\">\n",
              "      <button class=\"colab-df-quickchart\" onclick=\"quickchart('df-5e167c43-4f1e-47b6-a0f6-34233f73a149')\"\n",
              "                title=\"Suggest charts\"\n",
              "                style=\"display:none;\">\n",
              "\n",
              "<svg xmlns=\"http://www.w3.org/2000/svg\" height=\"24px\"viewBox=\"0 0 24 24\"\n",
              "     width=\"24px\">\n",
              "    <g>\n",
              "        <path d=\"M19 3H5c-1.1 0-2 .9-2 2v14c0 1.1.9 2 2 2h14c1.1 0 2-.9 2-2V5c0-1.1-.9-2-2-2zM9 17H7v-7h2v7zm4 0h-2V7h2v10zm4 0h-2v-4h2v4z\"/>\n",
              "    </g>\n",
              "</svg>\n",
              "      </button>\n",
              "\n",
              "<style>\n",
              "  .colab-df-quickchart {\n",
              "      --bg-color: #E8F0FE;\n",
              "      --fill-color: #1967D2;\n",
              "      --hover-bg-color: #E2EBFA;\n",
              "      --hover-fill-color: #174EA6;\n",
              "      --disabled-fill-color: #AAA;\n",
              "      --disabled-bg-color: #DDD;\n",
              "  }\n",
              "\n",
              "  [theme=dark] .colab-df-quickchart {\n",
              "      --bg-color: #3B4455;\n",
              "      --fill-color: #D2E3FC;\n",
              "      --hover-bg-color: #434B5C;\n",
              "      --hover-fill-color: #FFFFFF;\n",
              "      --disabled-bg-color: #3B4455;\n",
              "      --disabled-fill-color: #666;\n",
              "  }\n",
              "\n",
              "  .colab-df-quickchart {\n",
              "    background-color: var(--bg-color);\n",
              "    border: none;\n",
              "    border-radius: 50%;\n",
              "    cursor: pointer;\n",
              "    display: none;\n",
              "    fill: var(--fill-color);\n",
              "    height: 32px;\n",
              "    padding: 0;\n",
              "    width: 32px;\n",
              "  }\n",
              "\n",
              "  .colab-df-quickchart:hover {\n",
              "    background-color: var(--hover-bg-color);\n",
              "    box-shadow: 0 1px 2px rgba(60, 64, 67, 0.3), 0 1px 3px 1px rgba(60, 64, 67, 0.15);\n",
              "    fill: var(--button-hover-fill-color);\n",
              "  }\n",
              "\n",
              "  .colab-df-quickchart-complete:disabled,\n",
              "  .colab-df-quickchart-complete:disabled:hover {\n",
              "    background-color: var(--disabled-bg-color);\n",
              "    fill: var(--disabled-fill-color);\n",
              "    box-shadow: none;\n",
              "  }\n",
              "\n",
              "  .colab-df-spinner {\n",
              "    border: 2px solid var(--fill-color);\n",
              "    border-color: transparent;\n",
              "    border-bottom-color: var(--fill-color);\n",
              "    animation:\n",
              "      spin 1s steps(1) infinite;\n",
              "  }\n",
              "\n",
              "  @keyframes spin {\n",
              "    0% {\n",
              "      border-color: transparent;\n",
              "      border-bottom-color: var(--fill-color);\n",
              "      border-left-color: var(--fill-color);\n",
              "    }\n",
              "    20% {\n",
              "      border-color: transparent;\n",
              "      border-left-color: var(--fill-color);\n",
              "      border-top-color: var(--fill-color);\n",
              "    }\n",
              "    30% {\n",
              "      border-color: transparent;\n",
              "      border-left-color: var(--fill-color);\n",
              "      border-top-color: var(--fill-color);\n",
              "      border-right-color: var(--fill-color);\n",
              "    }\n",
              "    40% {\n",
              "      border-color: transparent;\n",
              "      border-right-color: var(--fill-color);\n",
              "      border-top-color: var(--fill-color);\n",
              "    }\n",
              "    60% {\n",
              "      border-color: transparent;\n",
              "      border-right-color: var(--fill-color);\n",
              "    }\n",
              "    80% {\n",
              "      border-color: transparent;\n",
              "      border-right-color: var(--fill-color);\n",
              "      border-bottom-color: var(--fill-color);\n",
              "    }\n",
              "    90% {\n",
              "      border-color: transparent;\n",
              "      border-bottom-color: var(--fill-color);\n",
              "    }\n",
              "  }\n",
              "</style>\n",
              "\n",
              "      <script>\n",
              "        async function quickchart(key) {\n",
              "          const quickchartButtonEl =\n",
              "            document.querySelector('#' + key + ' button');\n",
              "          quickchartButtonEl.disabled = true;  // To prevent multiple clicks.\n",
              "          quickchartButtonEl.classList.add('colab-df-spinner');\n",
              "          try {\n",
              "            const charts = await google.colab.kernel.invokeFunction(\n",
              "                'suggestCharts', [key], {});\n",
              "          } catch (error) {\n",
              "            console.error('Error during call to suggestCharts:', error);\n",
              "          }\n",
              "          quickchartButtonEl.classList.remove('colab-df-spinner');\n",
              "          quickchartButtonEl.classList.add('colab-df-quickchart-complete');\n",
              "        }\n",
              "        (() => {\n",
              "          let quickchartButtonEl =\n",
              "            document.querySelector('#df-5e167c43-4f1e-47b6-a0f6-34233f73a149 button');\n",
              "          quickchartButtonEl.style.display =\n",
              "            google.colab.kernel.accessAllowed ? 'block' : 'none';\n",
              "        })();\n",
              "      </script>\n",
              "    </div>\n",
              "\n",
              "    </div>\n",
              "  </div>\n"
            ],
            "application/vnd.google.colaboratory.intrinsic+json": {
              "type": "dataframe",
              "variable_name": "df_toxicity"
            }
          },
          "metadata": {},
          "execution_count": 26
        }
      ],
      "source": [
        "import pandas as pd\n",
        "\n",
        "# Load clintox data from the data directory and see what it contains\n",
        "df_toxicity = pd.read_csv(\"data/toxcast_data.csv\")\n",
        "df_toxicity.head(3)"
      ]
    },
    {
      "cell_type": "markdown",
      "id": "d241778d-4b07-44cd-8713-c11c736f5e5c",
      "metadata": {
        "id": "d241778d-4b07-44cd-8713-c11c736f5e5c"
      },
      "source": [
        "This dataset contains the molecule SMILES, plus a lot of data coming from different [toxicity measurements](https://www.epa.gov/chemical-research/exploring-toxcast-data).\n",
        "\n",
        "We will stick to `TOX21_TR_LUC_GH3_Antagonist`, as is the one for which we have more data."
      ]
    },
    {
      "cell_type": "code",
      "execution_count": 28,
      "id": "51abea66-40f1-4183-b79d-ccee003a17f6",
      "metadata": {
        "colab": {
          "base_uri": "https://localhost:8080/",
          "height": 206
        },
        "id": "51abea66-40f1-4183-b79d-ccee003a17f6",
        "outputId": "aa03833a-3b45-4e1a-afdb-fabf9b79f26b"
      },
      "outputs": [
        {
          "output_type": "execute_result",
          "data": {
            "text/plain": [
              "                                      smiles  toxic\n",
              "0                [O-][N+](=O)C1=CC=C(Cl)C=C1    0.0\n",
              "1  C[SiH](C)O[Si](C)(C)O[Si](C)(C)O[SiH](C)C    0.0\n",
              "2                   CN1CCN(CC1)C(=O)C1CCCCC1    0.0\n",
              "3                 NC1=CC=C(C=C1)[N+]([O-])=O    0.0\n",
              "4                 OC1=CC=C(C=C1)[N+]([O-])=O    0.0"
            ],
            "text/html": [
              "\n",
              "  <div id=\"df-2f89653e-74c2-45bf-87f6-441575ad5d5b\" class=\"colab-df-container\">\n",
              "    <div>\n",
              "<style scoped>\n",
              "    .dataframe tbody tr th:only-of-type {\n",
              "        vertical-align: middle;\n",
              "    }\n",
              "\n",
              "    .dataframe tbody tr th {\n",
              "        vertical-align: top;\n",
              "    }\n",
              "\n",
              "    .dataframe thead th {\n",
              "        text-align: right;\n",
              "    }\n",
              "</style>\n",
              "<table border=\"1\" class=\"dataframe\">\n",
              "  <thead>\n",
              "    <tr style=\"text-align: right;\">\n",
              "      <th></th>\n",
              "      <th>smiles</th>\n",
              "      <th>toxic</th>\n",
              "    </tr>\n",
              "  </thead>\n",
              "  <tbody>\n",
              "    <tr>\n",
              "      <th>0</th>\n",
              "      <td>[O-][N+](=O)C1=CC=C(Cl)C=C1</td>\n",
              "      <td>0.0</td>\n",
              "    </tr>\n",
              "    <tr>\n",
              "      <th>1</th>\n",
              "      <td>C[SiH](C)O[Si](C)(C)O[Si](C)(C)O[SiH](C)C</td>\n",
              "      <td>0.0</td>\n",
              "    </tr>\n",
              "    <tr>\n",
              "      <th>2</th>\n",
              "      <td>CN1CCN(CC1)C(=O)C1CCCCC1</td>\n",
              "      <td>0.0</td>\n",
              "    </tr>\n",
              "    <tr>\n",
              "      <th>3</th>\n",
              "      <td>NC1=CC=C(C=C1)[N+]([O-])=O</td>\n",
              "      <td>0.0</td>\n",
              "    </tr>\n",
              "    <tr>\n",
              "      <th>4</th>\n",
              "      <td>OC1=CC=C(C=C1)[N+]([O-])=O</td>\n",
              "      <td>0.0</td>\n",
              "    </tr>\n",
              "  </tbody>\n",
              "</table>\n",
              "</div>\n",
              "    <div class=\"colab-df-buttons\">\n",
              "\n",
              "  <div class=\"colab-df-container\">\n",
              "    <button class=\"colab-df-convert\" onclick=\"convertToInteractive('df-2f89653e-74c2-45bf-87f6-441575ad5d5b')\"\n",
              "            title=\"Convert this dataframe to an interactive table.\"\n",
              "            style=\"display:none;\">\n",
              "\n",
              "  <svg xmlns=\"http://www.w3.org/2000/svg\" height=\"24px\" viewBox=\"0 -960 960 960\">\n",
              "    <path d=\"M120-120v-720h720v720H120Zm60-500h600v-160H180v160Zm220 220h160v-160H400v160Zm0 220h160v-160H400v160ZM180-400h160v-160H180v160Zm440 0h160v-160H620v160ZM180-180h160v-160H180v160Zm440 0h160v-160H620v160Z\"/>\n",
              "  </svg>\n",
              "    </button>\n",
              "\n",
              "  <style>\n",
              "    .colab-df-container {\n",
              "      display:flex;\n",
              "      gap: 12px;\n",
              "    }\n",
              "\n",
              "    .colab-df-convert {\n",
              "      background-color: #E8F0FE;\n",
              "      border: none;\n",
              "      border-radius: 50%;\n",
              "      cursor: pointer;\n",
              "      display: none;\n",
              "      fill: #1967D2;\n",
              "      height: 32px;\n",
              "      padding: 0 0 0 0;\n",
              "      width: 32px;\n",
              "    }\n",
              "\n",
              "    .colab-df-convert:hover {\n",
              "      background-color: #E2EBFA;\n",
              "      box-shadow: 0px 1px 2px rgba(60, 64, 67, 0.3), 0px 1px 3px 1px rgba(60, 64, 67, 0.15);\n",
              "      fill: #174EA6;\n",
              "    }\n",
              "\n",
              "    .colab-df-buttons div {\n",
              "      margin-bottom: 4px;\n",
              "    }\n",
              "\n",
              "    [theme=dark] .colab-df-convert {\n",
              "      background-color: #3B4455;\n",
              "      fill: #D2E3FC;\n",
              "    }\n",
              "\n",
              "    [theme=dark] .colab-df-convert:hover {\n",
              "      background-color: #434B5C;\n",
              "      box-shadow: 0px 1px 3px 1px rgba(0, 0, 0, 0.15);\n",
              "      filter: drop-shadow(0px 1px 2px rgba(0, 0, 0, 0.3));\n",
              "      fill: #FFFFFF;\n",
              "    }\n",
              "  </style>\n",
              "\n",
              "    <script>\n",
              "      const buttonEl =\n",
              "        document.querySelector('#df-2f89653e-74c2-45bf-87f6-441575ad5d5b button.colab-df-convert');\n",
              "      buttonEl.style.display =\n",
              "        google.colab.kernel.accessAllowed ? 'block' : 'none';\n",
              "\n",
              "      async function convertToInteractive(key) {\n",
              "        const element = document.querySelector('#df-2f89653e-74c2-45bf-87f6-441575ad5d5b');\n",
              "        const dataTable =\n",
              "          await google.colab.kernel.invokeFunction('convertToInteractive',\n",
              "                                                    [key], {});\n",
              "        if (!dataTable) return;\n",
              "\n",
              "        const docLinkHtml = 'Like what you see? Visit the ' +\n",
              "          '<a target=\"_blank\" href=https://colab.research.google.com/notebooks/data_table.ipynb>data table notebook</a>'\n",
              "          + ' to learn more about interactive tables.';\n",
              "        element.innerHTML = '';\n",
              "        dataTable['output_type'] = 'display_data';\n",
              "        await google.colab.output.renderOutput(dataTable, element);\n",
              "        const docLink = document.createElement('div');\n",
              "        docLink.innerHTML = docLinkHtml;\n",
              "        element.appendChild(docLink);\n",
              "      }\n",
              "    </script>\n",
              "  </div>\n",
              "\n",
              "\n",
              "    <div id=\"df-c9fdb563-3b1f-462c-8833-8c07c9c668a5\">\n",
              "      <button class=\"colab-df-quickchart\" onclick=\"quickchart('df-c9fdb563-3b1f-462c-8833-8c07c9c668a5')\"\n",
              "                title=\"Suggest charts\"\n",
              "                style=\"display:none;\">\n",
              "\n",
              "<svg xmlns=\"http://www.w3.org/2000/svg\" height=\"24px\"viewBox=\"0 0 24 24\"\n",
              "     width=\"24px\">\n",
              "    <g>\n",
              "        <path d=\"M19 3H5c-1.1 0-2 .9-2 2v14c0 1.1.9 2 2 2h14c1.1 0 2-.9 2-2V5c0-1.1-.9-2-2-2zM9 17H7v-7h2v7zm4 0h-2V7h2v10zm4 0h-2v-4h2v4z\"/>\n",
              "    </g>\n",
              "</svg>\n",
              "      </button>\n",
              "\n",
              "<style>\n",
              "  .colab-df-quickchart {\n",
              "      --bg-color: #E8F0FE;\n",
              "      --fill-color: #1967D2;\n",
              "      --hover-bg-color: #E2EBFA;\n",
              "      --hover-fill-color: #174EA6;\n",
              "      --disabled-fill-color: #AAA;\n",
              "      --disabled-bg-color: #DDD;\n",
              "  }\n",
              "\n",
              "  [theme=dark] .colab-df-quickchart {\n",
              "      --bg-color: #3B4455;\n",
              "      --fill-color: #D2E3FC;\n",
              "      --hover-bg-color: #434B5C;\n",
              "      --hover-fill-color: #FFFFFF;\n",
              "      --disabled-bg-color: #3B4455;\n",
              "      --disabled-fill-color: #666;\n",
              "  }\n",
              "\n",
              "  .colab-df-quickchart {\n",
              "    background-color: var(--bg-color);\n",
              "    border: none;\n",
              "    border-radius: 50%;\n",
              "    cursor: pointer;\n",
              "    display: none;\n",
              "    fill: var(--fill-color);\n",
              "    height: 32px;\n",
              "    padding: 0;\n",
              "    width: 32px;\n",
              "  }\n",
              "\n",
              "  .colab-df-quickchart:hover {\n",
              "    background-color: var(--hover-bg-color);\n",
              "    box-shadow: 0 1px 2px rgba(60, 64, 67, 0.3), 0 1px 3px 1px rgba(60, 64, 67, 0.15);\n",
              "    fill: var(--button-hover-fill-color);\n",
              "  }\n",
              "\n",
              "  .colab-df-quickchart-complete:disabled,\n",
              "  .colab-df-quickchart-complete:disabled:hover {\n",
              "    background-color: var(--disabled-bg-color);\n",
              "    fill: var(--disabled-fill-color);\n",
              "    box-shadow: none;\n",
              "  }\n",
              "\n",
              "  .colab-df-spinner {\n",
              "    border: 2px solid var(--fill-color);\n",
              "    border-color: transparent;\n",
              "    border-bottom-color: var(--fill-color);\n",
              "    animation:\n",
              "      spin 1s steps(1) infinite;\n",
              "  }\n",
              "\n",
              "  @keyframes spin {\n",
              "    0% {\n",
              "      border-color: transparent;\n",
              "      border-bottom-color: var(--fill-color);\n",
              "      border-left-color: var(--fill-color);\n",
              "    }\n",
              "    20% {\n",
              "      border-color: transparent;\n",
              "      border-left-color: var(--fill-color);\n",
              "      border-top-color: var(--fill-color);\n",
              "    }\n",
              "    30% {\n",
              "      border-color: transparent;\n",
              "      border-left-color: var(--fill-color);\n",
              "      border-top-color: var(--fill-color);\n",
              "      border-right-color: var(--fill-color);\n",
              "    }\n",
              "    40% {\n",
              "      border-color: transparent;\n",
              "      border-right-color: var(--fill-color);\n",
              "      border-top-color: var(--fill-color);\n",
              "    }\n",
              "    60% {\n",
              "      border-color: transparent;\n",
              "      border-right-color: var(--fill-color);\n",
              "    }\n",
              "    80% {\n",
              "      border-color: transparent;\n",
              "      border-right-color: var(--fill-color);\n",
              "      border-bottom-color: var(--fill-color);\n",
              "    }\n",
              "    90% {\n",
              "      border-color: transparent;\n",
              "      border-bottom-color: var(--fill-color);\n",
              "    }\n",
              "  }\n",
              "</style>\n",
              "\n",
              "      <script>\n",
              "        async function quickchart(key) {\n",
              "          const quickchartButtonEl =\n",
              "            document.querySelector('#' + key + ' button');\n",
              "          quickchartButtonEl.disabled = true;  // To prevent multiple clicks.\n",
              "          quickchartButtonEl.classList.add('colab-df-spinner');\n",
              "          try {\n",
              "            const charts = await google.colab.kernel.invokeFunction(\n",
              "                'suggestCharts', [key], {});\n",
              "          } catch (error) {\n",
              "            console.error('Error during call to suggestCharts:', error);\n",
              "          }\n",
              "          quickchartButtonEl.classList.remove('colab-df-spinner');\n",
              "          quickchartButtonEl.classList.add('colab-df-quickchart-complete');\n",
              "        }\n",
              "        (() => {\n",
              "          let quickchartButtonEl =\n",
              "            document.querySelector('#df-c9fdb563-3b1f-462c-8833-8c07c9c668a5 button');\n",
              "          quickchartButtonEl.style.display =\n",
              "            google.colab.kernel.accessAllowed ? 'block' : 'none';\n",
              "        })();\n",
              "      </script>\n",
              "    </div>\n",
              "\n",
              "    </div>\n",
              "  </div>\n"
            ],
            "application/vnd.google.colaboratory.intrinsic+json": {
              "type": "dataframe",
              "variable_name": "df_tox",
              "summary": "{\n  \"name\": \"df_tox\",\n  \"rows\": 7950,\n  \"fields\": [\n    {\n      \"column\": \"smiles\",\n      \"properties\": {\n        \"dtype\": \"string\",\n        \"num_unique_values\": 7938,\n        \"samples\": [\n          \"Cl.CO\\\\N=C(/C(=O)N[C@H]1[C@H]2SCC(CSC3=CN=NS3)=C(N2C1=O)C(O)=O)C1=CSC(N)=N1\",\n          \"CCN(CC(C)=C)C1=C(C=C(C=C1[N+]([O-])=O)C(F)(F)F)[N+]([O-])=O\",\n          \"CC1COC2=C(C=CC=C2)N1C(=O)C(Cl)Cl\"\n        ],\n        \"semantic_type\": \"\",\n        \"description\": \"\"\n      }\n    },\n    {\n      \"column\": \"toxic\",\n      \"properties\": {\n        \"dtype\": \"number\",\n        \"std\": 0.41554153087736906,\n        \"min\": 0.0,\n        \"max\": 1.0,\n        \"num_unique_values\": 2,\n        \"samples\": [\n          1.0,\n          0.0\n        ],\n        \"semantic_type\": \"\",\n        \"description\": \"\"\n      }\n    }\n  ]\n}"
            }
          },
          "metadata": {},
          "execution_count": 28
        }
      ],
      "source": [
        "df_tox = df_toxicity.loc[:,[\"smiles\",\"TOX21_TR_LUC_GH3_Antagonist\"]].dropna()\n",
        "df_tox.columns = [\"smiles\", \"toxic\"]\n",
        "df_tox.head(5)"
      ]
    },
    {
      "cell_type": "code",
      "execution_count": 29,
      "id": "0e3cfd3d-5090-4a34-8fde-c7e6f157e144",
      "metadata": {
        "colab": {
          "base_uri": "https://localhost:8080/",
          "height": 402
        },
        "id": "0e3cfd3d-5090-4a34-8fde-c7e6f157e144",
        "outputId": "af4f00b6-2296-4d32-e1ca-dfc49b7d935f"
      },
      "outputs": [
        {
          "output_type": "execute_result",
          "data": {
            "image/png": "[encoded data removed]",
            "text/plain": [
              "<IPython.core.display.Image object>"
            ]
          },
          "metadata": {},
          "execution_count": 29
        }
      ],
      "source": [
        "from rdkit import Chem\n",
        "from rdkit.Chem import Draw\n",
        "\n",
        "# Visualize some of the molecules of this dataset\n",
        "n=6\n",
        "df_sample=df_tox.sample(n)\n",
        "\n",
        "smiles = df_sample.smiles.values\n",
        "legend = df_sample.toxic.values\n",
        "molecs = [Chem.MolFromSmiles(s) for s in smiles]\n",
        "\n",
        "Draw.MolsToGridImage(\n",
        "    molecs,\n",
        "    subImgSize=(600,300),\n",
        "    legends=[\"Toxic\" if i==1 else \"Non toxic\" for i in legend]\n",
        ")"
      ]
    },
    {
      "cell_type": "code",
      "execution_count": 30,
      "id": "b3d934d7-2b65-436f-a02f-f7115c6c977d",
      "metadata": {
        "colab": {
          "base_uri": "https://localhost:8080/"
        },
        "id": "b3d934d7-2b65-436f-a02f-f7115c6c977d",
        "outputId": "1e89e5d3-ad6b-417e-8858-d2f57cb45044"
      },
      "outputs": [
        {
          "output_type": "stream",
          "name": "stdout",
          "text": [
            "The dataset contains 7950 molecules; 1764 of them are toxic.\n"
          ]
        }
      ],
      "source": [
        "# How many toxic molecules are in the dataset?\n",
        "counts = df_tox[\"toxic\"].value_counts()\n",
        "\n",
        "print(f\"The dataset contains {counts.sum()} molecules; {counts.iloc[1]} of them are toxic.\")"
      ]
    },
    {
      "cell_type": "markdown",
      "id": "e7330eb2-1955-4f1d-92a6-7a094ad50333",
      "metadata": {
        "tags": [],
        "id": "e7330eb2-1955-4f1d-92a6-7a094ad50333"
      },
      "source": [
        "## Now, we will calculate some molecular descriptors using the [mordred package](http://mordred-descriptor.github.io/documentation/master/descriptors.html)."
      ]
    },
    {
      "cell_type": "code",
      "execution_count": 31,
      "id": "ba4b862e-4f02-445f-96c5-658bb7d1c64f",
      "metadata": {
        "colab": {
          "base_uri": "https://localhost:8080/"
        },
        "id": "ba4b862e-4f02-445f-96c5-658bb7d1c64f",
        "outputId": "abf30919-473b-4fb1-c72d-bfafb322d662"
      },
      "outputs": [
        {
          "output_type": "stream",
          "name": "stdout",
          "text": [
            "Number of molecular descriptors: 1613\n"
          ]
        }
      ],
      "source": [
        "from rdkit import Chem\n",
        "import numpy as np\n",
        "from deepchem.feat import MordredDescriptors\n",
        "\n",
        "featurizer = MordredDescriptors(ignore_3D=True)\n",
        "features = featurizer.featurize(\"CCC\")\n",
        "print(\"Number of molecular descriptors:\", features.shape[1])"
      ]
    },
    {
      "cell_type": "markdown",
      "id": "711d031a-ca7c-4cf2-a959-389fd711cdc2",
      "metadata": {
        "id": "711d031a-ca7c-4cf2-a959-389fd711cdc2"
      },
      "source": [
        "This can take a while (at least 40 minutes), you can use this time to explore a bit the more than 1600 descriptors from mordred!"
      ]
    },
    {
      "cell_type": "code",
      "execution_count": null,
      "id": "ddf18155-356f-4305-9727-1ebf3f6d90ed",
      "metadata": {
        "tags": [],
        "id": "ddf18155-356f-4305-9727-1ebf3f6d90ed"
      },
      "outputs": [],
      "source": [
        "X_raw = df_tox.smiles.apply(lambda x: featurizer.featurize(x))\n",
        "y_raw = df_tox.toxic\n",
        "\n",
        "# As you see from the warnings, mordred couldn't calculate features for a few molecules (but don't worry!)\n",
        "# Remove these molecules from the dataset\n",
        "\n",
        "# Featurizer should return array of size (1, number_of_features)\n",
        "missing = X_raw.apply(lambda x: x.shape == (1, features.shape[1]))\n",
        "\n",
        "print(f\"Dropping {(~missing).sum()} molecules that couldn't be featurized.\")\n",
        "X = X_raw[missing].values\n",
        "y = y_raw[missing].values\n",
        "\n",
        "X = np.concatenate(X)\n",
        "\n",
        "# Save\n",
        "np.save(\"data/features_tox.npy\", X)\n",
        "np.save(\"data/y_tox.npy\", y)"
      ]
    },
    {
      "cell_type": "code",
      "execution_count": null,
      "id": "4b6dc3fc-87f0-4198-a637-bb602803c49e",
      "metadata": {
        "id": "4b6dc3fc-87f0-4198-a637-bb602803c49e"
      },
      "outputs": [],
      "source": [
        "X = np.load(\"data/features_tox.npy\")\n",
        "y = np.load(\"data/y_tox.npy\")"
      ]
    },
    {
      "cell_type": "code",
      "execution_count": null,
      "id": "df19e380-eaf6-4f72-851c-ccb226f1611d",
      "metadata": {
        "id": "df19e380-eaf6-4f72-851c-ccb226f1611d"
      },
      "outputs": [],
      "source": [
        "# Challenge: Which molecules couldn't be featurized? Why?\n",
        "# Using code from above, visualize the faulty molecules.\n",
        "\n",
        "##################\n",
        "# Your code here #\n",
        "##################"
      ]
    },
    {
      "cell_type": "markdown",
      "id": "4920f04b-5cb3-4057-bac5-e7ed8eca57dc",
      "metadata": {
        "tags": [],
        "id": "4920f04b-5cb3-4057-bac5-e7ed8eca57dc"
      },
      "source": [
        "## Data splitting.\n",
        "\n",
        "For this exercise, we will do a simple train/test split as we will not optimize hyperparameters. (Maybe bonus exercise here?)"
      ]
    },
    {
      "cell_type": "code",
      "execution_count": null,
      "id": "23c46051-b3dc-4931-91ed-7904dcc1d08c",
      "metadata": {
        "id": "23c46051-b3dc-4931-91ed-7904dcc1d08c"
      },
      "outputs": [],
      "source": [
        "from sklearn.model_selection import train_test_split\n",
        "\n",
        "# train data size : test data size = 0.8 : 0.2\n",
        "# fixed seed using the random_state parameter, so it always has the same split.\n",
        "X_train, X_test, y_train, y_test = train_test_split(\n",
        "    X,\n",
        "    y,\n",
        "    train_size=0.8,\n",
        "    random_state=0\n",
        ")\n",
        "\n",
        "print(f\"Train set size is {X_train.shape[0]} rows, test set size is {X_test.shape[0]} rows.\")"
      ]
    },
    {
      "cell_type": "markdown",
      "id": "a5de382e-50de-4211-911a-08ed09bfb4a5",
      "metadata": {
        "tags": [],
        "id": "a5de382e-50de-4211-911a-08ed09bfb4a5"
      },
      "source": [
        "## Model\n",
        "\n",
        "Let's train a [Random Forest Classification](https://scikit-learn.org/stable/modules/generated/sklearn.ensemble.RandomForestClassifier.html) from scikit-learn."
      ]
    },
    {
      "cell_type": "code",
      "execution_count": null,
      "id": "33d6b738-759b-4b47-9c0f-fa0e7ca8e9b7",
      "metadata": {
        "id": "33d6b738-759b-4b47-9c0f-fa0e7ca8e9b7"
      },
      "outputs": [],
      "source": [
        "from sklearn.ensemble import RandomForestClassifier\n",
        "\n",
        "rf_clf = RandomForestClassifier(\n",
        "    n_estimators=300,\n",
        "    max_depth=10,\n",
        "    random_state=0\n",
        ")\n",
        "rf_clf.fit(X_train, y_train);"
      ]
    },
    {
      "cell_type": "markdown",
      "id": "13029e24-4b8c-45c5-9bd9-be41479dba50",
      "metadata": {
        "tags": [],
        "id": "13029e24-4b8c-45c5-9bd9-be41479dba50"
      },
      "source": [
        "### Exercise: You have already seen some cool classification algorithms in class.\n",
        "\n",
        "In this exercise, your task is to implement your 2 favorite algorithms using sklearn.\n",
        "\n",
        "Recommendations:\n",
        "\n",
        "- You can choose from [Logistic Regression](https://scikit-learn.org/stable/modules/linear_model.html#logistic-regression), [Support Vector Machines](https://scikit-learn.org/stable/modules/svm.html#classification), [Gradient Boosting](https://scikit-learn.org/stable/modules/ensemble.html#gradient-tree-boosting), or any other from the [sklearn documentation](https://scikit-learn.org/stable/supervised_learning.html).\n",
        "- Give a different name to each model. For instance, our Random Forest model is `rf_clf`."
      ]
    },
    {
      "cell_type": "code",
      "execution_count": null,
      "id": "567ec970-200c-4d22-bd40-e2e791faa004",
      "metadata": {
        "id": "567ec970-200c-4d22-bd40-e2e791faa004"
      },
      "outputs": [],
      "source": [
        "##################\n",
        "# Your code here #\n",
        "##################"
      ]
    },
    {
      "cell_type": "markdown",
      "id": "2cf09c91-bdcc-450b-ac7e-0799111fb453",
      "metadata": {
        "id": "2cf09c91-bdcc-450b-ac7e-0799111fb453"
      },
      "source": [
        "## After training these models, let's see which one worked best!\n",
        "\n",
        "For the evaluation of classification models, **we use different metrics** than evaluation of regression models. \\\n",
        "You can read more about each metric [here](https://scikit-learn.org/stable/modules/model_evaluation.html), but for this tutorial we will use [accuracy](https://scikit-learn.org/stable/modules/generated/sklearn.metrics.accuracy_score.html#sklearn.metrics.accuracy_score), [ROC-AUC](https://scikit-learn.org/stable/modules/generated/sklearn.metrics.roc_auc_score.html#sklearn.metrics.roc_auc_score), and [F1 Score](https://scikit-learn.org/stable/modules/generated/sklearn.metrics.f1_score.html#sklearn.metrics.f1_score)."
      ]
    },
    {
      "cell_type": "code",
      "execution_count": null,
      "id": "121851be-f4b9-4ac0-83e0-269ecff3de7b",
      "metadata": {
        "id": "121851be-f4b9-4ac0-83e0-269ecff3de7b"
      },
      "outputs": [],
      "source": [
        "# Let's evaluate our models\n",
        "y_pred_rf = rf_clf.predict(X_test)\n",
        "\n",
        "# Exercise: Use your models to predict the toxicity of the molecules on the test set.\n",
        "\n",
        "##################\n",
        "# Your code here #\n",
        "##################"
      ]
    },
    {
      "cell_type": "code",
      "execution_count": null,
      "id": "67108633-40d3-4cae-b45d-6f5853254dc2",
      "metadata": {
        "id": "67108633-40d3-4cae-b45d-6f5853254dc2"
      },
      "outputs": [],
      "source": [
        "from sklearn.metrics import (\n",
        "    accuracy_score,\n",
        "    roc_auc_score,\n",
        "    f1_score\n",
        ")\n",
        "\n",
        "# Let's calculate accuracy_score for all our models\n",
        "acc_rf = accuracy_score(y_test, y_pred_rf)\n",
        "print(f\"Accuracy of Random Forest Classifier is {acc_rf:.3f}\")\n",
        "auc_rf = roc_auc_score(y_test, y_pred_rf)\n",
        "print(f\"ROC-AUC of Random Forest Classifier is {auc_rf:.3f}\")\n",
        "f1s_rf = f1_score(y_test, y_pred_rf)\n",
        "print(f\"F1 Score of Random Forest Classifier is {f1s_rf:.3f}\")\n",
        "\n",
        "# Exercise: Calculate the 3 metrics for every model you trained, and compare results\n",
        "\n",
        "##################\n",
        "# Your code here #\n",
        "##################"
      ]
    },
    {
      "cell_type": "markdown",
      "id": "c2eae97b-af7f-4d3a-a834-48ed7a400587",
      "metadata": {
        "id": "c2eae97b-af7f-4d3a-a834-48ed7a400587"
      },
      "source": [
        "---\n",
        "Find out what each metric is telling us. Should we trust such high accuracies? Why is accuracy so high compared to the other metrics?\n",
        "\n",
        "YOUR ANSWER:\n",
        "\n",
        "---"
      ]
    },
    {
      "cell_type": "code",
      "execution_count": null,
      "id": "d71f8e9d-d0ef-40b4-945e-fa85507cb922",
      "metadata": {
        "id": "d71f8e9d-d0ef-40b4-945e-fa85507cb922"
      },
      "outputs": [],
      "source": [
        "# TODO let's also do confusion matrix\n",
        "from pycm import ConfusionMatrix\n",
        "\n",
        "cm = ConfusionMatrix(actual_vector=y_test, predict_vector=y_pred_rf)\n",
        "cm.relabel(mapping={0:\"Non Toxic\", 1:\"Toxic\"})\n",
        "cm.plot(number_label=True);"
      ]
    },
    {
      "cell_type": "markdown",
      "id": "410c192a-ecbf-48f4-81fc-8d67fbefc7b4",
      "metadata": {
        "id": "410c192a-ecbf-48f4-81fc-8d67fbefc7b4"
      },
      "source": [
        "# So after all what, is my molecule toxic? Let's see what our model says!"
      ]
    },
    {
      "cell_type": "code",
      "execution_count": null,
      "id": "1b927033-af33-4e0a-b561-5a89e839c28e",
      "metadata": {
        "id": "1b927033-af33-4e0a-b561-5a89e839c28e"
      },
      "outputs": [],
      "source": [
        "from IPython.display import display\n",
        "\n",
        "def is_this_toxic(molecule, model):\n",
        "    \"\"\"\n",
        "    Ask model if the input molecule (smiles) is toxic or not.\n",
        "    \"\"\"\n",
        "\n",
        "    mol = Chem.MolFromSmiles(molecule)\n",
        "\n",
        "    # Calculate features\n",
        "    X_my_mol = featurizer.featurize(molecule)\n",
        "\n",
        "    # Get model prediction\n",
        "    is_toxic = model.predict(X_my_mol)\n",
        "    is_toxic = \"This molecule is toxic!\" if is_toxic else \"This is not toxic :)\"\n",
        "\n",
        "    img = Draw.MolsToGridImage(\n",
        "        [mol],\n",
        "        subImgSize=(600,300),\n",
        "        legends=[is_toxic],\n",
        "        molsPerRow=1\n",
        "    )\n",
        "    display(img)\n",
        "\n",
        "\n",
        "\n",
        "# Define molecule here\n",
        "molecule = \"O=C1N(C)C(C2=C(N=CN2C)N1C)=O\"\n",
        "is_this_toxic(molecule, model=rf_clf)\n",
        "\n",
        "\n",
        "# Exercise: Test with your own molecule!"
      ]
    },
    {
      "cell_type": "markdown",
      "id": "095f403e-d4e8-4272-8e50-0807c4a9b21a",
      "metadata": {
        "id": "095f403e-d4e8-4272-8e50-0807c4a9b21a"
      },
      "source": [
        "---\n",
        "\n",
        "## Should I trust this though?: Interpretability and explainability.\n",
        "\n",
        "> Cool, our models know stuff, but we also want to know! \\\n",
        "> What do they look at when they predict toxicity? Is there a key feature?\n",
        "\n",
        "\\\n",
        "Model explainability is a critical component of machine learning that seeks to provide insights into how a model arrives at its predictions or decisions. In other words, it aims to make the \"black box\" of machine learning models more transparent, so that we can understand the factors that are driving the model's output.\n",
        "\n",
        "There are many different methods for achieving model explainability (more on this [here](https://www.kaggle.com/learn/machine-learning-explainability)). \\\n",
        "These techniques can help us identify which features or variables are most important in driving the model's output, and can provide insights into the model's decision-making process.\n",
        "\n",
        "### Let's explore ways of measuring feature importance, which will tell us what our models are looking out when making predictions."
      ]
    },
    {
      "cell_type": "code",
      "execution_count": null,
      "id": "78e33561-72c1-4b3a-880c-93aa79825a56",
      "metadata": {
        "id": "78e33561-72c1-4b3a-880c-93aa79825a56"
      },
      "outputs": [],
      "source": [
        "importances = pd.Series(rf_clf.feature_importances_, name=\"importance\")\n",
        "importances.index += 1\n",
        "std = pd.Series(np.std([tree.feature_importances_ for tree in rf_clf.estimators_], axis=0),\n",
        "                name=\"std\")\n",
        "\n",
        "importances = pd.concat([importances, std], axis=1)\n",
        "importances = importances.sort_values(by=\"importance\", ascending=False).iloc[:20]\n",
        "\n",
        "\n",
        "import matplotlib.pyplot as plt\n",
        "\n",
        "fig, ax = plt.subplots()\n",
        "importances[\"importance\"].plot.bar(yerr=importances[\"std\"], ax=ax)\n",
        "ax.set_title(\"Feature importances using MDI\")\n",
        "ax.set_ylabel(\"Mean decrease in impurity\")\n",
        "fig.tight_layout()"
      ]
    },
    {
      "cell_type": "markdown",
      "id": "23ca8ce8-6a53-4f72-af0c-6399a0a13c00",
      "metadata": {
        "id": "23ca8ce8-6a53-4f72-af0c-6399a0a13c00"
      },
      "source": [
        "---\n",
        "What can we learn from these results? \\\n",
        "Go to [Mordred documentation](http://mordred-descriptor.github.io/documentation/master/descriptors.html) and find these features. What are they, and do they make any sense?\n",
        "\n",
        "### Discuss\n",
        "\n",
        "---"
      ]
    },
    {
      "cell_type": "markdown",
      "metadata": {
        "id": "7dd9ebdc"
      },
      "source": [
        "The error `ValueError: numpy.dtype size changed, may indicate binary incompatibility` typically occurs when there's a mismatch in the NumPy versions used by different installed libraries. This can happen when packages are installed at different times or have conflicting dependencies.\n",
        "\n",
        "To resolve this, we can try reinstalling the relevant packages to ensure they use compatible versions of NumPy and its dependencies."
      ],
      "id": "7dd9ebdc"
    },
    {
      "cell_type": "code",
      "metadata": {
        "colab": {
          "base_uri": "https://localhost:8080/",
          "height": 1000
        },
        "id": "c6111e90",
        "outputId": "8f736281-65cf-4ad5-9940-c2e782e310c4"
      },
      "source": [
        "# Reinstall the libraries to resolve potential version conflicts\n",
        "!pip install --upgrade --force-reinstall numpy scipy matplotlib scikit-learn pandas rdkit xgboost deepchem mordred pycm"
      ],
      "id": "c6111e90",
      "execution_count": 3,
      "outputs": [
        {
          "output_type": "stream",
          "name": "stdout",
          "text": [
            "Collecting numpy\n",
            "  Downloading numpy-2.3.0-cp311-cp311-manylinux_2_28_x86_64.whl.metadata (62 kB)\n",
            "\u001b[2K     \u001b[90m━━━━━━━━━━━━━━━━━━━━━━━━━━━━━━━━━━━━━━━━\u001b[0m \u001b[32m62.1/62.1 kB\u001b[0m \u001b[31m1.7 MB/s\u001b[0m eta \u001b[36m0:00:00\u001b[0m\n",
            "\u001b[?25hCollecting scipy\n",
            "  Downloading scipy-1.15.3-cp311-cp311-manylinux_2_17_x86_64.manylinux2014_x86_64.whl.metadata (61 kB)\n",
            "\u001b[2K     \u001b[90m━━━━━━━━━━━━━━━━━━━━━━━━━━━━━━━━━━━━━━━━\u001b[0m \u001b[32m62.0/62.0 kB\u001b[0m \u001b[31m3.0 MB/s\u001b[0m eta \u001b[36m0:00:00\u001b[0m\n",
            "\u001b[?25hCollecting matplotlib\n",
            "  Downloading matplotlib-3.10.3-cp311-cp311-manylinux_2_17_x86_64.manylinux2014_x86_64.whl.metadata (11 kB)\n",
            "Collecting scikit-learn\n",
            "  Downloading scikit_learn-1.7.0-cp311-cp311-manylinux_2_17_x86_64.manylinux2014_x86_64.whl.metadata (17 kB)\n",
            "Collecting pandas\n",
            "  Downloading pandas-2.3.0-cp311-cp311-manylinux_2_17_x86_64.manylinux2014_x86_64.whl.metadata (91 kB)\n",
            "\u001b[2K     \u001b[90m━━━━━━━━━━━━━━━━━━━━━━━━━━━━━━━━━━━━━━━━\u001b[0m \u001b[32m91.2/91.2 kB\u001b[0m \u001b[31m7.8 MB/s\u001b[0m eta \u001b[36m0:00:00\u001b[0m\n",
            "\u001b[?25hCollecting rdkit\n",
            "  Using cached rdkit-2025.3.2-cp311-cp311-manylinux_2_28_x86_64.whl.metadata (4.0 kB)\n",
            "Collecting xgboost\n",
            "  Downloading xgboost-3.0.2-py3-none-manylinux_2_28_x86_64.whl.metadata (2.1 kB)\n",
            "Collecting deepchem\n",
            "  Using cached deepchem-2.8.0-py3-none-any.whl.metadata (2.0 kB)\n",
            "Collecting mordred\n",
            "  Using cached mordred-1.2.0-py3-none-any.whl\n",
            "Collecting pycm\n",
            "  Using cached pycm-4.3-py3-none-any.whl.metadata (50 kB)\n",
            "Collecting contourpy>=1.0.1 (from matplotlib)\n",
            "  Downloading contourpy-1.3.2-cp311-cp311-manylinux_2_17_x86_64.manylinux2014_x86_64.whl.metadata (5.5 kB)\n",
            "Collecting cycler>=0.10 (from matplotlib)\n",
            "  Downloading cycler-0.12.1-py3-none-any.whl.metadata (3.8 kB)\n",
            "Collecting fonttools>=4.22.0 (from matplotlib)\n",
            "  Downloading fonttools-4.58.2-cp311-cp311-manylinux_2_17_x86_64.manylinux2014_x86_64.whl.metadata (106 kB)\n",
            "\u001b[2K     \u001b[90m━━━━━━━━━━━━━━━━━━━━━━━━━━━━━━━━━━━━━━━\u001b[0m \u001b[32m106.3/106.3 kB\u001b[0m \u001b[31m7.1 MB/s\u001b[0m eta \u001b[36m0:00:00\u001b[0m\n",
            "\u001b[?25hCollecting kiwisolver>=1.3.1 (from matplotlib)\n",
            "  Downloading kiwisolver-1.4.8-cp311-cp311-manylinux_2_17_x86_64.manylinux2014_x86_64.whl.metadata (6.2 kB)\n",
            "Collecting packaging>=20.0 (from matplotlib)\n",
            "  Downloading packaging-25.0-py3-none-any.whl.metadata (3.3 kB)\n",
            "Collecting pillow>=8 (from matplotlib)\n",
            "  Downloading pillow-11.2.1-cp311-cp311-manylinux_2_28_x86_64.whl.metadata (8.9 kB)\n",
            "Collecting pyparsing>=2.3.1 (from matplotlib)\n",
            "  Downloading pyparsing-3.2.3-py3-none-any.whl.metadata (5.0 kB)\n",
            "Collecting python-dateutil>=2.7 (from matplotlib)\n",
            "  Downloading python_dateutil-2.9.0.post0-py2.py3-none-any.whl.metadata (8.4 kB)\n",
            "Collecting joblib>=1.2.0 (from scikit-learn)\n",
            "  Downloading joblib-1.5.1-py3-none-any.whl.metadata (5.6 kB)\n",
            "Collecting threadpoolctl>=3.1.0 (from scikit-learn)\n",
            "  Downloading threadpoolctl-3.6.0-py3-none-any.whl.metadata (13 kB)\n",
            "Collecting pytz>=2020.1 (from pandas)\n",
            "  Downloading pytz-2025.2-py2.py3-none-any.whl.metadata (22 kB)\n",
            "Collecting tzdata>=2022.7 (from pandas)\n",
            "  Downloading tzdata-2025.2-py2.py3-none-any.whl.metadata (1.4 kB)\n",
            "Collecting nvidia-nccl-cu12 (from xgboost)\n",
            "  Downloading nvidia_nccl_cu12-2.27.3-py3-none-manylinux2014_x86_64.manylinux_2_17_x86_64.whl.metadata (2.0 kB)\n",
            "Collecting sympy (from deepchem)\n",
            "  Downloading sympy-1.14.0-py3-none-any.whl.metadata (12 kB)\n",
            "Collecting six==1.* (from mordred)\n",
            "  Downloading six-1.17.0-py2.py3-none-any.whl.metadata (1.7 kB)\n",
            "Collecting numpy\n",
            "  Using cached numpy-1.26.4-cp311-cp311-manylinux_2_17_x86_64.manylinux2014_x86_64.whl.metadata (61 kB)\n",
            "Collecting networkx==2.* (from mordred)\n",
            "  Using cached networkx-2.8.8-py3-none-any.whl.metadata (5.1 kB)\n",
            "Collecting art>=1.8 (from pycm)\n",
            "  Using cached art-6.5-py3-none-any.whl.metadata (72 kB)\n",
            "Collecting mpmath<1.4,>=1.1.0 (from sympy->deepchem)\n",
            "  Downloading mpmath-1.3.0-py3-none-any.whl.metadata (8.6 kB)\n",
            "Downloading scipy-1.15.3-cp311-cp311-manylinux_2_17_x86_64.manylinux2014_x86_64.whl (37.7 MB)\n",
            "\u001b[2K   \u001b[90m━━━━━━━━━━━━━━━━━━━━━━━━━━━━━━━━━━━━━━━━\u001b[0m \u001b[32m37.7/37.7 MB\u001b[0m \u001b[31m30.4 MB/s\u001b[0m eta \u001b[36m0:00:00\u001b[0m\n",
            "\u001b[?25hDownloading matplotlib-3.10.3-cp311-cp311-manylinux_2_17_x86_64.manylinux2014_x86_64.whl (8.6 MB)\n",
            "\u001b[2K   \u001b[90m━━━━━━━━━━━━━━━━━━━━━━━━━━━━━━━━━━━━━━━━\u001b[0m \u001b[32m8.6/8.6 MB\u001b[0m \u001b[31m75.5 MB/s\u001b[0m eta \u001b[36m0:00:00\u001b[0m\n",
            "\u001b[?25hDownloading scikit_learn-1.7.0-cp311-cp311-manylinux_2_17_x86_64.manylinux2014_x86_64.whl (12.9 MB)\n",
            "\u001b[2K   \u001b[90m━━━━━━━━━━━━━━━━━━━━━━━━━━━━━━━━━━━━━━━━\u001b[0m \u001b[32m12.9/12.9 MB\u001b[0m \u001b[31m59.5 MB/s\u001b[0m eta \u001b[36m0:00:00\u001b[0m\n",
            "\u001b[?25hDownloading pandas-2.3.0-cp311-cp311-manylinux_2_17_x86_64.manylinux2014_x86_64.whl (12.4 MB)\n",
            "\u001b[2K   \u001b[90m━━━━━━━━━━━━━━━━━━━━━━━━━━━━━━━━━━━━━━━━\u001b[0m \u001b[32m12.4/12.4 MB\u001b[0m \u001b[31m63.6 MB/s\u001b[0m eta \u001b[36m0:00:00\u001b[0m\n",
            "\u001b[?25hUsing cached rdkit-2025.3.2-cp311-cp311-manylinux_2_28_x86_64.whl (35.2 MB)\n",
            "Downloading xgboost-3.0.2-py3-none-manylinux_2_28_x86_64.whl (253.9 MB)\n",
            "\u001b[2K   \u001b[90m━━━━━━━━━━━━━━━━━━━━━━━━━━━━━━━━━━━━━━━━\u001b[0m \u001b[32m253.9/253.9 MB\u001b[0m \u001b[31m5.7 MB/s\u001b[0m eta \u001b[36m0:00:00\u001b[0m\n",
            "\u001b[?25hUsing cached deepchem-2.8.0-py3-none-any.whl (1.0 MB)\n",
            "Using cached numpy-1.26.4-cp311-cp311-manylinux_2_17_x86_64.manylinux2014_x86_64.whl (18.3 MB)\n",
            "Using cached networkx-2.8.8-py3-none-any.whl (2.0 MB)\n",
            "Downloading six-1.17.0-py2.py3-none-any.whl (11 kB)\n",
            "Using cached pycm-4.3-py3-none-any.whl (70 kB)\n",
            "Using cached art-6.5-py3-none-any.whl (610 kB)\n",
            "Downloading contourpy-1.3.2-cp311-cp311-manylinux_2_17_x86_64.manylinux2014_x86_64.whl (326 kB)\n",
            "\u001b[2K   \u001b[90m━━━━━━━━━━━━━━━━━━━━━━━━━━━━━━━━━━━━━━━━\u001b[0m \u001b[32m326.2/326.2 kB\u001b[0m \u001b[31m18.0 MB/s\u001b[0m eta \u001b[36m0:00:00\u001b[0m\n",
            "\u001b[?25hDownloading cycler-0.12.1-py3-none-any.whl (8.3 kB)\n",
            "Downloading fonttools-4.58.2-cp311-cp311-manylinux_2_17_x86_64.manylinux2014_x86_64.whl (4.9 MB)\n",
            "\u001b[2K   \u001b[90m━━━━━━━━━━━━━━━━━━━━━━━━━━━━━━━━━━━━━━━━\u001b[0m \u001b[32m4.9/4.9 MB\u001b[0m \u001b[31m79.5 MB/s\u001b[0m eta \u001b[36m0:00:00\u001b[0m\n",
            "\u001b[?25hDownloading joblib-1.5.1-py3-none-any.whl (307 kB)\n",
            "\u001b[2K   \u001b[90m━━━━━━━━━━━━━━━━━━━━━━━━━━━━━━━━━━━━━━━━\u001b[0m \u001b[32m307.7/307.7 kB\u001b[0m \u001b[31m19.1 MB/s\u001b[0m eta \u001b[36m0:00:00\u001b[0m\n",
            "\u001b[?25hDownloading kiwisolver-1.4.8-cp311-cp311-manylinux_2_17_x86_64.manylinux2014_x86_64.whl (1.4 MB)\n",
            "\u001b[2K   \u001b[90m━━━━━━━━━━━━━━━━━━━━━━━━━━━━━━━━━━━━━━━━\u001b[0m \u001b[32m1.4/1.4 MB\u001b[0m \u001b[31m58.5 MB/s\u001b[0m eta \u001b[36m0:00:00\u001b[0m\n",
            "\u001b[?25hDownloading packaging-25.0-py3-none-any.whl (66 kB)\n",
            "\u001b[2K   \u001b[90m━━━━━━━━━━━━━━━━━━━━━━━━━━━━━━━━━━━━━━━━\u001b[0m \u001b[32m66.5/66.5 kB\u001b[0m \u001b[31m4.3 MB/s\u001b[0m eta \u001b[36m0:00:00\u001b[0m\n",
            "\u001b[?25hDownloading pillow-11.2.1-cp311-cp311-manylinux_2_28_x86_64.whl (4.6 MB)\n",
            "\u001b[2K   \u001b[90m━━━━━━━━━━━━━━━━━━━━━━━━━━━━━━━━━━━━━━━━\u001b[0m \u001b[32m4.6/4.6 MB\u001b[0m \u001b[31m96.7 MB/s\u001b[0m eta \u001b[36m0:00:00\u001b[0m\n",
            "\u001b[?25hDownloading pyparsing-3.2.3-py3-none-any.whl (111 kB)\n",
            "\u001b[2K   \u001b[90m━━━━━━━━━━━━━━━━━━━━━━━━━━━━━━━━━━━━━━━━\u001b[0m \u001b[32m111.1/111.1 kB\u001b[0m \u001b[31m8.1 MB/s\u001b[0m eta \u001b[36m0:00:00\u001b[0m\n",
            "\u001b[?25hDownloading python_dateutil-2.9.0.post0-py2.py3-none-any.whl (229 kB)\n",
            "\u001b[2K   \u001b[90m━━━━━━━━━━━━━━━━━━━━━━━━━━━━━━━━━━━━━━━━\u001b[0m \u001b[32m229.9/229.9 kB\u001b[0m \u001b[31m15.0 MB/s\u001b[0m eta \u001b[36m0:00:00\u001b[0m\n",
            "\u001b[?25hDownloading pytz-2025.2-py2.py3-none-any.whl (509 kB)\n",
            "\u001b[2K   \u001b[90m━━━━━━━━━━━━━━━━━━━━━━━━━━━━━━━━━━━━━━━━\u001b[0m \u001b[32m509.2/509.2 kB\u001b[0m \u001b[31m30.6 MB/s\u001b[0m eta \u001b[36m0:00:00\u001b[0m\n",
            "\u001b[?25hDownloading threadpoolctl-3.6.0-py3-none-any.whl (18 kB)\n",
            "Downloading tzdata-2025.2-py2.py3-none-any.whl (347 kB)\n",
            "\u001b[2K   \u001b[90m━━━━━━━━━━━━━━━━━━━━━━━━━━━━━━━━━━━━━━━━\u001b[0m \u001b[32m347.8/347.8 kB\u001b[0m \u001b[31m23.5 MB/s\u001b[0m eta \u001b[36m0:00:00\u001b[0m\n",
            "\u001b[?25hDownloading nvidia_nccl_cu12-2.27.3-py3-none-manylinux2014_x86_64.manylinux_2_17_x86_64.whl (322.4 MB)\n",
            "\u001b[2K   \u001b[90m━━━━━━━━━━━━━━━━━━━━━━━━━━━━━━━━━━━━━━━━\u001b[0m \u001b[32m322.4/322.4 MB\u001b[0m \u001b[31m4.6 MB/s\u001b[0m eta \u001b[36m0:00:00\u001b[0m\n",
            "\u001b[?25hDownloading sympy-1.14.0-py3-none-any.whl (6.3 MB)\n",
            "\u001b[2K   \u001b[90m━━━━━━━━━━━━━━━━━━━━━━━━━━━━━━━━━━━━━━━━\u001b[0m \u001b[32m6.3/6.3 MB\u001b[0m \u001b[31m71.3 MB/s\u001b[0m eta \u001b[36m0:00:00\u001b[0m\n",
            "\u001b[?25hDownloading mpmath-1.3.0-py3-none-any.whl (536 kB)\n",
            "\u001b[2K   \u001b[90m━━━━━━━━━━━━━━━━━━━━━━━━━━━━━━━━━━━━━━━━\u001b[0m \u001b[32m536.2/536.2 kB\u001b[0m \u001b[31m31.5 MB/s\u001b[0m eta \u001b[36m0:00:00\u001b[0m\n",
            "\u001b[?25hInstalling collected packages: pytz, mpmath, tzdata, threadpoolctl, sympy, six, pyparsing, pillow, packaging, nvidia-nccl-cu12, numpy, networkx, kiwisolver, joblib, fonttools, cycler, art, scipy, rdkit, python-dateutil, pycm, mordred, contourpy, xgboost, scikit-learn, pandas, matplotlib, deepchem\n",
            "  Attempting uninstall: pytz\n",
            "    Found existing installation: pytz 2025.2\n",
            "    Uninstalling pytz-2025.2:\n",
            "      Successfully uninstalled pytz-2025.2\n",
            "  Attempting uninstall: mpmath\n",
            "    Found existing installation: mpmath 1.3.0\n",
            "    Uninstalling mpmath-1.3.0:\n",
            "      Successfully uninstalled mpmath-1.3.0\n",
            "  Attempting uninstall: tzdata\n",
            "    Found existing installation: tzdata 2025.2\n",
            "    Uninstalling tzdata-2025.2:\n",
            "      Successfully uninstalled tzdata-2025.2\n",
            "  Attempting uninstall: threadpoolctl\n",
            "    Found existing installation: threadpoolctl 3.6.0\n",
            "    Uninstalling threadpoolctl-3.6.0:\n",
            "      Successfully uninstalled threadpoolctl-3.6.0\n",
            "  Attempting uninstall: sympy\n",
            "    Found existing installation: sympy 1.13.1\n",
            "    Uninstalling sympy-1.13.1:\n",
            "      Successfully uninstalled sympy-1.13.1\n",
            "  Attempting uninstall: six\n",
            "    Found existing installation: six 1.17.0\n",
            "    Uninstalling six-1.17.0:\n",
            "      Successfully uninstalled six-1.17.0\n",
            "  Attempting uninstall: pyparsing\n",
            "    Found existing installation: pyparsing 3.2.3\n",
            "    Uninstalling pyparsing-3.2.3:\n",
            "      Successfully uninstalled pyparsing-3.2.3\n",
            "  Attempting uninstall: pillow\n",
            "    Found existing installation: pillow 11.2.1\n",
            "    Uninstalling pillow-11.2.1:\n",
            "      Successfully uninstalled pillow-11.2.1\n",
            "  Attempting uninstall: packaging\n",
            "    Found existing installation: packaging 24.2\n",
            "    Uninstalling packaging-24.2:\n",
            "      Successfully uninstalled packaging-24.2\n",
            "  Attempting uninstall: nvidia-nccl-cu12\n",
            "    Found existing installation: nvidia-nccl-cu12 2.21.5\n",
            "    Uninstalling nvidia-nccl-cu12-2.21.5:\n",
            "      Successfully uninstalled nvidia-nccl-cu12-2.21.5\n",
            "  Attempting uninstall: numpy\n",
            "    Found existing installation: numpy 1.26.4\n",
            "    Uninstalling numpy-1.26.4:\n",
            "      Successfully uninstalled numpy-1.26.4\n",
            "  Attempting uninstall: networkx\n",
            "    Found existing installation: networkx 2.8.8\n",
            "    Uninstalling networkx-2.8.8:\n",
            "      Successfully uninstalled networkx-2.8.8\n",
            "  Attempting uninstall: kiwisolver\n",
            "    Found existing installation: kiwisolver 1.4.8\n",
            "    Uninstalling kiwisolver-1.4.8:\n",
            "      Successfully uninstalled kiwisolver-1.4.8\n",
            "  Attempting uninstall: joblib\n",
            "    Found existing installation: joblib 1.5.1\n",
            "    Uninstalling joblib-1.5.1:\n",
            "      Successfully uninstalled joblib-1.5.1\n",
            "  Attempting uninstall: fonttools\n",
            "    Found existing installation: fonttools 4.58.1\n",
            "    Uninstalling fonttools-4.58.1:\n",
            "      Successfully uninstalled fonttools-4.58.1\n",
            "  Attempting uninstall: cycler\n",
            "    Found existing installation: cycler 0.12.1\n",
            "    Uninstalling cycler-0.12.1:\n",
            "      Successfully uninstalled cycler-0.12.1\n",
            "  Attempting uninstall: art\n",
            "    Found existing installation: art 6.5\n",
            "    Uninstalling art-6.5:\n",
            "      Successfully uninstalled art-6.5\n",
            "  Attempting uninstall: scipy\n",
            "    Found existing installation: scipy 1.15.3\n",
            "    Uninstalling scipy-1.15.3:\n",
            "      Successfully uninstalled scipy-1.15.3\n",
            "  Attempting uninstall: rdkit\n",
            "    Found existing installation: rdkit 2025.3.2\n",
            "    Uninstalling rdkit-2025.3.2:\n",
            "      Successfully uninstalled rdkit-2025.3.2\n",
            "  Attempting uninstall: python-dateutil\n",
            "    Found existing installation: python-dateutil 2.9.0.post0\n",
            "    Uninstalling python-dateutil-2.9.0.post0:\n",
            "      Successfully uninstalled python-dateutil-2.9.0.post0\n",
            "  Attempting uninstall: pycm\n",
            "    Found existing installation: pycm 4.3\n",
            "    Uninstalling pycm-4.3:\n",
            "      Successfully uninstalled pycm-4.3\n",
            "  Attempting uninstall: mordred\n",
            "    Found existing installation: mordred 1.2.0\n",
            "    Uninstalling mordred-1.2.0:\n",
            "      Successfully uninstalled mordred-1.2.0\n",
            "  Attempting uninstall: contourpy\n",
            "    Found existing installation: contourpy 1.3.2\n",
            "    Uninstalling contourpy-1.3.2:\n",
            "      Successfully uninstalled contourpy-1.3.2\n",
            "  Attempting uninstall: xgboost\n",
            "    Found existing installation: xgboost 2.1.4\n",
            "    Uninstalling xgboost-2.1.4:\n",
            "      Successfully uninstalled xgboost-2.1.4\n",
            "  Attempting uninstall: scikit-learn\n",
            "    Found existing installation: scikit-learn 1.6.1\n",
            "    Uninstalling scikit-learn-1.6.1:\n",
            "      Successfully uninstalled scikit-learn-1.6.1\n",
            "  Attempting uninstall: pandas\n",
            "    Found existing installation: pandas 2.2.2\n",
            "    Uninstalling pandas-2.2.2:\n",
            "      Successfully uninstalled pandas-2.2.2\n",
            "  Attempting uninstall: matplotlib\n",
            "    Found existing installation: matplotlib 3.10.0\n",
            "    Uninstalling matplotlib-3.10.0:\n",
            "      Successfully uninstalled matplotlib-3.10.0\n",
            "  Attempting uninstall: deepchem\n",
            "    Found existing installation: deepchem 2.8.0\n",
            "    Uninstalling deepchem-2.8.0:\n",
            "      Successfully uninstalled deepchem-2.8.0\n",
            "\u001b[31mERROR: pip's dependency resolver does not currently take into account all the packages that are installed. This behaviour is the source of the following dependency conflicts.\n",
            "google-colab 1.0.0 requires pandas==2.2.2, but you have pandas 2.3.0 which is incompatible.\n",
            "langchain-core 0.3.63 requires packaging<25,>=23.2, but you have packaging 25.0 which is incompatible.\n",
            "dask-cudf-cu12 25.2.2 requires pandas<2.2.4dev0,>=2.0, but you have pandas 2.3.0 which is incompatible.\n",
            "torch 2.6.0+cu124 requires nvidia-cublas-cu12==12.4.5.8; platform_system == \"Linux\" and platform_machine == \"x86_64\", but you have nvidia-cublas-cu12 12.5.3.2 which is incompatible.\n",
            "torch 2.6.0+cu124 requires nvidia-cuda-cupti-cu12==12.4.127; platform_system == \"Linux\" and platform_machine == \"x86_64\", but you have nvidia-cuda-cupti-cu12 12.5.82 which is incompatible.\n",
            "torch 2.6.0+cu124 requires nvidia-cuda-nvrtc-cu12==12.4.127; platform_system == \"Linux\" and platform_machine == \"x86_64\", but you have nvidia-cuda-nvrtc-cu12 12.5.82 which is incompatible.\n",
            "torch 2.6.0+cu124 requires nvidia-cuda-runtime-cu12==12.4.127; platform_system == \"Linux\" and platform_machine == \"x86_64\", but you have nvidia-cuda-runtime-cu12 12.5.82 which is incompatible.\n",
            "torch 2.6.0+cu124 requires nvidia-cudnn-cu12==9.1.0.70; platform_system == \"Linux\" and platform_machine == \"x86_64\", but you have nvidia-cudnn-cu12 9.3.0.75 which is incompatible.\n",
            "torch 2.6.0+cu124 requires nvidia-cufft-cu12==11.2.1.3; platform_system == \"Linux\" and platform_machine == \"x86_64\", but you have nvidia-cufft-cu12 11.2.3.61 which is incompatible.\n",
            "torch 2.6.0+cu124 requires nvidia-curand-cu12==10.3.5.147; platform_system == \"Linux\" and platform_machine == \"x86_64\", but you have nvidia-curand-cu12 10.3.6.82 which is incompatible.\n",
            "torch 2.6.0+cu124 requires nvidia-cusolver-cu12==11.6.1.9; platform_system == \"Linux\" and platform_machine == \"x86_64\", but you have nvidia-cusolver-cu12 11.6.3.83 which is incompatible.\n",
            "torch 2.6.0+cu124 requires nvidia-cusparse-cu12==12.3.1.170; platform_system == \"Linux\" and platform_machine == \"x86_64\", but you have nvidia-cusparse-cu12 12.5.1.3 which is incompatible.\n",
            "torch 2.6.0+cu124 requires nvidia-nccl-cu12==2.21.5; platform_system == \"Linux\" and platform_machine == \"x86_64\", but you have nvidia-nccl-cu12 2.27.3 which is incompatible.\n",
            "torch 2.6.0+cu124 requires nvidia-nvjitlink-cu12==12.4.127; platform_system == \"Linux\" and platform_machine == \"x86_64\", but you have nvidia-nvjitlink-cu12 12.5.82 which is incompatible.\n",
            "torch 2.6.0+cu124 requires sympy==1.13.1; python_version >= \"3.9\", but you have sympy 1.14.0 which is incompatible.\n",
            "cudf-cu12 25.2.1 requires pandas<2.2.4dev0,>=2.0, but you have pandas 2.3.0 which is incompatible.\n",
            "nx-cugraph-cu12 25.2.0 requires networkx>=3.2, but you have networkx 2.8.8 which is incompatible.\n",
            "scikit-image 0.25.2 requires networkx>=3.0, but you have networkx 2.8.8 which is incompatible.\n",
            "thinc 8.3.6 requires numpy<3.0.0,>=2.0.0, but you have numpy 1.26.4 which is incompatible.\n",
            "sklearn-compat 0.1.3 requires scikit-learn<1.7,>=1.2, but you have scikit-learn 1.7.0 which is incompatible.\u001b[0m\u001b[31m\n",
            "\u001b[0mSuccessfully installed art-6.5 contourpy-1.3.2 cycler-0.12.1 deepchem-2.8.0 fonttools-4.58.2 joblib-1.5.1 kiwisolver-1.4.8 matplotlib-3.10.3 mordred-1.2.0 mpmath-1.3.0 networkx-2.8.8 numpy-1.26.4 nvidia-nccl-cu12-2.27.3 packaging-25.0 pandas-2.3.0 pillow-11.2.1 pycm-4.3 pyparsing-3.2.3 python-dateutil-2.9.0.post0 pytz-2025.2 rdkit-2025.3.2 scikit-learn-1.7.0 scipy-1.15.3 six-1.17.0 sympy-1.14.0 threadpoolctl-3.6.0 tzdata-2025.2 xgboost-3.0.2\n"
          ]
        },
        {
          "output_type": "display_data",
          "data": {
            "application/vnd.colab-display-data+json": {
              "pip_warning": {
                "packages": [
                  "PIL",
                  "cycler",
                  "dateutil",
                  "joblib",
                  "kiwisolver",
                  "six"
                ]
              },
              "id": "1a57caf60ef747c183429ffa4f77ab47"
            }
          },
          "metadata": {}
        }
      ]
    }
  ],
  "metadata": {
    "kernelspec": {
      "display_name": "Python 3.9.12 ('base')",
      "language": "python",
      "name": "python3"
    },
    "language_info": {
      "codemirror_mode": {
        "name": "ipython",
        "version": 3
      },
      "file_extension": ".py",
      "mimetype": "text/x-python",
      "name": "python",
      "nbconvert_exporter": "python",
      "pygments_lexer": "ipython3",
      "version": "3.9.12"
    },
    "vscode": {
      "interpreter": {
        "hash": "e1b1e114f4dae097b9e32029c5d22d73dc21a5dd723446d46774bd2adced9390"
      }
    },
    "colab": {
      "provenance": []
    }
  },
  "nbformat": 4,
  "nbformat_minor": 5
}